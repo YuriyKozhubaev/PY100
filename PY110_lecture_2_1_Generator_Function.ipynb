{
  "nbformat": 4,
  "nbformat_minor": 0,
  "metadata": {
    "kernelspec": {
      "name": "python3",
      "display_name": "Python 3"
    },
    "language_info": {
      "name": "python"
    },
    "colab": {
      "provenance": [],
      "collapsed_sections": [
        "ZneJgBUXfU2N",
        "8Z3qrCL1fU2W",
        "h-rnrGTsfU2W"
      ],
      "include_colab_link": true
    }
  },
  "cells": [
    {
      "cell_type": "markdown",
      "metadata": {
        "id": "view-in-github",
        "colab_type": "text"
      },
      "source": [
        "<a href=\"https://colab.research.google.com/github/YuriyKozhubaev/PY100/blob/main/PY110_lecture_2_1_Generator_Function.ipynb\" target=\"_parent\"><img src=\"https://colab.research.google.com/assets/colab-badge.svg\" alt=\"Open In Colab\"/></a>"
      ]
    },
    {
      "cell_type": "markdown",
      "metadata": {
        "id": "yDzIrdRqfU1l"
      },
      "source": [
        "# Функции-генераторы"
      ]
    },
    {
      "cell_type": "markdown",
      "metadata": {
        "id": "ndzU231jfU1v"
      },
      "source": [
        "![common iterators description](https://github.com/aeksei/py110-lecture/blob/master/images/generators.png?raw=true)"
      ]
    },
    {
      "cell_type": "markdown",
      "metadata": {
        "id": "FHlpp012f1Wv"
      },
      "source": [
        "## Выражения генераторы \n",
        "Быстро освежим в памяти как работают comprehensions"
      ]
    },
    {
      "cell_type": "code",
      "metadata": {
        "trusted": true,
        "id": "AsunVlSuf1Wv"
      },
      "source": [
        "a = [i for i in range(1, 12, 3)]  \n",
        "b = {i for i in \"hello, world\"}\n",
        "c = {i: i.upper() for i in \"abcdefghijklm\"}"
      ],
      "execution_count": null,
      "outputs": []
    },
    {
      "cell_type": "code",
      "metadata": {
        "trusted": true,
        "id": "ar5XTNIGf1Ww",
        "colab": {
          "base_uri": "https://localhost:8080/"
        },
        "outputId": "64643659-e5c9-40e9-a729-f847e792b2e5"
      },
      "source": [
        "print(a)\n",
        "print(b)\n",
        "print(c)"
      ],
      "execution_count": null,
      "outputs": [
        {
          "output_type": "stream",
          "name": "stdout",
          "text": [
            "[1, 4, 7, 10]\n",
            "{'w', 'e', 'o', ' ', 'r', ',', 'h', 'l', 'd'}\n",
            "{'a': 'A', 'b': 'B', 'c': 'C', 'd': 'D', 'e': 'E', 'f': 'F', 'g': 'G', 'h': 'H', 'i': 'I', 'j': 'J', 'k': 'K', 'l': 'L', 'm': 'M'}\n"
          ]
        }
      ]
    },
    {
      "cell_type": "code",
      "metadata": {
        "trusted": true,
        "id": "BxDjNowEf1Wx"
      },
      "source": [
        "# Примеры чуть посложнее:\n",
        "my_list = list(range(10))\n",
        "x = [i**3 for i in my_list if i > 4 and i % 2 == 1]\n",
        "y = {f\"{x} * {y}\": x * y for x in range(10) for y in range(7, 0 ,-1) if x * y > 10}"
      ],
      "execution_count": null,
      "outputs": []
    },
    {
      "cell_type": "code",
      "metadata": {
        "trusted": true,
        "id": "xl9iEjRSf1Wx",
        "colab": {
          "base_uri": "https://localhost:8080/"
        },
        "outputId": "75b7cf48-4338-4097-db97-29ee4715ddcd"
      },
      "source": [
        "print(x)\n",
        "print(y)"
      ],
      "execution_count": null,
      "outputs": [
        {
          "output_type": "stream",
          "name": "stdout",
          "text": [
            "[125, 343, 729]\n",
            "{'2 * 7': 14, '2 * 6': 12, '3 * 7': 21, '3 * 6': 18, '3 * 5': 15, '3 * 4': 12, '4 * 7': 28, '4 * 6': 24, '4 * 5': 20, '4 * 4': 16, '4 * 3': 12, '5 * 7': 35, '5 * 6': 30, '5 * 5': 25, '5 * 4': 20, '5 * 3': 15, '6 * 7': 42, '6 * 6': 36, '6 * 5': 30, '6 * 4': 24, '6 * 3': 18, '6 * 2': 12, '7 * 7': 49, '7 * 6': 42, '7 * 5': 35, '7 * 4': 28, '7 * 3': 21, '7 * 2': 14, '8 * 7': 56, '8 * 6': 48, '8 * 5': 40, '8 * 4': 32, '8 * 3': 24, '8 * 2': 16, '9 * 7': 63, '9 * 6': 54, '9 * 5': 45, '9 * 4': 36, '9 * 3': 27, '9 * 2': 18}\n"
          ]
        }
      ]
    },
    {
      "cell_type": "markdown",
      "metadata": {
        "id": "wmY7c413f1Wy"
      },
      "source": [
        "---\n",
        "В чем минус comprehensions?\n",
        "\n",
        "Он создает сразу объект целиком, который целиком в памяти хранится.  \n",
        "Это полезно для словарей и множеств, а также для списков,  \n",
        "с которыми мы потом будем много раз работать."
      ]
    },
    {
      "cell_type": "markdown",
      "metadata": {
        "id": "JwS5hRIMf1Wy"
      },
      "source": [
        "Но что, если нам нужен список, по которому мы будем перечислять и  \n",
        "он нужен только один раз?  \n",
        "А если мы его хотим бесконечной длины??\n",
        "```python\n",
        "a = [i**2 for i in itertools.count(1, 1)]\n",
        "```"
      ]
    },
    {
      "cell_type": "markdown",
      "metadata": {
        "id": "kHVWUa2gf1Wz"
      },
      "source": [
        "И тут нам на помощь приходят генераторы.  \n",
        "Они отличаются от вложений тем, что не вычисляются сразу,  \n",
        "а только в тот момент, когда мы обращаемся к следующему элементу"
      ]
    },
    {
      "cell_type": "markdown",
      "metadata": {
        "id": "q83YZNKif1Wz"
      },
      "source": [
        "Отличие от comprehensions только в том, что мы используем круглые скобки\n",
        "``` python\n",
        "a = (i**2 for i in itertools.count(1, 1))\n",
        "```\n",
        "\n",
        "Данное выражение возвращает итерируемый объект,  \n",
        "который сам по себе является итератором.  \n",
        "Т.е. можно сразу его перечислять (с помощью `for` или `next`),  \n",
        "а можно взять `iter(a)` и применять `next` к итератору (но не имеет смысла)."
      ]
    },
    {
      "cell_type": "code",
      "metadata": {
        "trusted": true,
        "id": "Sh8qDSFnf1Wz",
        "colab": {
          "base_uri": "https://localhost:8080/"
        },
        "outputId": "6c0fe5ec-bddc-4356-90d6-1a30e3bf2ec3"
      },
      "source": [
        "sqrt_gen_exp = (i ** 2 for i in range(1, 11))  # выражение генератор\n",
        "print(type(sqrt_gen_exp))"
      ],
      "execution_count": null,
      "outputs": [
        {
          "output_type": "stream",
          "name": "stdout",
          "text": [
            "<class 'generator'>\n"
          ]
        }
      ]
    },
    {
      "cell_type": "code",
      "metadata": {
        "trusted": true,
        "id": "FBxomnm5f1W0",
        "colab": {
          "base_uri": "https://localhost:8080/"
        },
        "outputId": "9867b7b7-e495-4b31-a7ba-22d495b34f34"
      },
      "source": [
        "print(next(sqrt_gen_exp))\n",
        "print(next(sqrt_gen_exp))"
      ],
      "execution_count": null,
      "outputs": [
        {
          "output_type": "stream",
          "name": "stdout",
          "text": [
            "1\n",
            "4\n"
          ]
        }
      ]
    },
    {
      "cell_type": "code",
      "metadata": {
        "trusted": true,
        "id": "HxJczqU7f1W1",
        "colab": {
          "base_uri": "https://localhost:8080/"
        },
        "outputId": "ecb1eeb0-e8b3-4cd7-fee4-5a0d1427b8af"
      },
      "source": [
        "iter(sqrt_gen_exp) "
      ],
      "execution_count": null,
      "outputs": [
        {
          "output_type": "execute_result",
          "data": {
            "text/plain": [
              "<generator object <genexpr> at 0x7f38d7fcbb50>"
            ]
          },
          "metadata": {},
          "execution_count": 7
        }
      ]
    },
    {
      "cell_type": "code",
      "metadata": {
        "trusted": true,
        "id": "I3iKWY-Qf1W3",
        "colab": {
          "base_uri": "https://localhost:8080/"
        },
        "outputId": "0c25d028-633f-46a0-cc7a-4cf6fd5582f1"
      },
      "source": [
        "sqrt_gen_exp is iter(sqrt_gen_exp) "
      ],
      "execution_count": null,
      "outputs": [
        {
          "output_type": "execute_result",
          "data": {
            "text/plain": [
              "True"
            ]
          },
          "metadata": {},
          "execution_count": 8
        }
      ]
    },
    {
      "cell_type": "markdown",
      "metadata": {
        "id": "usksHM4gf1W5"
      },
      "source": [
        "**Основной плюс генераторов** – они не хранят все элементы в памяти,  \n",
        "а вычисляют очередной элемент на момент обращения к нему.\n",
        "\n",
        "**Основной минус** – с такой записью генераторов достаточно сложно  \n",
        "реализовать сложную логику подсчета следующего элемента \n",
        "(хочу генератор чисел Фибоначчи, например)\n",
        "\n",
        "А с какой записью легче? Увидим дальше. "
      ]
    },
    {
      "cell_type": "markdown",
      "metadata": {
        "id": "yXi7ArhC3adL"
      },
      "source": [
        "## Функция-генератор"
      ]
    },
    {
      "cell_type": "markdown",
      "metadata": {
        "id": "TUmYa6dpfU1x"
      },
      "source": [
        "Выражения-генераторы позволяют нам создавать генераторы,  \n",
        "не хранящие элементы в памяти, а вычисляющие их при каждом запросе.  \n",
        "Однако, у выражений есть минус – с помощью них нельзя реализовать  \n",
        "сложную логику.  \n",
        "\n",
        "Для сложного существуют **функции-генераторы**."
      ]
    },
    {
      "cell_type": "markdown",
      "metadata": {
        "id": "qQsbe66WfU1z"
      },
      "source": [
        "```python\n",
        "def gen_function(*args, **kwargs):\n",
        "    # тело генератора\n",
        "    \n",
        "    yield result\n",
        "    \n",
        "    # конец тела генератора\n",
        "```\n",
        "\n",
        "**Функции-генераторы** – обычные функции, в которых вместо слова `return`  \n",
        "используется ключевое слово `yield`.  \n",
        "При этом при вызове функции вы получаете объект-генератор,  \n",
        "реализующий внутреннюю логику функции.  \n",
        "\n",
        "Каждый раз, когда выполняется `yield`, объект сохраняет свой контекст  \n",
        "выполнения (значения всех переменных, стек вызовов и т.д.)  \n",
        "При следующем вызове `next` к этому объекту контекст восстанавливается  \n",
        "и объект продолжает выполняться с этой же точки  "
      ]
    },
    {
      "cell_type": "code",
      "metadata": {
        "trusted": true,
        "id": "ntBG24hofU10"
      },
      "source": [
        "# попробуем реализовать бесконечный счетчик count из модуля itertools\n",
        "def count(start=1, step=1):\n",
        "    counter = start\n",
        "    while True:\n",
        "        yield counter\n",
        "        counter += step\n",
        "    return None"
      ],
      "execution_count": null,
      "outputs": []
    },
    {
      "cell_type": "code",
      "metadata": {
        "trusted": true,
        "id": "9o9wK1_ofU13",
        "colab": {
          "base_uri": "https://localhost:8080/"
        },
        "outputId": "8ca849e8-f8db-411a-e92d-5c22193a627d"
      },
      "source": [
        "my_gen_func = count(100, 10)\n",
        "for _ in range(10):\n",
        "    print(next(my_gen_func))  # с функцией генератором также работает next"
      ],
      "execution_count": null,
      "outputs": [
        {
          "output_type": "stream",
          "name": "stdout",
          "text": [
            "100\n",
            "110\n",
            "120\n",
            "130\n",
            "140\n",
            "150\n",
            "160\n",
            "170\n",
            "180\n",
            "190\n"
          ]
        }
      ]
    },
    {
      "cell_type": "code",
      "metadata": {
        "colab": {
          "base_uri": "https://localhost:8080/"
        },
        "id": "pncKdbsnvBrB",
        "outputId": "ce105ecb-fd44-4a45-d1e7-ed6bc932cc5b"
      },
      "source": [
        "my_gen_func is iter(my_gen_func)"
      ],
      "execution_count": null,
      "outputs": [
        {
          "output_type": "execute_result",
          "data": {
            "text/plain": [
              "True"
            ]
          },
          "metadata": {},
          "execution_count": 12
        }
      ]
    },
    {
      "cell_type": "code",
      "source": [
        "next(my_gen_func)"
      ],
      "metadata": {
        "colab": {
          "base_uri": "https://localhost:8080/"
        },
        "id": "cvpvUhqLfJSG",
        "outputId": "ff2fb26d-6b64-44fe-b118-b5daf4ef4153"
      },
      "execution_count": null,
      "outputs": [
        {
          "output_type": "execute_result",
          "data": {
            "text/plain": [
              "200"
            ]
          },
          "metadata": {},
          "execution_count": 8
        }
      ]
    },
    {
      "cell_type": "markdown",
      "metadata": {
        "id": "tiJqmAR4fU18"
      },
      "source": [
        "---\n",
        "Как и все генераторы, функция-генератор останавливается с вызовом `StopIteration`.  \n",
        "\n",
        "Это происходит при следующих условиях:\n",
        "1. Интерпретатор достиг конца выполнения функции и не встретил никаких инструкций\n",
        "2. В функции был выполнен return"
      ]
    },
    {
      "cell_type": "code",
      "metadata": {
        "trusted": true,
        "id": "ct09WSzDfU19",
        "colab": {
          "base_uri": "https://localhost:8080/"
        },
        "outputId": "85d77d34-791f-47ba-baf7-e5efe5673eb1"
      },
      "source": [
        "def first_gen(input_: int):\n",
        "    yield input_\n",
        "    input_ += 1\n",
        "    print(input_)\n",
        "    # return None\n",
        "    \n",
        "my_first_gen = first_gen(5)\n",
        "\n",
        "print(next(my_first_gen))"
      ],
      "execution_count": null,
      "outputs": [
        {
          "output_type": "stream",
          "name": "stdout",
          "text": [
            "5\n"
          ]
        }
      ]
    },
    {
      "cell_type": "code",
      "metadata": {
        "trusted": true,
        "id": "FAEO6hx8fU1-",
        "colab": {
          "base_uri": "https://localhost:8080/",
          "height": 204
        },
        "outputId": "60def10a-3a29-497b-836f-1c98275186bc"
      },
      "source": [
        "# StopIteration\n",
        "next(my_first_gen)  # print из тела генератор"
      ],
      "execution_count": null,
      "outputs": [
        {
          "output_type": "stream",
          "name": "stdout",
          "text": [
            "6\n"
          ]
        },
        {
          "output_type": "error",
          "ename": "StopIteration",
          "evalue": "ignored",
          "traceback": [
            "\u001b[0;31m---------------------------------------------------------------------------\u001b[0m",
            "\u001b[0;31mStopIteration\u001b[0m                             Traceback (most recent call last)",
            "\u001b[0;32m<ipython-input-10-a4413234327d>\u001b[0m in \u001b[0;36m<module>\u001b[0;34m\u001b[0m\n\u001b[1;32m      1\u001b[0m \u001b[0;31m# StopIteration\u001b[0m\u001b[0;34m\u001b[0m\u001b[0;34m\u001b[0m\u001b[0;34m\u001b[0m\u001b[0m\n\u001b[0;32m----> 2\u001b[0;31m \u001b[0mnext\u001b[0m\u001b[0;34m(\u001b[0m\u001b[0mmy_first_gen\u001b[0m\u001b[0;34m)\u001b[0m  \u001b[0;31m# print из тела генератор\u001b[0m\u001b[0;34m\u001b[0m\u001b[0;34m\u001b[0m\u001b[0m\n\u001b[0m",
            "\u001b[0;31mStopIteration\u001b[0m: "
          ]
        }
      ]
    },
    {
      "cell_type": "code",
      "metadata": {
        "trusted": true,
        "id": "_O6KRr0ffU2A",
        "colab": {
          "base_uri": "https://localhost:8080/",
          "height": 239
        },
        "outputId": "f3482290-2019-4c61-dc17-a0aeb0eb4b44"
      },
      "source": [
        "def second_gen(input_):\n",
        "    yield input_\n",
        "    input_ += 1\n",
        "    \n",
        "    yield input_\n",
        "    input_ += 1\n",
        "    \n",
        "    return input_\n",
        "    \n",
        "    \n",
        "my_second_gen = second_gen(10)\n",
        "\n",
        "print(next(my_second_gen))\n",
        "print(next(my_second_gen))\n",
        "print(next(my_second_gen))"
      ],
      "execution_count": null,
      "outputs": [
        {
          "output_type": "stream",
          "name": "stdout",
          "text": [
            "10\n",
            "11\n"
          ]
        },
        {
          "output_type": "error",
          "ename": "StopIteration",
          "evalue": "ignored",
          "traceback": [
            "\u001b[0;31m---------------------------------------------------------------------------\u001b[0m",
            "\u001b[0;31mStopIteration\u001b[0m                             Traceback (most recent call last)",
            "\u001b[0;32m<ipython-input-11-f84f0835b9b6>\u001b[0m in \u001b[0;36m<module>\u001b[0;34m\u001b[0m\n\u001b[1;32m     13\u001b[0m \u001b[0mprint\u001b[0m\u001b[0;34m(\u001b[0m\u001b[0mnext\u001b[0m\u001b[0;34m(\u001b[0m\u001b[0mmy_second_gen\u001b[0m\u001b[0;34m)\u001b[0m\u001b[0;34m)\u001b[0m\u001b[0;34m\u001b[0m\u001b[0;34m\u001b[0m\u001b[0m\n\u001b[1;32m     14\u001b[0m \u001b[0mprint\u001b[0m\u001b[0;34m(\u001b[0m\u001b[0mnext\u001b[0m\u001b[0;34m(\u001b[0m\u001b[0mmy_second_gen\u001b[0m\u001b[0;34m)\u001b[0m\u001b[0;34m)\u001b[0m\u001b[0;34m\u001b[0m\u001b[0;34m\u001b[0m\u001b[0m\n\u001b[0;32m---> 15\u001b[0;31m \u001b[0mprint\u001b[0m\u001b[0;34m(\u001b[0m\u001b[0mnext\u001b[0m\u001b[0;34m(\u001b[0m\u001b[0mmy_second_gen\u001b[0m\u001b[0;34m)\u001b[0m\u001b[0;34m)\u001b[0m\u001b[0;34m\u001b[0m\u001b[0;34m\u001b[0m\u001b[0m\n\u001b[0m",
            "\u001b[0;31mStopIteration\u001b[0m: 12"
          ]
        }
      ]
    },
    {
      "cell_type": "markdown",
      "metadata": {
        "trusted": true,
        "id": "p5whe8tWfU2E"
      },
      "source": [
        "---\n",
        "Разберем ещё один пример:"
      ]
    },
    {
      "cell_type": "code",
      "metadata": {
        "trusted": true,
        "id": "_e_CFNVAfU2E",
        "colab": {
          "base_uri": "https://localhost:8080/"
        },
        "outputId": "cfb199c0-723a-4fff-eb74-3291f78fb7f8"
      },
      "source": [
        "def my_animal_generator():\n",
        "    yield 'корова'\n",
        "    print('---')\n",
        "    for animal in ['кот', 'собака', 'медведь']:\n",
        "        yield animal\n",
        "    print('---')\n",
        "    yield 'кит'\n",
        "\n",
        "a = my_animal_generator()\n",
        "print(next(a))\n",
        "# print('---') вызван не будет"
      ],
      "execution_count": null,
      "outputs": [
        {
          "output_type": "stream",
          "name": "stdout",
          "text": [
            "корова\n"
          ]
        }
      ]
    },
    {
      "cell_type": "code",
      "metadata": {
        "trusted": true,
        "id": "NsdBWGa0fU2G",
        "colab": {
          "base_uri": "https://localhost:8080/"
        },
        "outputId": "360c9c33-e2f4-4f2a-b7f1-74c75090650f"
      },
      "source": [
        "print(next(a))\n",
        "\n",
        "for i in a:\n",
        "    print(i)"
      ],
      "execution_count": null,
      "outputs": [
        {
          "output_type": "stream",
          "name": "stdout",
          "text": [
            "---\n",
            "кот\n",
            "собака\n",
            "медведь\n",
            "---\n",
            "кит\n"
          ]
        }
      ]
    },
    {
      "cell_type": "code",
      "metadata": {
        "colab": {
          "base_uri": "https://localhost:8080/"
        },
        "id": "Dibo7hhoyQ9p",
        "outputId": "cb98e172-5642-4679-df7d-245baa049f05"
      },
      "source": [
        "for i in my_animal_generator():\n",
        "    print(i)"
      ],
      "execution_count": null,
      "outputs": [
        {
          "output_type": "stream",
          "name": "stdout",
          "text": [
            "корова\n",
            "---\n",
            "кот\n",
            "собака\n",
            "медведь\n",
            "---\n",
            "кит\n"
          ]
        }
      ]
    },
    {
      "cell_type": "markdown",
      "metadata": {
        "id": "4LhylBH4fU2H"
      },
      "source": [
        "---\n",
        "Попробуем реализивать генератор чисел Фибоначчи.  \n",
        "Последовательность чисел Фибоначчи представляет собой:  \n",
        "0, 1, 1, 2, 3, 5, 8, 13, 21, 34, 55, 89, 144, 233, 377, 610, 987, 1597, 2584, 4181, 6765, 10946, 17711 ...\n",
        "\n",
        "А общая формула имеет следующий вид:  \n",
        "\n",
        "$$F_0=0,  F_1=1$$  \n",
        "\n",
        "$$F_n=F_{n-1}+F_{n-2}, n\\geq\\ 2$$"
      ]
    },
    {
      "cell_type": "code",
      "metadata": {
        "trusted": true,
        "id": "gjdvtXJ7fU2I"
      },
      "source": [
        "def fib():\n",
        "    a, b = 0, 1\n",
        "    yield a  # F0\n",
        "    yield b  # F1\n",
        "\n",
        "    while True:\n",
        "        a, b = b, a + b\n",
        "        yield b"
      ],
      "execution_count": null,
      "outputs": []
    },
    {
      "cell_type": "code",
      "metadata": {
        "trusted": true,
        "id": "U3wlKilBfU2J",
        "colab": {
          "base_uri": "https://localhost:8080/"
        },
        "outputId": "170fee80-7f65-4628-f49b-eca9151508d5"
      },
      "source": [
        "fib_gen = fib()\n",
        "for num in fib_gen:\n",
        "    print(num)\n",
        "    if num > 10000:\n",
        "        break"
      ],
      "execution_count": null,
      "outputs": [
        {
          "output_type": "stream",
          "name": "stdout",
          "text": [
            "0\n",
            "1\n",
            "1\n",
            "2\n",
            "3\n",
            "5\n",
            "8\n",
            "13\n",
            "21\n",
            "34\n",
            "55\n",
            "89\n",
            "144\n",
            "233\n",
            "377\n",
            "610\n",
            "987\n",
            "1597\n",
            "2584\n",
            "4181\n",
            "6765\n",
            "10946\n"
          ]
        }
      ]
    },
    {
      "cell_type": "code",
      "source": [
        "next(fib_gen)"
      ],
      "metadata": {
        "colab": {
          "base_uri": "https://localhost:8080/"
        },
        "id": "cBTIM2Jv4vWy",
        "outputId": "1572de05-e8ba-4cfd-e9ef-befd4f793897"
      },
      "execution_count": null,
      "outputs": [
        {
          "output_type": "execute_result",
          "data": {
            "text/plain": [
              "17711"
            ]
          },
          "metadata": {},
          "execution_count": 22
        }
      ]
    },
    {
      "cell_type": "markdown",
      "metadata": {
        "id": "wQznbv1_fU2K"
      },
      "source": [
        "С помощью метода `close()` можно закрыть генератор  "
      ]
    },
    {
      "cell_type": "code",
      "metadata": {
        "trusted": true,
        "id": "rO_r3Y1ofU2L",
        "colab": {
          "base_uri": "https://localhost:8080/"
        },
        "outputId": "144d5312-fe99-4b7f-e98a-40e0a496ef8f"
      },
      "source": [
        "fib_gen = fib()\n",
        "fib_gen.close()  # закрыли генератор\n",
        "\n",
        "for i in fib_gen:  # цикл не выполнится ни одного раза\n",
        "    print(i)\n",
        "    \n",
        "fib_gen"
      ],
      "execution_count": null,
      "outputs": [
        {
          "output_type": "execute_result",
          "data": {
            "text/plain": [
              "<generator object fib at 0x7f38d3c52050>"
            ]
          },
          "metadata": {},
          "execution_count": 23
        }
      ]
    },
    {
      "cell_type": "code",
      "metadata": {
        "colab": {
          "base_uri": "https://localhost:8080/",
          "height": 179
        },
        "id": "ACHCW1rk1rxJ",
        "outputId": "9cd0aa15-65c1-4f3d-a78c-72d03400d0d2"
      },
      "source": [
        "next(fib_gen)"
      ],
      "execution_count": null,
      "outputs": [
        {
          "output_type": "error",
          "ename": "StopIteration",
          "evalue": "ignored",
          "traceback": [
            "\u001b[0;31m---------------------------------------------------------------------------\u001b[0m",
            "\u001b[0;31mStopIteration\u001b[0m                             Traceback (most recent call last)",
            "\u001b[0;32m<ipython-input-27-cfc0f9cdf73a>\u001b[0m in \u001b[0;36m<module>\u001b[0;34m()\u001b[0m\n\u001b[1;32m      1\u001b[0m \u001b[0;34m\u001b[0m\u001b[0m\n\u001b[0;32m----> 2\u001b[0;31m \u001b[0mnext\u001b[0m\u001b[0;34m(\u001b[0m\u001b[0mfib_gen\u001b[0m\u001b[0;34m)\u001b[0m\u001b[0;34m\u001b[0m\u001b[0;34m\u001b[0m\u001b[0m\n\u001b[0m",
            "\u001b[0;31mStopIteration\u001b[0m: "
          ]
        }
      ]
    },
    {
      "cell_type": "markdown",
      "metadata": {
        "trusted": true,
        "id": "m_W3A1jIfU2M"
      },
      "source": [
        "Итак, с помощью функции-генератора мы с вами написали эффективную реализацию последовательности чисел Фибоначчи, которой для вычисления необходимо хранить в памяти только два предыдущих числа, а вычисления происходят только в момент вызова функции-генератора. "
      ]
    },
    {
      "cell_type": "markdown",
      "metadata": {
        "trusted": true,
        "id": "qdc2WQmJfU2M"
      },
      "source": [
        "Функции генераторы применяются в тех случаях, когда вам:\n",
        "- необходимо сэкономить память при работе с массивными структурами (ленивые вычисления)\n",
        "- удобна логика работы генератора, внутри которого можно описать сложный процесс выбора\n",
        "\n",
        "Пример, который вам может пригодиться – построчное чтение 5Гб файла  \n",
        "\n",
        "Примеры модулей:\n",
        "- `keras` – генератор данных для обучения\n",
        "- `faker` – генерация фейковых данных для заполнения и тестирования объектов\n",
        "- `gmp2` – генерация простых чисел\n",
        "\n",
        "\n"
      ]
    },
    {
      "cell_type": "markdown",
      "metadata": {
        "id": "ZneJgBUXfU2N"
      },
      "source": [
        "---\n",
        "## Корутины (Coroutines)"
      ]
    },
    {
      "cell_type": "markdown",
      "metadata": {
        "id": "gwuVd4RhfU2N"
      },
      "source": [
        "В языке Python генераторы могут использоваться и в «обратную сторону» – принимая в себя внутрь значения.  \n",
        "До этого мы только получали значения из наших генераторов, посмотрим теперь, как сделать так, чтобы можно было передавать информацию внутрь нашего генератора."
      ]
    },
    {
      "cell_type": "markdown",
      "metadata": {
        "id": "7jIm70HSfU2N"
      },
      "source": [
        "Попробуем сделать, корутину, которая будет принимать некий паттерн, проверять его наличие в какой-либо строке и подсчитывать количество вхождений."
      ]
    },
    {
      "cell_type": "code",
      "metadata": {
        "trusted": true,
        "id": "J_JZi4fofU2O"
      },
      "source": [
        "def grep(pattern):\n",
        "    i = 0\n",
        "    while True:\n",
        "        line = yield  # отличие от генератора\n",
        "        if pattern in line:\n",
        "            i += 1\n",
        "            print(f\"Found! Count: {i}\")"
      ],
      "execution_count": null,
      "outputs": []
    },
    {
      "cell_type": "markdown",
      "metadata": {
        "id": "54VVIJGtfU2O"
      },
      "source": [
        "Отличие в синтаксисе только в том, что теперь слева от `yield` стоит переменная, которая будет принимать значение, которое мы передаем из вне."
      ]
    },
    {
      "cell_type": "code",
      "metadata": {
        "trusted": true,
        "id": "ZpXR9Aj_fU2P"
      },
      "source": [
        "g = grep(\"python\")  # создаем объект корутину, которой в качетве аргумента передаем паттерн"
      ],
      "execution_count": null,
      "outputs": []
    },
    {
      "cell_type": "markdown",
      "metadata": {
        "id": "N0U-Xkd1fU2P"
      },
      "source": [
        "Единственная особенность в том, чтобы запустить корутину, её нужно проинициализировать.\n",
        "Делается это с помощью команды `next(coroutine)` либо `coroutine.send(None)`, что является одним и тем же\n",
        "\n",
        "$$next(coroutine) \\equiv coroutine.send(None)$$\n",
        "\n",
        "Ранее, когда мы делали команду `next()` к нашему генератору, мы делали ему `send(None)`"
      ]
    },
    {
      "cell_type": "code",
      "metadata": {
        "trusted": true,
        "id": "uYhreWswfU2Q"
      },
      "source": [
        "# инициализируем корутину\n",
        "g.send(None)  # либо next(g)"
      ],
      "execution_count": null,
      "outputs": []
    },
    {
      "cell_type": "code",
      "metadata": {
        "trusted": true,
        "id": "lI0dtWFzfU2Q",
        "colab": {
          "base_uri": "https://localhost:8080/"
        },
        "outputId": "59576351-38d3-42bf-df80-91e398883a3a"
      },
      "source": [
        "# отправим нашей корутине, новое значение для проверки вхождения в строку\n",
        "g.send(\"some string here python\")"
      ],
      "execution_count": null,
      "outputs": [
        {
          "output_type": "stream",
          "name": "stdout",
          "text": [
            "Found! Count: 1\n"
          ]
        }
      ]
    },
    {
      "cell_type": "code",
      "metadata": {
        "trusted": true,
        "id": "3ENyFzCHfU2R"
      },
      "source": [
        "g.send(\"anouther string\")"
      ],
      "execution_count": null,
      "outputs": []
    },
    {
      "cell_type": "code",
      "metadata": {
        "trusted": true,
        "id": "8AhJxBePfU2R",
        "colab": {
          "base_uri": "https://localhost:8080/"
        },
        "outputId": "f9eff1f8-6f0a-4a8f-ae2d-773975baba9d"
      },
      "source": [
        "g.send(\"python python!!!\")"
      ],
      "execution_count": null,
      "outputs": [
        {
          "output_type": "stream",
          "name": "stdout",
          "text": [
            "Found! Count: 2\n"
          ]
        }
      ]
    },
    {
      "cell_type": "code",
      "metadata": {
        "trusted": true,
        "id": "RumRiI7FfU2S"
      },
      "source": [
        "# чтобы закрыть корутину можно использовать метод close\n",
        "g.close()"
      ],
      "execution_count": null,
      "outputs": []
    },
    {
      "cell_type": "markdown",
      "metadata": {
        "id": "W9a2fqoBfU2S"
      },
      "source": [
        "Попробуем прислать нашей корутине, первым действием что-то отличное от `None`"
      ]
    },
    {
      "cell_type": "code",
      "metadata": {
        "trusted": true,
        "id": "zf6ZLvuGfU2T",
        "colab": {
          "base_uri": "https://localhost:8080/",
          "height": 205
        },
        "outputId": "b095bf71-52b0-4a05-f0d5-75b085d89077"
      },
      "source": [
        "g = grep(\"new_pattern\")\n",
        "\n",
        "g.send(\"New string with new_pattern\")"
      ],
      "execution_count": null,
      "outputs": [
        {
          "output_type": "error",
          "ename": "TypeError",
          "evalue": "ignored",
          "traceback": [
            "\u001b[0;31m---------------------------------------------------------------------------\u001b[0m",
            "\u001b[0;31mTypeError\u001b[0m                                 Traceback (most recent call last)",
            "\u001b[0;32m<ipython-input-30-8a6f85c7e332>\u001b[0m in \u001b[0;36m<module>\u001b[0;34m()\u001b[0m\n\u001b[1;32m      1\u001b[0m \u001b[0mg\u001b[0m \u001b[0;34m=\u001b[0m \u001b[0mgrep\u001b[0m\u001b[0;34m(\u001b[0m\u001b[0;34m\"new_pattern\"\u001b[0m\u001b[0;34m)\u001b[0m\u001b[0;34m\u001b[0m\u001b[0;34m\u001b[0m\u001b[0m\n\u001b[1;32m      2\u001b[0m \u001b[0;34m\u001b[0m\u001b[0m\n\u001b[0;32m----> 3\u001b[0;31m \u001b[0mg\u001b[0m\u001b[0;34m.\u001b[0m\u001b[0msend\u001b[0m\u001b[0;34m(\u001b[0m\u001b[0;34m\"New string with new_pattern\"\u001b[0m\u001b[0;34m)\u001b[0m\u001b[0;34m\u001b[0m\u001b[0;34m\u001b[0m\u001b[0m\n\u001b[0m",
            "\u001b[0;31mTypeError\u001b[0m: can't send non-None value to a just-started generator"
          ]
        }
      ]
    },
    {
      "cell_type": "markdown",
      "metadata": {
        "id": "F3QS3TxgfU2T"
      },
      "source": [
        "И получим соответсвующую ошибку, что только что стартовавшему генератору, нельзя присылать значение отличное от `None`"
      ]
    },
    {
      "cell_type": "markdown",
      "metadata": {
        "id": "TeShMV1-fU2U"
      },
      "source": [
        "---\n",
        "Рассмотрим момент, который окончательно \"вынесет мозг\". Это когда корутина может одновременно принимать и отправлять данные.  \n",
        "\n",
        "Давайте сделаем генератор, который будет возвращать нам бесконечную арифметическую прогрессию, то мы сможем переопределять начальные значения после запуска генератора."
      ]
    },
    {
      "cell_type": "code",
      "metadata": {
        "trusted": true,
        "id": "JgIqBujPfU2U"
      },
      "source": [
        "def counter(start, step):\n",
        "    n = start\n",
        "    while True:\n",
        "        input_data = yield n\n",
        "        if input_data is not None:\n",
        "            n = input_data[0]\n",
        "            step = input_data[1]\n",
        "        else:\n",
        "            n += step"
      ],
      "execution_count": null,
      "outputs": []
    },
    {
      "cell_type": "code",
      "metadata": {
        "trusted": true,
        "id": "eskha6HlfU2V"
      },
      "source": [
        "c = counter(100, 10)  # создаем корутину с начальными значениями\n",
        "for _ in range(10):\n",
        "    print(c.send(None))"
      ],
      "execution_count": null,
      "outputs": []
    },
    {
      "cell_type": "code",
      "metadata": {
        "trusted": true,
        "id": "49bhW6x2fU2V"
      },
      "source": [
        "# передаем корутине новые значения старта и шага прогресии без создания новой корутины\n",
        "print(c.send((500, 1)))  "
      ],
      "execution_count": null,
      "outputs": []
    },
    {
      "cell_type": "code",
      "metadata": {
        "trusted": true,
        "id": "eoNU0nDSfU2V"
      },
      "source": [
        "for _ in range(10):\n",
        "    print(c.send(None))\n",
        "    \n",
        "c.close()"
      ],
      "execution_count": null,
      "outputs": []
    },
    {
      "cell_type": "markdown",
      "metadata": {
        "id": "8Z3qrCL1fU2W"
      },
      "source": [
        "---\n",
        "### Пример использования:\n",
        "Живой пример использования данной идеи – модуль tornado\n",
        "Асинхронная сетевая библиотека для обработки запросов\n",
        "скалируется до десятков тысяч одновременно открытых соединений\n",
        "построен на генераторах и корутинах (с кучей дополнительного, конечно же)\n",
        "\n",
        "Разница между Django и Tornado на задачах вида «загрузи ответ от другого сервера и верни мне данные» – до 10 раз в пользу торнадо (и других асинхронных фреймворков) [источник](https://klen.github.io/python-web-benchmarks.html)"
      ]
    },
    {
      "cell_type": "markdown",
      "metadata": {
        "id": "h-rnrGTsfU2W"
      },
      "source": [
        "---\n",
        "### Подведем итоги по генераторам и корутинам:\n",
        "В более общем смысле, генераторы и корутины – это объекты, которые умеют получать управление, выполнять некоторую работу и отдавать управление обратно.  \n",
        "Данная логика работы называется «кооперативная многозадачность». Грамотно реализуя преимущества данной логики, можно построить на языке Python приложения, обрабатывающие десятки тысяч запросов ежесекундно.\n",
        "\n",
        "Более подробно с многозачачностями можно познакомиться [тут](https://kvckr.github.io/mag/sp/7.html)"
      ]
    }
  ]
}