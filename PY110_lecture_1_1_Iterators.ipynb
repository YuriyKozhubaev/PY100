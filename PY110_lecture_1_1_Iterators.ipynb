{
  "nbformat": 4,
  "nbformat_minor": 0,
  "metadata": {
    "kernelspec": {
      "display_name": "Python 3",
      "language": "python",
      "name": "python3"
    },
    "language_info": {
      "codemirror_mode": {
        "name": "ipython",
        "version": 3
      },
      "file_extension": ".py",
      "mimetype": "text/x-python",
      "name": "python",
      "nbconvert_exporter": "python",
      "pygments_lexer": "ipython3",
      "version": "3.7.6"
    },
    "pycharm": {
      "stem_cell": {
        "cell_type": "raw",
        "metadata": {
          "collapsed": false
        },
        "source": []
      }
    },
    "colab": {
      "provenance": [],
      "include_colab_link": true
    }
  },
  "cells": [
    {
      "cell_type": "markdown",
      "metadata": {
        "id": "view-in-github",
        "colab_type": "text"
      },
      "source": [
        "<a href=\"https://colab.research.google.com/github/YuriyKozhubaev/PY100/blob/main/PY110_lecture_1_1_Iterators.ipynb\" target=\"_parent\"><img src=\"https://colab.research.google.com/assets/colab-badge.svg\" alt=\"Open In Colab\"/></a>"
      ]
    },
    {
      "cell_type": "markdown",
      "metadata": {
        "collapsed": true,
        "id": "As_2_0w4jP96"
      },
      "source": [
        "# Итераторы"
      ]
    },
    {
      "cell_type": "markdown",
      "metadata": {
        "id": "kZAOh8VjjP9_"
      },
      "source": [
        "Вы знаете, как внутри устроены строки? А списки? А множества? \n",
        "\n",
        "Чтобы пройтись по всем значениям этих последовательностей  \n",
        "(пройтись - значит итерироваться), нам достаточно знать функцию,  \n",
        "которая возвращает следующее значение, и нам не важно как устроена  \n",
        "та или иная последовательность."
      ]
    },
    {
      "cell_type": "markdown",
      "metadata": {
        "id": "PDlrz6wzjP-B"
      },
      "source": [
        "Аналогию можно провести в таком ключе, вы можете звонить как с домашнего  \n",
        "телефона или с мобильного, все они по разному осуществляют соединение абонентов.   \n",
        "Вам как пользователю не нужно знать как будет происходить соединение,  \n",
        "вам нужно знать только номер абонента чтобы позвонить ему, который  \n",
        "одинаков для всех средств телефонной связи.\n",
        "\n"
      ]
    },
    {
      "cell_type": "markdown",
      "metadata": {
        "id": "QodyIY_CjP-B"
      },
      "source": [
        "Вспомним как цикл `for` работает с некоторыми встроеными типами данных"
      ]
    },
    {
      "cell_type": "code",
      "metadata": {
        "pycharm": {
          "is_executing": false
        },
        "id": "mHbIdhIFjP-C",
        "colab": {
          "base_uri": "https://localhost:8080/"
        },
        "outputId": "0c54d5cd-aeca-4a46-a031-9ea5e22a1050"
      },
      "source": [
        "for l in [1, 2, 3]:  # Итерируемся по списку\n",
        "    print(l)"
      ],
      "execution_count": null,
      "outputs": [
        {
          "output_type": "stream",
          "name": "stdout",
          "text": [
            "1\n",
            "2\n",
            "3\n"
          ]
        }
      ]
    },
    {
      "cell_type": "code",
      "metadata": {
        "id": "9yA2TOV1jP-E"
      },
      "source": [
        "for s in \"test\":  # Итерируемся по строке\n",
        "    print(s)"
      ],
      "execution_count": null,
      "outputs": []
    },
    {
      "cell_type": "code",
      "metadata": {
        "id": "Fn7MQFMDjP-G"
      },
      "source": [
        "for s in {1, 2, 3, 3, 6}:  # Итерируемся по множеству\n",
        "    print(s)"
      ],
      "execution_count": null,
      "outputs": []
    },
    {
      "cell_type": "code",
      "metadata": {
        "id": "kk7h08RwjP-G"
      },
      "source": [
        "for t in ((1, 2), (3, 4)):  # Итерируемся по кортежу\n",
        "    print(t)"
      ],
      "execution_count": null,
      "outputs": []
    },
    {
      "cell_type": "code",
      "metadata": {
        "id": "AVyDBVvRjP-H"
      },
      "source": [
        "for t in {1: 2, 3: 4}:  # Итерируемся по словарю\n",
        "    print(t)"
      ],
      "execution_count": null,
      "outputs": []
    },
    {
      "cell_type": "code",
      "metadata": {
        "id": "filVsCiqjP-I"
      },
      "source": [
        "for i in range(5):  # и ещё один итерируемый объект для задания диапазона\n",
        "    print(i)"
      ],
      "execution_count": null,
      "outputs": []
    },
    {
      "cell_type": "code",
      "source": [
        "a = 1,2,3,4\n",
        "print(type(a))"
      ],
      "metadata": {
        "id": "3hf1QSRCQBjT"
      },
      "execution_count": null,
      "outputs": []
    },
    {
      "cell_type": "code",
      "source": [
        "for i in 1,2,3,4:\n",
        "    print(i)"
      ],
      "metadata": {
        "id": "ghzd1CMtPxpe"
      },
      "execution_count": null,
      "outputs": []
    },
    {
      "cell_type": "code",
      "metadata": {
        "pycharm": {
          "is_executing": false
        },
        "id": "zbbNQl6qjP-I"
      },
      "source": [
        "for i in 5:  # будет вызвана ошибка\n",
        "    pass"
      ],
      "execution_count": null,
      "outputs": []
    },
    {
      "cell_type": "markdown",
      "metadata": {
        "id": "m5paqoF7jP-J"
      },
      "source": [
        "## Итератор и итерируемый объект"
      ]
    },
    {
      "cell_type": "markdown",
      "metadata": {
        "id": "Z3xOQwl_jP-J"
      },
      "source": [
        "**Итерируемый объект** (iterable) – это любой объект, от которого встроенная  \n",
        "функция `iter()` может получить итератор.\n",
        "\n",
        "**Итератор** (iterator) – это объект, который возвращает свои элементы  \n",
        "по одному за раз при обращении к нему встроенной функцией `next()`."
      ]
    },
    {
      "cell_type": "markdown",
      "metadata": {
        "id": "NUwMeRHyjP-J"
      },
      "source": [
        "Для работы с итераторами в языке есть 2 встроенные функции:\n",
        "- `iter(some_object)` – получает итератор итерируемого объекта\n",
        "- `next(some_iterator)` – получает следующий элемент последовательности"
      ]
    },
    {
      "cell_type": "markdown",
      "metadata": {
        "id": "XK1rQjF-jP-K"
      },
      "source": [
        "От `int` нельзя получить итератор"
      ]
    },
    {
      "cell_type": "code",
      "metadata": {
        "id": "OgF-r2xKjP-K"
      },
      "source": [
        "iter(5)  # TypeError: 'int' object is not iterable"
      ],
      "execution_count": null,
      "outputs": []
    },
    {
      "cell_type": "markdown",
      "metadata": {
        "id": "Fw6S9L_6jP-K"
      },
      "source": [
        "В качестве примера возьмем строку и получим от неё итератор"
      ]
    },
    {
      "cell_type": "code",
      "metadata": {
        "id": "e8u1L82rjP-L",
        "colab": {
          "base_uri": "https://localhost:8080/"
        },
        "outputId": "b57d89c1-08dd-4d80-baae-609f748434cf"
      },
      "source": [
        "str_ = \"my tst\"  # итерируемый объект\n",
        "str_iter = iter(str_)  # итератор\n",
        "\n",
        "print(type(str_))  # <class 'str'>\n",
        "print(type(str_iter))  # <class 'str_iterator'>"
      ],
      "execution_count": null,
      "outputs": [
        {
          "output_type": "stream",
          "name": "stdout",
          "text": [
            "<class 'str'>\n",
            "<class 'str_iterator'>\n"
          ]
        }
      ]
    },
    {
      "cell_type": "markdown",
      "metadata": {
        "id": "ICrWfrowjP-L"
      },
      "source": [
        "Получим первый элемент строки"
      ]
    },
    {
      "cell_type": "code",
      "metadata": {
        "id": "pcdoHMg4jP-M",
        "colab": {
          "base_uri": "https://localhost:8080/"
        },
        "outputId": "f3938a6b-77d1-4d1e-e2c4-f4748ac87cae"
      },
      "source": [
        "print(next(str_iter))  # m"
      ],
      "execution_count": null,
      "outputs": [
        {
          "output_type": "stream",
          "name": "stdout",
          "text": [
            "m\n"
          ]
        }
      ]
    },
    {
      "cell_type": "code",
      "metadata": {
        "id": "8NiDHfSsjP-M",
        "colab": {
          "base_uri": "https://localhost:8080/"
        },
        "outputId": "4858e12b-4272-435d-cae4-8cc847137055"
      },
      "source": [
        "# Получим ещё несколько элементов последовательности\n",
        "print(next(str_iter))  # y\n",
        "print(next(str_iter))  # ' '\n",
        "print(next(str_iter))  # t\n",
        "print(next(str_iter))  # s\n",
        "print(next(str_iter))  # t"
      ],
      "execution_count": null,
      "outputs": [
        {
          "output_type": "stream",
          "name": "stdout",
          "text": [
            "y\n",
            " \n",
            "t\n",
            "s\n",
            "t\n"
          ]
        }
      ]
    },
    {
      "cell_type": "markdown",
      "metadata": {
        "id": "bdzrH5mcjP-M"
      },
      "source": [
        "Как вы думаете, что будет происходить, когда последовательность закончится?"
      ]
    },
    {
      "cell_type": "code",
      "metadata": {
        "id": "urPNOdrEjP-M",
        "colab": {
          "base_uri": "https://localhost:8080/",
          "height": 187
        },
        "outputId": "19fe3b50-fbae-4304-f487-c92ca1fe745e"
      },
      "source": [
        "# Проверить, что будет происходить после окончания последовательности\n",
        "print(next(str_iter))"
      ],
      "execution_count": null,
      "outputs": [
        {
          "output_type": "error",
          "ename": "StopIteration",
          "evalue": "ignored",
          "traceback": [
            "\u001b[0;31m---------------------------------------------------------------------------\u001b[0m",
            "\u001b[0;31mStopIteration\u001b[0m                             Traceback (most recent call last)",
            "\u001b[0;32m<ipython-input-6-124ff1f7eb56>\u001b[0m in \u001b[0;36m<module>\u001b[0;34m\u001b[0m\n\u001b[1;32m      1\u001b[0m \u001b[0;31m# Проверить, что будет происходить после окончания последовательности\u001b[0m\u001b[0;34m\u001b[0m\u001b[0;34m\u001b[0m\u001b[0;34m\u001b[0m\u001b[0m\n\u001b[0;32m----> 2\u001b[0;31m \u001b[0mprint\u001b[0m\u001b[0;34m(\u001b[0m\u001b[0mnext\u001b[0m\u001b[0;34m(\u001b[0m\u001b[0mstr_iter\u001b[0m\u001b[0;34m)\u001b[0m\u001b[0;34m)\u001b[0m\u001b[0;34m\u001b[0m\u001b[0;34m\u001b[0m\u001b[0m\n\u001b[0m",
            "\u001b[0;31mStopIteration\u001b[0m: "
          ]
        }
      ]
    },
    {
      "cell_type": "markdown",
      "metadata": {
        "id": "Cg7air7SjP-N"
      },
      "source": [
        "Особенность итераторов в том, что нельзя перепрыгнуть через несколько элементов.  \n",
        "Все элементы получаются последовательно.  \n",
        "Так же нельзя вернуться назад, только создать новый итератор."
      ]
    },
    {
      "cell_type": "code",
      "metadata": {
        "id": "oVgbkneUjP-N",
        "colab": {
          "base_uri": "https://localhost:8080/"
        },
        "outputId": "7e03c065-25fd-4178-94b3-56521b6c2643"
      },
      "source": [
        "list_num = [1, 2, 3, 4, 5]\n",
        "iter_num = iter(list_num)  # получить итератор\n",
        "\n",
        "def get_item(iter_, i):\n",
        "    \"\"\"Вспомогательная функция, которая возвращает i-ый элемент\"\"\"\n",
        "    current_value = None\n",
        "    for _ in range(i):\n",
        "        current_value = next(iter_)\n",
        "    \n",
        "    return current_value\n",
        "\n",
        "# получить второй элемент \n",
        "print(get_item(iter_num, 2))  # 2\n",
        "\n",
        "# получить первый элемент \n",
        "print(get_item(iter_num, 1))  # 3"
      ],
      "execution_count": null,
      "outputs": [
        {
          "output_type": "stream",
          "name": "stdout",
          "text": [
            "2\n",
            "3\n"
          ]
        }
      ]
    },
    {
      "cell_type": "markdown",
      "metadata": {
        "id": "EzpuSlYwjP-O"
      },
      "source": [
        "Вместо того чтобы получить первый элемент, мы получили третий,  \n",
        "потому что при получении элементов работали с одним и тем же итератором.  \n",
        "И суммарно выполнили 3 раза функцию `next()`.  \n",
        "\n",
        "Чтобы получить первый элемент, нужно создать новый итератор"
      ]
    },
    {
      "cell_type": "code",
      "metadata": {
        "id": "0RqnIM2LjP-O",
        "colab": {
          "base_uri": "https://localhost:8080/"
        },
        "outputId": "a76aae89-1a66-4485-fe64-2abb7e862dfe"
      },
      "source": [
        "iter_num = iter(list_num)\n",
        "print(get_item(iter_num, 2))  # 2\n",
        "\n",
        "iter_num = iter(list_num)\n",
        "print(get_item(iter_num, 1))  # 1"
      ],
      "execution_count": null,
      "outputs": [
        {
          "output_type": "stream",
          "name": "stdout",
          "text": [
            "2\n",
            "1\n"
          ]
        }
      ]
    },
    {
      "cell_type": "markdown",
      "metadata": {
        "id": "SwKBCGtxpp9t"
      },
      "source": [
        "Каждый итератор является итерируемым объектом,  \n",
        "но не каждый итерируемый объект является итератором."
      ]
    },
    {
      "cell_type": "code",
      "metadata": {
        "colab": {
          "base_uri": "https://localhost:8080/"
        },
        "id": "8-wq-qn5pFV3",
        "outputId": "e051a3a3-ee16-42ab-ac07-d21a192b5154"
      },
      "source": [
        "list_numbers = [1, 2, 3]  # итерируемый объект\n",
        "list_numbers_iterator = iter(list_numbers)  # итерируемый объект\n",
        "\n",
        "print(list_numbers is list_numbers_iterator)\n",
        "print(list_numbers_iterator is iter(list_numbers_iterator))"
      ],
      "execution_count": null,
      "outputs": [
        {
          "output_type": "stream",
          "name": "stdout",
          "text": [
            "False\n",
            "True\n"
          ]
        }
      ]
    },
    {
      "cell_type": "code",
      "metadata": {
        "colab": {
          "base_uri": "https://localhost:8080/",
          "height": 166
        },
        "id": "zk0lYefKqRCf",
        "outputId": "fb954350-1e5a-40b3-adaa-0cfb404547f7"
      },
      "source": [
        "print(next(list_numbers))  # Не каждый итерируемый объект итератор"
      ],
      "execution_count": null,
      "outputs": [
        {
          "output_type": "error",
          "ename": "TypeError",
          "evalue": "ignored",
          "traceback": [
            "\u001b[0;31m---------------------------------------------------------------------------\u001b[0m",
            "\u001b[0;31mTypeError\u001b[0m                                 Traceback (most recent call last)",
            "\u001b[0;32m<ipython-input-11-6711e001ae5d>\u001b[0m in \u001b[0;36m<module>\u001b[0;34m()\u001b[0m\n\u001b[0;32m----> 1\u001b[0;31m \u001b[0mprint\u001b[0m\u001b[0;34m(\u001b[0m\u001b[0mnext\u001b[0m\u001b[0;34m(\u001b[0m\u001b[0mlist_numbers\u001b[0m\u001b[0;34m)\u001b[0m\u001b[0;34m)\u001b[0m  \u001b[0;31m# Не каждый итерируемый объект итератор\u001b[0m\u001b[0;34m\u001b[0m\u001b[0;34m\u001b[0m\u001b[0m\n\u001b[0m",
            "\u001b[0;31mTypeError\u001b[0m: 'list' object is not an iterator"
          ]
        }
      ]
    },
    {
      "cell_type": "code",
      "metadata": {
        "id": "5oud7uWpqXsx"
      },
      "source": [
        "print(list_numbers_iterator is iter(list_numbers_iterator))  # Итератор всегда итерируемый объект"
      ],
      "execution_count": null,
      "outputs": []
    },
    {
      "cell_type": "markdown",
      "metadata": {
        "id": "aPSTjc_jzRb4"
      },
      "source": [
        "![common iterators description](https://raw.githubusercontent.com/aeksei/py110-lecture/bad355d927f28c1a7f94543f8c7783d60e70edf0/images/generators.png)"
      ]
    },
    {
      "cell_type": "code",
      "source": [
        "list_ = [1000, 1001]\n",
        "list_[0] is next(iter(list_))"
      ],
      "metadata": {
        "colab": {
          "base_uri": "https://localhost:8080/"
        },
        "id": "GBZK0nB8WQQY",
        "outputId": "e8983ef7-b5a2-4241-e952-890f7c1cb85b"
      },
      "execution_count": null,
      "outputs": [
        {
          "output_type": "execute_result",
          "data": {
            "text/plain": [
              "True"
            ]
          },
          "metadata": {},
          "execution_count": 12
        }
      ]
    },
    {
      "cell_type": "code",
      "source": [
        "list_ = [[1], [2]]\n",
        "list_[0] is next(iter(list_)) "
      ],
      "metadata": {
        "colab": {
          "base_uri": "https://localhost:8080/"
        },
        "id": "RRz8rPAYWhRo",
        "outputId": "2ae855f7-abe1-49c6-a6ed-9e40b6fcfd8c"
      },
      "execution_count": null,
      "outputs": [
        {
          "output_type": "execute_result",
          "data": {
            "text/plain": [
              "True"
            ]
          },
          "metadata": {},
          "execution_count": 13
        }
      ]
    },
    {
      "cell_type": "markdown",
      "metadata": {
        "id": "LvEx8_PFjP-U"
      },
      "source": [
        "## Цикл for"
      ]
    },
    {
      "cell_type": "markdown",
      "metadata": {
        "id": "ck-XVEFNjP-U"
      },
      "source": [
        "Итого, логика работы с итераторами в языке Python следующая:\n",
        "1. Получаем итератор с помощью `iter(iterable_object)`\n",
        "2. Вызываем много раз `next(iterator)`\n",
        "3. Когда получим `StopIteration` – прекращаем работу\n",
        "\n",
        "---"
      ]
    },
    {
      "cell_type": "code",
      "metadata": {
        "id": "aO4SsLqtjP-V",
        "colab": {
          "base_uri": "https://localhost:8080/"
        },
        "outputId": "702298f0-da39-47d6-9cde-f9e686d85237"
      },
      "source": [
        "my_list = [1, (43, 26), \"test\", [\"end\"]]\n",
        "\n",
        "my_list_iter = iter(my_list)  # создаем объект итератор\n",
        "while True:\n",
        "    try:\n",
        "        print(next(my_list_iter))  # берем следующий элемент\n",
        "    except StopIteration:  # как только элементы в последовательности закончатся будет вызвано исключение\n",
        "        break\n",
        "\n",
        "print(\"Итератор закончился\")"
      ],
      "execution_count": null,
      "outputs": [
        {
          "output_type": "stream",
          "name": "stdout",
          "text": [
            "1\n",
            "(43, 26)\n",
            "test\n",
            "['end']\n",
            "Итератор закончился\n"
          ]
        }
      ]
    },
    {
      "cell_type": "markdown",
      "metadata": {
        "id": "kWfNkUIpjP-W"
      },
      "source": [
        "Чтобы каждый раз не писать безобразие представленое выше в Python это всё собрано в конструкцию под названнием цикл `for`"
      ]
    },
    {
      "cell_type": "code",
      "metadata": {
        "id": "n7iNTldfjP-W",
        "colab": {
          "base_uri": "https://localhost:8080/"
        },
        "outputId": "12e25829-7094-4aa4-fb12-379fc952c9aa"
      },
      "source": [
        "my_list = [1, (43, 26), \"test\", [\"end\"]]\n",
        "\n",
        "for item in my_list:\n",
        "    print(item)\n",
        "    \n",
        "print(\"Итератор закончился\")"
      ],
      "execution_count": null,
      "outputs": [
        {
          "output_type": "stream",
          "name": "stdout",
          "text": [
            "1\n",
            "(43, 26)\n",
            "test\n",
            "['end']\n",
            "Итератор закончился\n"
          ]
        }
      ]
    },
    {
      "cell_type": "markdown",
      "metadata": {
        "id": "dPDW_uoLjP-W"
      },
      "source": [
        "### Итог: \n",
        "\n",
        "Цикл `for` – это всего лишь обертка над итераторами"
      ]
    },
    {
      "cell_type": "markdown",
      "metadata": {
        "id": "kvjdHRWZjP-X"
      },
      "source": [
        "В отличие от других языков программирования, где для цикла `for` нужно использовать условие для остановки, в Python число шагов цикла ограничено длиной последовательности  \n",
        "\n",
        "**C/C++/Java**\n",
        "```c\n",
        "for (int i = 0; i < 10; i++):\n",
        "    ...\n",
        "```\n",
        "\n",
        "**Python**\n",
        "```python\n",
        "for i in range(10):\n",
        "    pass\n",
        "```"
      ]
    },
    {
      "cell_type": "markdown",
      "metadata": {
        "id": "1p4-YmcrjP-X"
      },
      "source": [
        "---\n",
        "#### Примечание\n",
        "В дальнейшем при создании своего объекта вы можете реализовать свойство итерируемости с помощью следующих методов:\n",
        "- `__iter__()` – возвращает итератор\n",
        "- `__next__()` – возвращает элемент последовательности\n",
        "\n",
        "**Подробнее**: см. следующий курс PY200, про ООП (либо доп. литературу)\n",
        "\n",
        "---"
      ]
    },
    {
      "cell_type": "code",
      "metadata": {
        "id": "z52vprDljP-Y",
        "colab": {
          "base_uri": "https://localhost:8080/"
        },
        "outputId": "a279137a-0521-453d-a709-47e9e9e37e40"
      },
      "source": [
        "# Что будет выведено?\n",
        "\n",
        "range_ = range(3)  # 0, 1, 2\n",
        "\n",
        "print(next(iter(range_)))\n",
        "print(next(iter(range_)))\n",
        "print(next(iter(range_)))"
      ],
      "execution_count": null,
      "outputs": [
        {
          "output_type": "stream",
          "name": "stdout",
          "text": [
            "0\n",
            "0\n",
            "0\n"
          ]
        }
      ]
    },
    {
      "cell_type": "code",
      "metadata": {
        "colab": {
          "base_uri": "https://localhost:8080/"
        },
        "id": "OgB4qDejT7f4",
        "outputId": "d434e22c-1285-47fc-e84b-cc63a65adb4c"
      },
      "source": [
        "# Что будет выведено?\n",
        "\n",
        "range_ = range(3)  # 0, 1, 2\n",
        "iter_ = iter(range_)\n",
        "print(next(iter_))\n",
        "print(next(iter_))\n",
        "print(next(iter_))"
      ],
      "execution_count": null,
      "outputs": [
        {
          "output_type": "stream",
          "name": "stdout",
          "text": [
            "0\n",
            "1\n",
            "2\n"
          ]
        }
      ]
    },
    {
      "cell_type": "markdown",
      "metadata": {
        "id": "JHKUS-XAjP-Y"
      },
      "source": [
        "# Itertools\n",
        "**itertools** – модуль, в котором реализованы некоторые дополнительные полезные итерируемые объекты.  \n",
        "Модуль входит в состав стандартной библиотеки\n",
        "\n",
        "Вместо того чтобы делать \"велосипеды\", гуглите, гуглите и гуглите!\n",
        "Обязательно пользуйтесь документацией: \n",
        "- [itertools](https://docs.python.org/3/library/itertools.html)\n",
        "- [примеры на русском](https://pythonworld.ru/moduli/modul-itertools.html)"
      ]
    },
    {
      "cell_type": "markdown",
      "metadata": {
        "id": "Z3RUgfgtjP-Y"
      },
      "source": [
        "```python\n",
        "itertools.count(start, step) – бесконечная арифметическая прогрессия с первым членом start и шагом step\n",
        "```\n",
        "[ссылка](https://docs.python.org/3/library/itertools.html#itertools.count)"
      ]
    },
    {
      "cell_type": "markdown",
      "metadata": {
        "id": "WxVWihcljP-Z"
      },
      "source": [
        "```python\n",
        "itertools.cycle(iter_obj) – возвращает по одному значению из последовательности, повторенной бесконечное число раз.\n",
        "```\n",
        "[ссылка](https://docs.python.org/3/library/itertools.html#itertools.cycle)"
      ]
    },
    {
      "cell_type": "markdown",
      "metadata": {
        "id": "nGFLJEL9jP-Z"
      },
      "source": [
        "```python\n",
        "itertools.repeat(elem) – возвращает один и тот же элемент бесконечное число раз либо указаннное количество раз.\n",
        "```\n",
        "\n",
        "[ссылка](https://docs.python.org/3/library/itertools.html#itertools.repeat)"
      ]
    },
    {
      "cell_type": "markdown",
      "metadata": {
        "id": "NTWGE4ABjP-Z"
      },
      "source": [
        "---\n",
        "Для начала работы импортируем модуль `itertools` из встроенной библиотеки"
      ]
    },
    {
      "cell_type": "code",
      "metadata": {
        "id": "mtLNLa9UjP-Z"
      },
      "source": [
        "import itertools"
      ],
      "execution_count": null,
      "outputs": []
    },
    {
      "cell_type": "markdown",
      "metadata": {
        "id": "HK0WwqAAjP-Z"
      },
      "source": [
        "### count"
      ]
    },
    {
      "cell_type": "code",
      "metadata": {
        "id": "bpFBvuWpjP-a",
        "colab": {
          "base_uri": "https://localhost:8080/"
        },
        "outputId": "c5c17f6d-9b66-4a37-a47c-e190dbfd77cf"
      },
      "source": [
        "# бесконечная арифметическая прогрессия начиная с 10 с шагом 5\n",
        "for i in itertools.count(10, 0.5):\n",
        "    print(i)\n",
        "    if i > 50:\n",
        "        break"
      ],
      "execution_count": null,
      "outputs": [
        {
          "output_type": "stream",
          "name": "stdout",
          "text": [
            "10\n",
            "10.5\n",
            "11.0\n",
            "11.5\n",
            "12.0\n",
            "12.5\n",
            "13.0\n",
            "13.5\n",
            "14.0\n",
            "14.5\n",
            "15.0\n",
            "15.5\n",
            "16.0\n",
            "16.5\n",
            "17.0\n",
            "17.5\n",
            "18.0\n",
            "18.5\n",
            "19.0\n",
            "19.5\n",
            "20.0\n",
            "20.5\n",
            "21.0\n",
            "21.5\n",
            "22.0\n",
            "22.5\n",
            "23.0\n",
            "23.5\n",
            "24.0\n",
            "24.5\n",
            "25.0\n",
            "25.5\n",
            "26.0\n",
            "26.5\n",
            "27.0\n",
            "27.5\n",
            "28.0\n",
            "28.5\n",
            "29.0\n",
            "29.5\n",
            "30.0\n",
            "30.5\n",
            "31.0\n",
            "31.5\n",
            "32.0\n",
            "32.5\n",
            "33.0\n",
            "33.5\n",
            "34.0\n",
            "34.5\n",
            "35.0\n",
            "35.5\n",
            "36.0\n",
            "36.5\n",
            "37.0\n",
            "37.5\n",
            "38.0\n",
            "38.5\n",
            "39.0\n",
            "39.5\n",
            "40.0\n",
            "40.5\n",
            "41.0\n",
            "41.5\n",
            "42.0\n",
            "42.5\n",
            "43.0\n",
            "43.5\n",
            "44.0\n",
            "44.5\n",
            "45.0\n",
            "45.5\n",
            "46.0\n",
            "46.5\n",
            "47.0\n",
            "47.5\n",
            "48.0\n",
            "48.5\n",
            "49.0\n",
            "49.5\n",
            "50.0\n",
            "50.5\n"
          ]
        }
      ]
    },
    {
      "cell_type": "markdown",
      "metadata": {
        "id": "DufNsmTAjP-a"
      },
      "source": [
        "### cycle"
      ]
    },
    {
      "cell_type": "code",
      "metadata": {
        "scrolled": true,
        "id": "RWucFM9FjP-a",
        "colab": {
          "base_uri": "https://localhost:8080/"
        },
        "outputId": "56d1d71e-f4eb-454b-8ea4-db39a8cb4262"
      },
      "source": [
        "# считалочка\n",
        "counter = \"Раз, два, три, четыре, пять, вышел зайчик погулять\".split()\n",
        "print(counter)"
      ],
      "execution_count": null,
      "outputs": [
        {
          "output_type": "stream",
          "name": "stdout",
          "text": [
            "['Раз,', 'два,', 'три,', 'четыре,', 'пять,', 'вышел', 'зайчик', 'погулять']\n"
          ]
        }
      ]
    },
    {
      "cell_type": "code",
      "metadata": {
        "id": "1V1zQdghjP-b",
        "colab": {
          "base_uri": "https://localhost:8080/"
        },
        "outputId": "5fba11ae-0158-4d4e-8e6e-94ca0f7cbead"
      },
      "source": [
        "players = [\n",
        "    'Миша',\n",
        "    'Петя',\n",
        "    'Вася'\n",
        "]\n",
        "\n",
        "iter_players = itertools.cycle(players)  # Бесконечный итератор, где игроки будут бесконечно перебираться\n",
        "winer = None\n",
        "for _ in counter:\n",
        "    winer = next(iter_players)  # на каждом шаге считалочки получаем нового игрока\n",
        "\n",
        "print(f\"Победил игрок {winer}\")"
      ],
      "execution_count": null,
      "outputs": [
        {
          "output_type": "stream",
          "name": "stdout",
          "text": [
            "Победил игрок Петя\n"
          ]
        }
      ]
    },
    {
      "cell_type": "markdown",
      "metadata": {
        "id": "0g3wh4bajP-b"
      },
      "source": [
        "### repeat"
      ]
    },
    {
      "cell_type": "code",
      "source": [
        "['Hello, World!!!'] * 5"
      ],
      "metadata": {
        "id": "UPfw1Mc6dfQ0",
        "outputId": "f34e9108-b15f-43f2-d016-7f564621cf2a",
        "colab": {
          "base_uri": "https://localhost:8080/"
        }
      },
      "execution_count": null,
      "outputs": [
        {
          "output_type": "execute_result",
          "data": {
            "text/plain": [
              "['Hello, World!!!',\n",
              " 'Hello, World!!!',\n",
              " 'Hello, World!!!',\n",
              " 'Hello, World!!!',\n",
              " 'Hello, World!!!']"
            ]
          },
          "metadata": {},
          "execution_count": 27
        }
      ]
    },
    {
      "cell_type": "code",
      "metadata": {
        "id": "Nqle00MQjP-b",
        "colab": {
          "base_uri": "https://localhost:8080/"
        },
        "outputId": "f73619c9-2359-4f10-efba-40776997b105"
      },
      "source": [
        "for str_ in itertools.repeat('Hello, World!!!', 5):\n",
        "    print(str_)"
      ],
      "execution_count": null,
      "outputs": [
        {
          "output_type": "stream",
          "name": "stdout",
          "text": [
            "Hello, World!!!\n",
            "Hello, World!!!\n",
            "Hello, World!!!\n",
            "Hello, World!!!\n",
            "Hello, World!!!\n"
          ]
        }
      ]
    },
    {
      "cell_type": "code",
      "source": [],
      "metadata": {
        "id": "hovUL8gkdkxR"
      },
      "execution_count": null,
      "outputs": []
    }
  ]
}