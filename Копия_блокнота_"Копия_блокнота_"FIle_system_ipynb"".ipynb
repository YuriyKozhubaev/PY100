{
  "nbformat": 4,
  "nbformat_minor": 0,
  "metadata": {
    "kernelspec": {
      "name": "python3",
      "display_name": "Python 3"
    },
    "colab": {
      "provenance": [],
      "include_colab_link": true
    },
    "language_info": {
      "name": "python"
    }
  },
  "cells": [
    {
      "cell_type": "markdown",
      "metadata": {
        "id": "view-in-github",
        "colab_type": "text"
      },
      "source": [
        "<a href=\"https://colab.research.google.com/github/YuriyKozhubaev/PY100/blob/main/%D0%9A%D0%BE%D0%BF%D0%B8%D1%8F_%D0%B1%D0%BB%D0%BE%D0%BA%D0%BD%D0%BE%D1%82%D0%B0_%22%D0%9A%D0%BE%D0%BF%D0%B8%D1%8F_%D0%B1%D0%BB%D0%BE%D0%BA%D0%BD%D0%BE%D1%82%D0%B0_%22FIle_system_ipynb%22%22.ipynb\" target=\"_parent\"><img src=\"https://colab.research.google.com/assets/colab-badge.svg\" alt=\"Open In Colab\"/></a>"
      ]
    },
    {
      "cell_type": "markdown",
      "metadata": {
        "id": "OaslvSfOL80N"
      },
      "source": [
        "# OS"
      ]
    },
    {
      "cell_type": "markdown",
      "metadata": {
        "id": "7gTbpfoVL80U"
      },
      "source": [
        "Модуль `os` предоставляет множество функций для работы с операционной системой,  \n",
        "причём их поведение, как правило, не зависит от ОС, поэтому  \n",
        "программы остаются переносимыми. \n",
        "\n",
        "Рассмотрим наиболее часто используемые из них."
      ]
    },
    {
      "cell_type": "markdown",
      "metadata": {
        "id": "GVVeYkoVL80V"
      },
      "source": [
        "Для начала нужно импортировать модуль `os`"
      ]
    },
    {
      "cell_type": "code",
      "metadata": {
        "trusted": true,
        "id": "3u7U7V8nL80W"
      },
      "source": [
        "import os"
      ],
      "execution_count": null,
      "outputs": []
    },
    {
      "cell_type": "code",
      "metadata": {
        "trusted": true,
        "id": "MbFwEXGUL80Y",
        "colab": {
          "base_uri": "https://localhost:8080/",
          "height": 35
        },
        "outputId": "709772b9-994a-4612-fd26-05545d330fda"
      },
      "source": [
        "# Выведем имя операционной системы\n",
        "os.name"
      ],
      "execution_count": null,
      "outputs": [
        {
          "output_type": "execute_result",
          "data": {
            "text/plain": [
              "'posix'"
            ],
            "application/vnd.google.colaboratory.intrinsic+json": {
              "type": "string"
            }
          },
          "metadata": {},
          "execution_count": 2
        }
      ]
    },
    {
      "cell_type": "code",
      "metadata": {
        "trusted": true,
        "id": "19ga-OOEL80a",
        "colab": {
          "base_uri": "https://localhost:8080/"
        },
        "outputId": "cb30e76a-c0ca-4706-d1e9-2258f3913185"
      },
      "source": [
        "# Выведем более подробную информацию о операционной системе\n",
        "os.uname()"
      ],
      "execution_count": null,
      "outputs": [
        {
          "output_type": "execute_result",
          "data": {
            "text/plain": [
              "posix.uname_result(sysname='Linux', nodename='21f958778c9d', release='5.4.188+', version='#1 SMP Sun Apr 24 10:03:06 PDT 2022', machine='x86_64')"
            ]
          },
          "metadata": {},
          "execution_count": 3
        }
      ]
    },
    {
      "cell_type": "markdown",
      "metadata": {
        "id": "mvlbC67QMfjf"
      },
      "source": [
        "# Работа с файловой системой"
      ]
    },
    {
      "cell_type": "markdown",
      "metadata": {
        "id": "kjOSzDLDL80c"
      },
      "source": [
        "Функция `os.chdir()` позволяет нам изменить директорию, который мы в данный момент используем.  \n",
        "Если вам нужно знать, какой путь вы в данный момент используете, для этой нужно вызвать `os.getcwd()`."
      ]
    },
    {
      "cell_type": "code",
      "metadata": {
        "trusted": true,
        "id": "h9IoPs5iL80d",
        "colab": {
          "base_uri": "https://localhost:8080/"
        },
        "outputId": "fad6589d-b23e-42a9-a518-fb7d826e9585"
      },
      "source": [
        "# получить текущий путь\n",
        "start_path = os.getcwd()\n",
        "print(start_path)  # /content"
      ],
      "execution_count": null,
      "outputs": [
        {
          "output_type": "stream",
          "name": "stdout",
          "text": [
            "/content\n"
          ]
        }
      ]
    },
    {
      "cell_type": "markdown",
      "metadata": {
        "id": "73hT0n1ZL80e"
      },
      "source": [
        "Затем перешли на один уровень выше"
      ]
    },
    {
      "cell_type": "code",
      "metadata": {
        "trusted": true,
        "id": "6BMLfqd2L80e",
        "colab": {
          "base_uri": "https://localhost:8080/",
          "height": 35
        },
        "outputId": "d84aa3db-948b-436d-955a-3b01c8fd017a"
      },
      "source": [
        "os.chdir(\"..\")  # подняться на один уровень выше\n",
        "os.getcwd()  # '/'"
      ],
      "execution_count": null,
      "outputs": [
        {
          "output_type": "execute_result",
          "data": {
            "text/plain": [
              "'/'"
            ],
            "application/vnd.google.colaboratory.intrinsic+json": {
              "type": "string"
            }
          },
          "metadata": {},
          "execution_count": 5
        }
      ]
    },
    {
      "cell_type": "markdown",
      "metadata": {
        "id": "XcrfZYJCL80f"
      },
      "source": [
        "Вернулись в исходную директорию"
      ]
    },
    {
      "cell_type": "code",
      "metadata": {
        "trusted": true,
        "id": "xDYzXAosL80g",
        "colab": {
          "base_uri": "https://localhost:8080/",
          "height": 35
        },
        "outputId": "171f635d-3e14-4c96-f0ec-0dd07aefe2a1"
      },
      "source": [
        "os.chdir(start_path)\n",
        "os.getcwd()  # /content"
      ],
      "execution_count": null,
      "outputs": [
        {
          "output_type": "execute_result",
          "data": {
            "text/plain": [
              "'/content'"
            ],
            "application/vnd.google.colaboratory.intrinsic+json": {
              "type": "string"
            }
          },
          "metadata": {},
          "execution_count": 6
        }
      ]
    },
    {
      "cell_type": "markdown",
      "metadata": {
        "trusted": true,
        "id": "KQaJDQuSL80h"
      },
      "source": [
        "С помощью функции `os.listdir()` можно получить весь список файлов,  \n",
        "находящихся в директории.  \n",
        "\n",
        "По умолчанию в текущей директории."
      ]
    },
    {
      "cell_type": "code",
      "metadata": {
        "trusted": true,
        "id": "bCnnhoCXL80h",
        "colab": {
          "base_uri": "https://localhost:8080/"
        },
        "outputId": "265d0ee8-4038-4ad2-8306-d266f2ef0fb7"
      },
      "source": [
        "# список файлов и директорий в папке\n",
        "os.listdir()"
      ],
      "execution_count": null,
      "outputs": [
        {
          "output_type": "execute_result",
          "data": {
            "text/plain": [
              "['.config', 'sample_data']"
            ]
          },
          "metadata": {},
          "execution_count": 7
        }
      ]
    },
    {
      "cell_type": "code",
      "metadata": {
        "trusted": true,
        "id": "AUaSYXPnL80i",
        "colab": {
          "base_uri": "https://localhost:8080/"
        },
        "outputId": "cb1b75f9-57bd-4dc1-cf85-2f6e5e0f88cb"
      },
      "source": [
        "# список файлов и директорий в другой директории отличной от текущей\n",
        "os.listdir(\"..\")[:5]"
      ],
      "execution_count": null,
      "outputs": [
        {
          "output_type": "execute_result",
          "data": {
            "text/plain": [
              "['lib64', 'srv', 'proc', 'media', 'etc']"
            ]
          },
          "metadata": {},
          "execution_count": 8
        }
      ]
    },
    {
      "cell_type": "code",
      "metadata": {
        "trusted": true,
        "id": "WP0sULLoL80i",
        "colab": {
          "base_uri": "https://localhost:8080/"
        },
        "outputId": "00a9b53a-d5bb-406b-fe56-a5622bd4410e"
      },
      "source": [
        "# список файлов и директорий в другой директории отличной от текущей\n",
        "os.listdir(\"/\")[:5]"
      ],
      "execution_count": null,
      "outputs": [
        {
          "output_type": "execute_result",
          "data": {
            "text/plain": [
              "['lib64', 'srv', 'proc', 'media', 'etc']"
            ]
          },
          "metadata": {},
          "execution_count": 9
        }
      ]
    },
    {
      "cell_type": "markdown",
      "metadata": {
        "id": "oL6gt79wL80j"
      },
      "source": [
        "Для того чтобы склеивать пути в с учётом особенностей ОС  \n",
        "следует использовать функцию `os.path.join`"
      ]
    },
    {
      "cell_type": "code",
      "metadata": {
        "trusted": true,
        "id": "r-laXS8cMfjo",
        "colab": {
          "base_uri": "https://localhost:8080/",
          "height": 35
        },
        "outputId": "85976f72-2630-4ed1-e354-41c6f6a479c0"
      },
      "source": [
        "import os.path\n",
        "os.path.join(\"/tmp/1/\", \"temp.file\")  # конкатенация путей"
      ],
      "execution_count": null,
      "outputs": [
        {
          "output_type": "execute_result",
          "data": {
            "text/plain": [
              "'/tmp/1/temp.file'"
            ],
            "application/vnd.google.colaboratory.intrinsic+json": {
              "type": "string"
            }
          },
          "metadata": {},
          "execution_count": 11
        }
      ]
    },
    {
      "cell_type": "code",
      "metadata": {
        "trusted": true,
        "id": "qkFIMbhdMfjt",
        "colab": {
          "base_uri": "https://localhost:8080/",
          "height": 35
        },
        "outputId": "39a21037-c2b5-4fcd-f333-f9d442a6e84a"
      },
      "source": [
        "import os\n",
        "os.path.join(os.getcwd(), \"tmp.txt\", 'tmp2.txt')"
      ],
      "execution_count": null,
      "outputs": [
        {
          "output_type": "execute_result",
          "data": {
            "text/plain": [
              "'/content/tmp.txt/tmp2.txt'"
            ],
            "application/vnd.google.colaboratory.intrinsic+json": {
              "type": "string"
            }
          },
          "metadata": {},
          "execution_count": 12
        }
      ]
    },
    {
      "cell_type": "code",
      "source": [
        "os.path.join(\"tmp.txt\", '/tmp2', os.getcwd())"
      ],
      "metadata": {
        "colab": {
          "base_uri": "https://localhost:8080/",
          "height": 35
        },
        "id": "y_R_PUX6r8r5",
        "outputId": "4383df56-1dce-4585-97ff-dd3ea4cc211d"
      },
      "execution_count": null,
      "outputs": [
        {
          "output_type": "execute_result",
          "data": {
            "text/plain": [
              "'/content'"
            ],
            "application/vnd.google.colaboratory.intrinsic+json": {
              "type": "string"
            }
          },
          "metadata": {},
          "execution_count": 16
        }
      ]
    },
    {
      "cell_type": "code",
      "metadata": {
        "trusted": true,
        "id": "FiqxBS4lMfju",
        "colab": {
          "base_uri": "https://localhost:8080/",
          "height": 35
        },
        "outputId": "4df15931-d702-488c-ac7e-a406a9b26a05"
      },
      "source": [
        "os.path.dirname(\"/tmp/1/temp.file\")  # имя каталога по заданному полному пути"
      ],
      "execution_count": null,
      "outputs": [
        {
          "output_type": "execute_result",
          "data": {
            "text/plain": [
              "'/tmp/1'"
            ],
            "application/vnd.google.colaboratory.intrinsic+json": {
              "type": "string"
            }
          },
          "metadata": {},
          "execution_count": 17
        }
      ]
    },
    {
      "cell_type": "code",
      "metadata": {
        "trusted": true,
        "id": "bCvx213oMfjv",
        "colab": {
          "base_uri": "https://localhost:8080/",
          "height": 35
        },
        "outputId": "87241d60-8fb8-4dc2-d29e-d051b0aea0b2"
      },
      "source": [
        "os.path.dirname(\"/tmp/1/temp/txt/\")"
      ],
      "execution_count": null,
      "outputs": [
        {
          "output_type": "execute_result",
          "data": {
            "text/plain": [
              "'/tmp/1/temp/txt'"
            ],
            "application/vnd.google.colaboratory.intrinsic+json": {
              "type": "string"
            }
          },
          "metadata": {},
          "execution_count": 18
        }
      ]
    },
    {
      "cell_type": "code",
      "source": [
        "os.path.dirname(\"test.txt\")"
      ],
      "metadata": {
        "colab": {
          "base_uri": "https://localhost:8080/",
          "height": 35
        },
        "id": "66HElpp4sqUp",
        "outputId": "01490d84-0173-4e4e-a055-b8f6c5dadd8d"
      },
      "execution_count": null,
      "outputs": [
        {
          "output_type": "execute_result",
          "data": {
            "text/plain": [
              "''"
            ],
            "application/vnd.google.colaboratory.intrinsic+json": {
              "type": "string"
            }
          },
          "metadata": {},
          "execution_count": 19
        }
      ]
    },
    {
      "cell_type": "code",
      "metadata": {
        "trusted": true,
        "id": "Vd0P5wYnMfjw",
        "colab": {
          "base_uri": "https://localhost:8080/",
          "height": 35
        },
        "outputId": "a0fd8b4a-df34-4ac9-9498-4ebf3e4763a3"
      },
      "source": [
        "os.path.basename(\"/tmp/1/temp.file\")  # имя файла по заданному полному пути"
      ],
      "execution_count": null,
      "outputs": [
        {
          "output_type": "execute_result",
          "data": {
            "application/vnd.google.colaboratory.intrinsic+json": {
              "type": "string"
            },
            "text/plain": [
              "'temp.file'"
            ]
          },
          "metadata": {},
          "execution_count": 15
        }
      ]
    },
    {
      "cell_type": "code",
      "metadata": {
        "colab": {
          "base_uri": "https://localhost:8080/",
          "height": 35
        },
        "id": "EWb68w-zS-YH",
        "outputId": "50192dfd-46e5-4ced-d439-63596060c404"
      },
      "source": [
        "os.path.dirname(\"C:/temp\") # split(\"\\\"\")"
      ],
      "execution_count": null,
      "outputs": [
        {
          "output_type": "execute_result",
          "data": {
            "text/plain": [
              "'C:'"
            ],
            "application/vnd.google.colaboratory.intrinsic+json": {
              "type": "string"
            }
          },
          "metadata": {},
          "execution_count": 20
        }
      ]
    },
    {
      "cell_type": "code",
      "source": [
        "os.path.dirname(r\"C:\\temp\") # split(\"\\\"\")"
      ],
      "metadata": {
        "colab": {
          "base_uri": "https://localhost:8080/",
          "height": 35
        },
        "id": "cmTLaDLMtIiN",
        "outputId": "25a133d7-8e18-4ea4-8536-ddc3e1bc4476"
      },
      "execution_count": null,
      "outputs": [
        {
          "output_type": "execute_result",
          "data": {
            "text/plain": [
              "''"
            ],
            "application/vnd.google.colaboratory.intrinsic+json": {
              "type": "string"
            }
          },
          "metadata": {},
          "execution_count": 23
        }
      ]
    },
    {
      "cell_type": "code",
      "metadata": {
        "colab": {
          "base_uri": "https://localhost:8080/",
          "height": 35
        },
        "id": "OewIZtDlTrTi",
        "outputId": "21a6fb39-959e-4976-a1d4-4dab96fadef4"
      },
      "source": [
        "os.path.dirname(\"/C:\\temp\")"
      ],
      "execution_count": null,
      "outputs": [
        {
          "output_type": "execute_result",
          "data": {
            "text/plain": [
              "'/'"
            ],
            "application/vnd.google.colaboratory.intrinsic+json": {
              "type": "string"
            }
          },
          "metadata": {},
          "execution_count": 21
        }
      ]
    },
    {
      "cell_type": "code",
      "metadata": {
        "trusted": true,
        "id": "-PjNkRGbMfjy",
        "colab": {
          "base_uri": "https://localhost:8080/",
          "height": 35
        },
        "outputId": "d974e853-2fe1-4e72-87a6-80100afec2a7"
      },
      "source": [
        "os.path.normpath(\"/tmp//2/../1/temp.file\")  # нормализация пути"
      ],
      "execution_count": null,
      "outputs": [
        {
          "output_type": "execute_result",
          "data": {
            "text/plain": [
              "'/tmp/1/temp.file'"
            ],
            "application/vnd.google.colaboratory.intrinsic+json": {
              "type": "string"
            }
          },
          "metadata": {},
          "execution_count": 24
        }
      ]
    },
    {
      "cell_type": "code",
      "metadata": {
        "trusted": true,
        "id": "K8y1NNwxMfjz",
        "colab": {
          "base_uri": "https://localhost:8080/"
        },
        "outputId": "00e4b118-5247-47ec-9cb0-91e8c1cb44ee"
      },
      "source": [
        "os.path.exists(\"/tmp/1/temp.file\")  # существует ли путь?"
      ],
      "execution_count": null,
      "outputs": [
        {
          "output_type": "execute_result",
          "data": {
            "text/plain": [
              "False"
            ]
          },
          "metadata": {},
          "execution_count": 25
        }
      ]
    },
    {
      "cell_type": "markdown",
      "metadata": {
        "id": "ECqA-bedL80k"
      },
      "source": [
        "Для того чтобы обойти все папки и посмотреть их содержимое,  \n",
        "в модуле `os` есть функция `os.walk()`"
      ]
    },
    {
      "cell_type": "code",
      "metadata": {
        "trusted": true,
        "id": "Mb-6bACIL80k",
        "colab": {
          "base_uri": "https://localhost:8080/"
        },
        "outputId": "0cb535f1-3c0e-4933-db90-9c6ec058ac5e"
      },
      "source": [
        "for root, dirs, files in os.walk(start_path):\n",
        "    print(\"Текущая директория\", root)\n",
        "    print(\"---\")\n",
        "    \n",
        "    if dirs:\n",
        "        print(\"Список папок\", dirs)\n",
        "    else:\n",
        "        print(\"Папок нет\")\n",
        "    print(\"---\")\n",
        "    \n",
        "    if files:\n",
        "        print(\"Список файлов\", files)\n",
        "    else:\n",
        "        print(\"Файлов нет\")\n",
        "    print(\"---\")\n",
        "    \n",
        "    if files and dirs:\n",
        "        print(\"Все пути:\")\n",
        "    for f in files:\n",
        "        print(\"Файл \", os.path.join(root, f))\n",
        "    for d in dirs:\n",
        "        print(\"Папка \", os.path.join(root, d))\n",
        "    print(\"===\")"
      ],
      "execution_count": null,
      "outputs": [
        {
          "output_type": "stream",
          "name": "stdout",
          "text": [
            "Текущая директория /content\n",
            "---\n",
            "Список папок ['.config', 'sample_data']\n",
            "---\n",
            "Файлов нет\n",
            "---\n",
            "Папка  /content/.config\n",
            "Папка  /content/sample_data\n",
            "===\n",
            "Текущая директория /content/.config\n",
            "---\n",
            "Список папок ['configurations', 'logs']\n",
            "---\n",
            "Список файлов ['.last_opt_in_prompt.yaml', '.last_update_check.json', '.last_survey_prompt.yaml', '.metricsUUID', 'config_sentinel', 'active_config', 'gce', '.feature_flags_config.yaml']\n",
            "---\n",
            "Все пути:\n",
            "Файл  /content/.config/.last_opt_in_prompt.yaml\n",
            "Файл  /content/.config/.last_update_check.json\n",
            "Файл  /content/.config/.last_survey_prompt.yaml\n",
            "Файл  /content/.config/.metricsUUID\n",
            "Файл  /content/.config/config_sentinel\n",
            "Файл  /content/.config/active_config\n",
            "Файл  /content/.config/gce\n",
            "Файл  /content/.config/.feature_flags_config.yaml\n",
            "Папка  /content/.config/configurations\n",
            "Папка  /content/.config/logs\n",
            "===\n",
            "Текущая директория /content/.config/configurations\n",
            "---\n",
            "Папок нет\n",
            "---\n",
            "Список файлов ['config_default']\n",
            "---\n",
            "Файл  /content/.config/configurations/config_default\n",
            "===\n",
            "Текущая директория /content/.config/logs\n",
            "---\n",
            "Список папок ['2022.04.29']\n",
            "---\n",
            "Файлов нет\n",
            "---\n",
            "Папка  /content/.config/logs/2022.04.29\n",
            "===\n",
            "Текущая директория /content/.config/logs/2022.04.29\n",
            "---\n",
            "Папок нет\n",
            "---\n",
            "Список файлов ['03.17.54.522086.log', '03.18.45.955880.log', '03.18.38.285398.log', '03.18.18.142841.log', '03.19.07.605081.log', '03.19.06.809475.log']\n",
            "---\n",
            "Файл  /content/.config/logs/2022.04.29/03.17.54.522086.log\n",
            "Файл  /content/.config/logs/2022.04.29/03.18.45.955880.log\n",
            "Файл  /content/.config/logs/2022.04.29/03.18.38.285398.log\n",
            "Файл  /content/.config/logs/2022.04.29/03.18.18.142841.log\n",
            "Файл  /content/.config/logs/2022.04.29/03.19.07.605081.log\n",
            "Файл  /content/.config/logs/2022.04.29/03.19.06.809475.log\n",
            "===\n",
            "Текущая директория /content/sample_data\n",
            "---\n",
            "Папок нет\n",
            "---\n",
            "Список файлов ['anscombe.json', 'README.md', 'mnist_train_small.csv', 'california_housing_train.csv', 'california_housing_test.csv', 'mnist_test.csv']\n",
            "---\n",
            "Файл  /content/sample_data/anscombe.json\n",
            "Файл  /content/sample_data/README.md\n",
            "Файл  /content/sample_data/mnist_train_small.csv\n",
            "Файл  /content/sample_data/california_housing_train.csv\n",
            "Файл  /content/sample_data/california_housing_test.csv\n",
            "Файл  /content/sample_data/mnist_test.csv\n",
            "===\n"
          ]
        }
      ]
    },
    {
      "cell_type": "markdown",
      "metadata": {
        "id": "uoKusbLFL80l"
      },
      "source": [
        "Для того чтобы переместить файл необходимо воспользоваться  \n",
        "функцией `os.rename()`, которая принимает откуда и куда надо переместить файл"
      ]
    },
    {
      "cell_type": "markdown",
      "metadata": {
        "id": "wThnFolEL80l"
      },
      "source": [
        "Для того чтобы переместить папку со всем её содержимым,  \n",
        "необходимо воспользоваться модулем `shutil` и функцией `shutil.move()`"
      ]
    },
    {
      "cell_type": "markdown",
      "metadata": {
        "id": "ASz5Ttn4L80m"
      },
      "source": [
        "Для того чтобы удалить файл есть функция `os.remove()`.  \n",
        "А вот функция `os.rmdir()` удаляет директорию но только пустую."
      ]
    },
    {
      "cell_type": "markdown",
      "metadata": {
        "id": "gLA9JgrNL80m"
      },
      "source": [
        "**Будте очень осторожны, используя данную фукцию!!!**  \n",
        "`shutil.rmtree(path)` Удаляет текущую директорию (path)  \n",
        "и все поддиректории c их содержимым"
      ]
    },
    {
      "cell_type": "markdown",
      "metadata": {
        "id": "Ggb87yOCMfj1"
      },
      "source": [
        "## Файлы\n",
        "Python по умолчанию достаточно просто работает с файлами операционной системы.  \n",
        "Перед работой с файлом надо его открыть с помощью команды `open`.\n",
        "```python\n",
        "f = open('path/to/file', 'filemode', encoding='utf8')\n",
        "```\n",
        "\n",
        "Результатом этой операции будет указатель на файл,  \n",
        "в котором указатель текущей позиции поставлен на начало или конец файла."
      ]
    },
    {
      "cell_type": "markdown",
      "metadata": {
        "id": "-d2NFCoJMfj2"
      },
      "source": [
        "Давайте по порядку разберем все аргументы:\n",
        "- `path/to/file` путь к файлу может быть относительным или абсолютным.  \n",
        "Можно указывать в Unix-style (path/to/file) или в Windows-style (path\\\\to\\\\file)\n",
        "- `filemode` режим, в котором файл нужно открывать.  \n",
        "Записывается в виде строки, состоит из следующих букв:\n",
        " - **r** – открыть на чтение (по умолчанию)\n",
        " - **w** – перезаписать и открыть на запись (если файла нет, то он создастся)\n",
        " - **x** – создать и открыть на запись (если уже есть – исключение)\n",
        " - **a** – открыть на дозапись (указатель будет поставлен в конец)\n",
        " - **t** – открыть в текстовом виде (по умолчанию)\n",
        " - **b** – открыть в бинарном виде\n",
        "- `encoding` – указание, в какой кодировке файл записан (utf8, cp1251 и т.д.)\n",
        "\n",
        "При открытии файла в режимах на запись ставится блокировка на уровне операционной системы"
      ]
    },
    {
      "cell_type": "markdown",
      "metadata": {
        "id": "CT7vZMpSMfj3"
      },
      "source": [
        "### Указатель на позицию\n",
        "При открытии файла внутри него ставится указатель текущей позиции для чтения.  \n",
        "При открытии в режиме чтения или записи указатель ставится на начало,  \n",
        "в режиме **a** – в конец."
      ]
    },
    {
      "cell_type": "code",
      "metadata": {
        "trusted": true,
        "id": "mv_fsWR-Mfj3",
        "colab": {
          "base_uri": "https://localhost:8080/"
        },
        "outputId": "33da6081-03c5-4c43-98ed-1c72e63d544b"
      },
      "source": [
        "f = open('test.txt', 'w', encoding='utf8')  # \"wt\"\n",
        "\n",
        "# указатель на текущую позицию\n",
        "f.tell()  # 0"
      ],
      "execution_count": null,
      "outputs": [
        {
          "output_type": "execute_result",
          "data": {
            "text/plain": [
              "0"
            ]
          },
          "metadata": {},
          "execution_count": 27
        }
      ]
    },
    {
      "cell_type": "code",
      "metadata": {
        "trusted": true,
        "id": "s9CAhNByMfj4",
        "colab": {
          "base_uri": "https://localhost:8080/"
        },
        "outputId": "f9f10e21-6eff-4dee-ad68-456e2a1ebf19"
      },
      "source": [
        "# Запишем в файл строку\n",
        "f.write(\"This is a test string\\n\")"
      ],
      "execution_count": null,
      "outputs": [
        {
          "output_type": "execute_result",
          "data": {
            "text/plain": [
              "22"
            ]
          },
          "metadata": {},
          "execution_count": 28
        }
      ]
    },
    {
      "cell_type": "code",
      "source": [],
      "metadata": {
        "id": "j7VzwRFnzmJG"
      },
      "execution_count": null,
      "outputs": []
    },
    {
      "cell_type": "code",
      "source": [
        "f.flush()"
      ],
      "metadata": {
        "id": "rB1CrHghyDYH"
      },
      "execution_count": null,
      "outputs": []
    },
    {
      "cell_type": "markdown",
      "metadata": {
        "id": "cjW-gc6XMfj5"
      },
      "source": [
        "В качестве результата метод `write` возвращает количество записаных символов.  \n",
        "Данные буферизуются, т.е. попасть на жесткий диск могут не сразу,  \n",
        "если критично – после записи вызывайте `f.flush()` или закрывайте файл.\n",
        "\n",
        "Проверим, куда теперь указывает указатель"
      ]
    },
    {
      "cell_type": "code",
      "metadata": {
        "trusted": true,
        "id": "e-LeRitWMfj6",
        "colab": {
          "base_uri": "https://localhost:8080/"
        },
        "outputId": "faef5d2c-9fa5-4fb8-e653-2157be05007c"
      },
      "source": [
        "f.tell()"
      ],
      "execution_count": null,
      "outputs": [
        {
          "output_type": "execute_result",
          "data": {
            "text/plain": [
              "22"
            ]
          },
          "metadata": {},
          "execution_count": 30
        }
      ]
    },
    {
      "cell_type": "code",
      "metadata": {
        "trusted": true,
        "id": "67J38ODMMfj7",
        "colab": {
          "base_uri": "https://localhost:8080/"
        },
        "outputId": "ec141950-06d0-4417-f84f-5fe2e2af1a43"
      },
      "source": [
        "print(f.write(\"This is a new string\\n\"))\n",
        "print(f.tell())"
      ],
      "execution_count": null,
      "outputs": [
        {
          "output_type": "stream",
          "name": "stdout",
          "text": [
            "21\n",
            "43\n"
          ]
        }
      ]
    },
    {
      "cell_type": "markdown",
      "metadata": {
        "id": "isO-opUVMfj7"
      },
      "source": [
        "Каждая операция записи или чтения смещает указатель вправо на  \n",
        "определенное количество символов. \n",
        " \n",
        "Попробуем проверить это для чтения.  \n",
        "В режиме чтения можно открыть несколько параллельных сессий,  \n",
        "т.е. одновременных доступов, в отличии от записи.  \n",
        "\n",
        "Но для начала нужно закрыть файл."
      ]
    },
    {
      "cell_type": "code",
      "metadata": {
        "trusted": true,
        "id": "IJ3dlrDdMfj8"
      },
      "source": [
        "# обязательно нужно закрыть файл иначе он будет заблокирован ОС\n",
        "f.close()"
      ],
      "execution_count": null,
      "outputs": []
    },
    {
      "cell_type": "code",
      "metadata": {
        "trusted": true,
        "id": "GjuFltpOMfj8",
        "colab": {
          "base_uri": "https://localhost:8080/"
        },
        "outputId": "69ddd09a-af1f-459c-f389-a76a6802ab7c"
      },
      "source": [
        "f = open('test.txt', 'r', encoding='utf8')  # 'rt'\n",
        "print(f.tell())  # указываем на начало"
      ],
      "execution_count": null,
      "outputs": [
        {
          "output_type": "stream",
          "name": "stdout",
          "text": [
            "0\n"
          ]
        }
      ]
    },
    {
      "cell_type": "markdown",
      "metadata": {
        "id": "l7Tps5ZpMfj9"
      },
      "source": [
        "`f.read(n)` – операция, читающая с текущего места **`n`** символов,  \n",
        "если файл открыт в `t` режиме, или **`n`** байт, если файл открыт в `b` режиме,  \n",
        "и возвращающая прочитанную информацию."
      ]
    },
    {
      "cell_type": "code",
      "metadata": {
        "trusted": true,
        "id": "eAXAqtBWMfj9",
        "colab": {
          "base_uri": "https://localhost:8080/"
        },
        "outputId": "3cb18e67-744e-4225-9f2c-658f4be55bfa"
      },
      "source": [
        "print(f.read(10))\n",
        "print(f.tell())"
      ],
      "execution_count": null,
      "outputs": [
        {
          "output_type": "stream",
          "name": "stdout",
          "text": [
            "This is a \n",
            "10\n"
          ]
        }
      ]
    },
    {
      "cell_type": "markdown",
      "metadata": {
        "id": "F6b5AKlUMfj-"
      },
      "source": [
        "После прочтения, указатель на содержимое остается на той позиции,  \n",
        "где чтение закончилось."
      ]
    },
    {
      "cell_type": "markdown",
      "metadata": {
        "id": "xJscQwyJMfj-"
      },
      "source": [
        "Если **`n`** не указать, будет прочитано «от забора до обеда»,  \n",
        "т.е. от текущего места указателя до конца файла."
      ]
    },
    {
      "cell_type": "code",
      "metadata": {
        "trusted": true,
        "id": "Hwao8RUbMfj_",
        "colab": {
          "base_uri": "https://localhost:8080/",
          "height": 35
        },
        "outputId": "4444a44d-d934-483e-ba6f-e3edea8e02e7"
      },
      "source": [
        "f.read()  # считали остаток файла"
      ],
      "execution_count": null,
      "outputs": [
        {
          "output_type": "execute_result",
          "data": {
            "text/plain": [
              "'test string\\nThis is a new string\\n'"
            ],
            "application/vnd.google.colaboratory.intrinsic+json": {
              "type": "string"
            }
          },
          "metadata": {},
          "execution_count": 36
        }
      ]
    },
    {
      "cell_type": "code",
      "metadata": {
        "trusted": true,
        "id": "j3vQn_jqMfj_",
        "colab": {
          "base_uri": "https://localhost:8080/"
        },
        "outputId": "8df4db90-b92d-45f9-d27b-ed40d4c04d22"
      },
      "source": [
        "f.tell()"
      ],
      "execution_count": null,
      "outputs": [
        {
          "output_type": "execute_result",
          "data": {
            "text/plain": [
              "43"
            ]
          },
          "metadata": {},
          "execution_count": 33
        }
      ]
    },
    {
      "cell_type": "code",
      "metadata": {
        "trusted": true,
        "id": "lSvmZBBNMfkC"
      },
      "source": [
        "# обязательно закрываем файл\n",
        "f.close()"
      ],
      "execution_count": null,
      "outputs": []
    },
    {
      "cell_type": "markdown",
      "metadata": {
        "id": "fRVXWPUUMfkD"
      },
      "source": [
        "---\n",
        "### Чтение и запись построчно\n",
        "Зачастую с файлами удобнее работать построчно,  \n",
        "поэтому для этого есть отдельные методы"
      ]
    },
    {
      "cell_type": "code",
      "metadata": {
        "trusted": true,
        "id": "hqEkPt7lMfkD"
      },
      "source": [
        "f = open('test.txt', 'a', encoding='utf8')  # открываем файл на дозапись\n",
        "\n",
        "sequence = [\"other string\\n\", \"123\\n\", \"test test\\n\"]\n",
        "f.writelines(sequence) # берет строки из sequence и записывает в файл (без переносов)\n",
        "\n",
        "f.flush()\n",
        "f.close()"
      ],
      "execution_count": null,
      "outputs": []
    },
    {
      "cell_type": "markdown",
      "metadata": {
        "id": "OkwS5SKYMfkD"
      },
      "source": [
        "Метод `f.writelines(sequence)` не будет сам за вас дозаписывать  \n",
        "символ конца строки (`\"\\n\"`).  \n",
        "Поэтому при необходимости его нужно записывать вручную.  \n",
        "\n",
        "Попробуем теперь построчно считать файл."
      ]
    },
    {
      "cell_type": "code",
      "metadata": {
        "trusted": true,
        "id": "LtYC0wN1MfkE",
        "colab": {
          "base_uri": "https://localhost:8080/"
        },
        "outputId": "9d751749-0079-452f-d582-0a4655994980"
      },
      "source": [
        "f = open('test.txt', 'r', encoding='utf8')\n",
        "\n",
        "print(f.readlines())  # считывает все строки в список и возвращает список\n",
        "\n",
        "f.close()"
      ],
      "execution_count": null,
      "outputs": [
        {
          "output_type": "stream",
          "name": "stdout",
          "text": [
            "['This is a test string\\n', 'This is a new string\\n', 'other string\\n', '123\\n', 'test test\\n', 'other string\\n', '123\\n', 'test test\\n', 'other string\\n', '123\\n', 'test test\\n']\n"
          ]
        }
      ]
    },
    {
      "cell_type": "markdown",
      "metadata": {
        "id": "m1HcPWlCMfkF"
      },
      "source": [
        "Метод `f.readline()` возвращает строку (символы от текущей позиции до символа переноса строки)"
      ]
    },
    {
      "cell_type": "code",
      "metadata": {
        "trusted": true,
        "id": "1sfyK4dBMfkF",
        "colab": {
          "base_uri": "https://localhost:8080/"
        },
        "outputId": "d8ef7990-4c5e-4702-bee3-ee4e76deb81d"
      },
      "source": [
        "f = open('test.txt', 'r', encoding='utf8')\n",
        "\n",
        "print(f.readline())\n",
        "print(f.read(4))\n",
        "print(f.readline())\n",
        "\n",
        "f.close()"
      ],
      "execution_count": null,
      "outputs": [
        {
          "output_type": "stream",
          "name": "stdout",
          "text": [
            "This is a test string\n",
            "\n",
            "This\n",
            " is a new string\n",
            "\n"
          ]
        }
      ]
    },
    {
      "cell_type": "markdown",
      "metadata": {
        "id": "sehVow0xMfkF"
      },
      "source": [
        "Объект файл является **итератором**, поэтому его можно использовать в цикле `for`"
      ]
    },
    {
      "cell_type": "code",
      "metadata": {
        "trusted": true,
        "id": "9GPgjo6XMfkG",
        "colab": {
          "base_uri": "https://localhost:8080/"
        },
        "outputId": "51e3d2f3-f740-4c8c-c333-91203f2e6e61"
      },
      "source": [
        "f = open('test.txt') # можно перечислять строки в файле\n",
        "for line in f:\n",
        "    print(line.rstrip())  # print(line, end='')\n",
        "    \n",
        "f.close()"
      ],
      "execution_count": null,
      "outputs": [
        {
          "output_type": "stream",
          "name": "stdout",
          "text": [
            "This is a test string\n",
            "This is a new string\n",
            "other string\n",
            "123\n",
            "test test\n",
            "other string\n",
            "123\n",
            "test test\n",
            "other string\n",
            "123\n",
            "test test\n"
          ]
        }
      ]
    },
    {
      "cell_type": "code",
      "source": [
        "f = open('test.txt') # можно перечислять строки в файле\n",
        "for line in f:\n",
        "    if line.strip().isdigit():\n",
        "        print(int(line.strip()))  # print(line, end='')\n",
        "    else:\n",
        "        print(line.rstrip())    \n",
        "f.close()"
      ],
      "metadata": {
        "colab": {
          "base_uri": "https://localhost:8080/"
        },
        "id": "9gizZwCS4xNe",
        "outputId": "7a4c79aa-2474-4057-c026-f86b4952f3fd"
      },
      "execution_count": null,
      "outputs": [
        {
          "output_type": "stream",
          "name": "stdout",
          "text": [
            "This is a test string\n",
            "This is a new string\n",
            "other string\n",
            "123\n",
            "test test\n",
            "other string\n",
            "123\n",
            "test test\n",
            "other string\n",
            "123\n",
            "test test\n"
          ]
        }
      ]
    },
    {
      "cell_type": "code",
      "metadata": {
        "trusted": true,
        "id": "aCpdiBa4MfkG",
        "colab": {
          "base_uri": "https://localhost:8080/"
        },
        "outputId": "98546de1-147d-4e1f-d0e7-8b21098de0e7"
      },
      "source": [
        "f = open('test.txt', 'r', encoding='utf8')\n",
        "print(f)"
      ],
      "execution_count": null,
      "outputs": [
        {
          "output_type": "stream",
          "name": "stdout",
          "text": [
            "<_io.TextIOWrapper name='test.txt' mode='r' encoding='utf8'>\n"
          ]
        }
      ]
    },
    {
      "cell_type": "code",
      "metadata": {
        "trusted": true,
        "id": "mHmRBlhlMfkH",
        "colab": {
          "base_uri": "https://localhost:8080/"
        },
        "outputId": "a83ed5a2-5547-486c-b2b7-1bff2748a197"
      },
      "source": [
        "# указатель на файл сам является итератором\n",
        "print(f is iter(f))"
      ],
      "execution_count": null,
      "outputs": [
        {
          "output_type": "stream",
          "name": "stdout",
          "text": [
            "True\n"
          ]
        }
      ]
    },
    {
      "cell_type": "markdown",
      "metadata": {
        "id": "49NAvfiUMfkH"
      },
      "source": [
        "---\n",
        "### Менеджер контекста with\n",
        "После работы с файлом его нужно освободить с помощью метода `close()`.\n",
        "\n",
        "Хэндлер данного файла освобождается для операционной системы  \n",
        "(если файл был открыт для записи) и другие приложения могут получать к нему доступ.\n",
        "\n",
        "Если не закрыть – будет висеть, пока не закроете Python или  \n",
        "сборщик мусора (garbage collector) не решит удалить его."
      ]
    },
    {
      "cell_type": "markdown",
      "metadata": {
        "id": "Dr3Rxsi9MfkI"
      },
      "source": [
        "Для явного указания места работы с файлом, а также чтобы не забывать  \n",
        "закрыть файл после обработки, существует менеджер контекста `with`.  \n",
        "\n",
        "В блоке менеджера контекста открытый файл «жив» и с ним можно работать,  \n",
        "при выходе из блока – файл закрывается."
      ]
    },
    {
      "cell_type": "code",
      "metadata": {
        "trusted": true,
        "id": "T0v18Ee0MfkI",
        "colab": {
          "base_uri": "https://localhost:8080/",
          "height": 235
        },
        "outputId": "47fb343a-7a18-4ed7-eaee-749a8583a7a5"
      },
      "source": [
        "with open(\"test.txt\", 'r') as f:\n",
        "    print(f.readline())\n",
        "\n",
        "f.read(3)  # Error!"
      ],
      "execution_count": null,
      "outputs": [
        {
          "output_type": "stream",
          "name": "stdout",
          "text": [
            "This is a test string\n",
            "\n"
          ]
        },
        {
          "output_type": "error",
          "ename": "ValueError",
          "evalue": "ignored",
          "traceback": [
            "\u001b[0;31m---------------------------------------------------------------------------\u001b[0m",
            "\u001b[0;31mValueError\u001b[0m                                Traceback (most recent call last)",
            "\u001b[0;32m<ipython-input-51-d63359c85fec>\u001b[0m in \u001b[0;36m<module>\u001b[0;34m()\u001b[0m\n\u001b[1;32m      2\u001b[0m     \u001b[0mprint\u001b[0m\u001b[0;34m(\u001b[0m\u001b[0mf\u001b[0m\u001b[0;34m.\u001b[0m\u001b[0mreadline\u001b[0m\u001b[0;34m(\u001b[0m\u001b[0;34m)\u001b[0m\u001b[0;34m)\u001b[0m\u001b[0;34m\u001b[0m\u001b[0;34m\u001b[0m\u001b[0m\n\u001b[1;32m      3\u001b[0m \u001b[0;34m\u001b[0m\u001b[0m\n\u001b[0;32m----> 4\u001b[0;31m \u001b[0mf\u001b[0m\u001b[0;34m.\u001b[0m\u001b[0mread\u001b[0m\u001b[0;34m(\u001b[0m\u001b[0;36m3\u001b[0m\u001b[0;34m)\u001b[0m  \u001b[0;31m# Error!\u001b[0m\u001b[0;34m\u001b[0m\u001b[0;34m\u001b[0m\u001b[0m\n\u001b[0m",
            "\u001b[0;31mValueError\u001b[0m: I/O operation on closed file."
          ]
        }
      ]
    },
    {
      "cell_type": "code",
      "metadata": {
        "id": "j06U4ZsFk4RM"
      },
      "source": [
        "try:\n",
        "    f = open(...)\n",
        "except Exception:\n",
        "    ...\n",
        "finally:\n",
        "    f.flush()\n",
        "    f.close()"
      ],
      "execution_count": null,
      "outputs": []
    },
    {
      "cell_type": "code",
      "metadata": {
        "id": "_NIfITlMkiSj"
      },
      "source": [
        "text = open(\"text.txt\").read()"
      ],
      "execution_count": null,
      "outputs": []
    },
    {
      "cell_type": "code",
      "metadata": {
        "id": "1xfpDigulh_0"
      },
      "source": [
        "with open(\"test.txt\", 'r') as f:\n",
        "    with open(\"test_new.txt\", \"w\") as f1:\n",
        "        ..."
      ],
      "execution_count": null,
      "outputs": []
    },
    {
      "cell_type": "markdown",
      "metadata": {
        "id": "3iaDkzBuMfkI"
      },
      "source": [
        "Менеджер контекста неявно вызывает закрытие файла после работы.  \n",
        "Что освобождает вас от забот о том, закрыли ли вы файл или нет.  \n",
        "\n",
        "Закрытие файла происходит при любом стечении обстоятельств,  \n",
        "даже если внутри `with` будет ошибка."
      ]
    },
    {
      "cell_type": "markdown",
      "metadata": {
        "id": "OFkNidTzMfkJ"
      },
      "source": [
        "# Сериализация"
      ]
    },
    {
      "cell_type": "markdown",
      "metadata": {
        "id": "EDdtOWEwMfkJ"
      },
      "source": [
        "**Сериализация** – процесс перевода какой-либо структуры данных в другой  формат,  \n",
        "более удобный для хранения и/или передачи.  \n",
        "\n",
        "Основная задача сериализации – эффективно (т.е. обычно с наименьшим размером)  \n",
        "сохранить или передать данные, при условии, что их можно десериализовать в исходные.  \n",
        "\n",
        "Чаще всего это работа на низком уровне с байтами и различными структурами.  \n",
        "Но не обязательно.\n"
      ]
    },
    {
      "cell_type": "markdown",
      "metadata": {
        "id": "_IOmJrXHMfkN"
      },
      "source": [
        "### JSON \n",
        "**JSON** – JavaScript Object Notation – текстовый формат обмена данными.  \n",
        "\n",
        "Легко читаем людьми, однозначно записывает данные, подходит для  \n",
        "сериализации сложных структур. Много используется в вебе."
      ]
    },
    {
      "cell_type": "markdown",
      "metadata": {
        "id": "9inXg3QJMfkN"
      },
      "source": [
        "Пример JSON:\n",
        "```JavaScript\n",
        "{\n",
        "    \"firstName\": \"Иван\",\n",
        "    \"lastName\": \"Иванов\",\n",
        "    \"address\": {\n",
        "        \"streetAddress\": \"Московское ш., 101, кв.101\",\n",
        "        \"city\": \"Ленинград\",\n",
        "        \"postalCode\": \"101101“\n",
        "    },\n",
        "    \"phoneNumbers\": [\"812 123-1234\", \"916 123-4567“]\n",
        "}\n",
        "```"
      ]
    },
    {
      "cell_type": "markdown",
      "metadata": {
        "id": "4aXiFED6MfkN"
      },
      "source": [
        "**Преимущества**:\n",
        "- Человекочитаем – легко проверять данные и находить ошибки в реализации\n",
        "- Текстовый формат, нативно поддерживается в http\n",
        "- Лаконичен\n",
        "- Широко распространен\n",
        "\n",
        "**Недостатки**:\n",
        "- Поддерживает ограниченное число типов данных (числа, строки, Boolean, None, list, dict)\n",
        "- Нельзя задать рекурсивные структуры"
      ]
    },
    {
      "cell_type": "markdown",
      "metadata": {
        "id": "E7-GOU6TMfkO"
      },
      "source": [
        "---\n",
        "Для работы с форматом JSON сериализации используется модуль `json`."
      ]
    },
    {
      "cell_type": "code",
      "metadata": {
        "trusted": true,
        "id": "0IJVq5FnMfkO"
      },
      "source": [
        "# импортируем модуль JSON\n",
        "import json"
      ],
      "execution_count": null,
      "outputs": []
    },
    {
      "cell_type": "markdown",
      "metadata": {
        "id": "sffowJgBMfkO"
      },
      "source": [
        "Основные методы:\n",
        "- `json.dumps(obj)` – преобразует объект в строку формата JSON\n",
        "- `json.loads(str)` – преобразует строку формата JSON в объект языка  \n",
        "Python (выдает `ValueError`, если строка неверная)\n",
        "\n"
      ]
    },
    {
      "cell_type": "markdown",
      "metadata": {
        "id": "9g-0StC9MfkO"
      },
      "source": [
        "#### Кодирование\n",
        "Процесс, при котором берется python объект, а на выходе получается строка формата json"
      ]
    },
    {
      "cell_type": "code",
      "metadata": {
        "trusted": true,
        "id": "cph9rI0bMfkP",
        "colab": {
          "base_uri": "https://localhost:8080/",
          "height": 35
        },
        "outputId": "b55b08e9-85a3-4a8e-efb2-1a763de0da0a"
      },
      "source": [
        "# Закодируем Python объект в json строку\n",
        "json.dumps([1, 2, 3, {'4': 5, '6': 7}])"
      ],
      "execution_count": null,
      "outputs": [
        {
          "output_type": "execute_result",
          "data": {
            "text/plain": [
              "'[1, 2, 3, {\"4\": 5, \"6\": 7}]'"
            ],
            "application/vnd.google.colaboratory.intrinsic+json": {
              "type": "string"
            }
          },
          "metadata": {},
          "execution_count": 53
        }
      ]
    },
    {
      "cell_type": "code",
      "metadata": {
        "trusted": true,
        "id": "-2gtuwKxMfkP",
        "colab": {
          "base_uri": "https://localhost:8080/",
          "height": 35
        },
        "outputId": "2a9b59b8-15d3-475a-f132-833ca7f76c58"
      },
      "source": [
        "# Закодируем Python объект в json строку компактным способом\n",
        "json.dumps([1, 2, 3, {'4': 5, '6': 7}], separators=(',', ':'))"
      ],
      "execution_count": null,
      "outputs": [
        {
          "output_type": "execute_result",
          "data": {
            "text/plain": [
              "'[1,2,3,{\"4\":5,\"6\":7}]'"
            ],
            "application/vnd.google.colaboratory.intrinsic+json": {
              "type": "string"
            }
          },
          "metadata": {},
          "execution_count": 54
        }
      ]
    },
    {
      "cell_type": "code",
      "metadata": {
        "trusted": true,
        "id": "DzM7VCJwMfkQ",
        "colab": {
          "base_uri": "https://localhost:8080/"
        },
        "outputId": "012c47c5-a41e-417d-8452-cf5cd749509b"
      },
      "source": [
        "# вывод в читабельном формате\n",
        "print(json.dumps([1, 2, 3, {'4': 5, '6': 7}], indent=1))"
      ],
      "execution_count": null,
      "outputs": [
        {
          "output_type": "stream",
          "name": "stdout",
          "text": [
            "[\n",
            " 1,\n",
            " 2,\n",
            " 3,\n",
            " {\n",
            "  \"4\": 5,\n",
            "  \"6\": 7\n",
            " }\n",
            "]\n"
          ]
        }
      ]
    },
    {
      "cell_type": "code",
      "source": [
        "# вывод в читабельном формате\n",
        "print(json.dumps([1, 2, 3, {'4': 5, '6': 7}], indent=4))"
      ],
      "metadata": {
        "colab": {
          "base_uri": "https://localhost:8080/"
        },
        "id": "ZB-GNj8CByuL",
        "outputId": "a7840a62-dc12-4aba-e639-1deb35c16931"
      },
      "execution_count": null,
      "outputs": [
        {
          "output_type": "stream",
          "name": "stdout",
          "text": [
            "[\n",
            "    1,\n",
            "    2,\n",
            "    3,\n",
            "    {\n",
            "        \"4\": 5,\n",
            "        \"6\": 7\n",
            "    }\n",
            "]\n"
          ]
        }
      ]
    },
    {
      "cell_type": "code",
      "metadata": {
        "trusted": true,
        "id": "rl7bx9YTMfkQ",
        "colab": {
          "base_uri": "https://localhost:8080/"
        },
        "outputId": "2e834ba0-36ea-4ebb-ddec-5215cdb90796"
      },
      "source": [
        "print(json.dumps([1, 2, 3, {'4': 5, '6': 7}], indent=10))"
      ],
      "execution_count": null,
      "outputs": [
        {
          "output_type": "stream",
          "name": "stdout",
          "text": [
            "[\n",
            "          1,\n",
            "          2,\n",
            "          3,\n",
            "          {\n",
            "                    \"4\": 5,\n",
            "                    \"6\": 7\n",
            "          }\n",
            "]\n"
          ]
        }
      ]
    },
    {
      "cell_type": "code",
      "metadata": {
        "trusted": true,
        "id": "neTdmzUuMfkQ",
        "colab": {
          "base_uri": "https://localhost:8080/"
        },
        "outputId": "b5c09136-fa73-4f06-ec4f-aed4d2ba07b5"
      },
      "source": [
        "# json не поддерживает `tuple`\n",
        "print(json.dumps([(1, 2, 3), [4, 5, 6]], indent=4))"
      ],
      "execution_count": null,
      "outputs": [
        {
          "output_type": "stream",
          "name": "stdout",
          "text": [
            "[\n",
            "    [\n",
            "        1,\n",
            "        2,\n",
            "        3\n",
            "    ],\n",
            "    [\n",
            "        4,\n",
            "        5,\n",
            "        6\n",
            "    ]\n",
            "]\n"
          ]
        }
      ]
    },
    {
      "cell_type": "markdown",
      "metadata": {
        "id": "e4l31HyVMfkR"
      },
      "source": [
        "#### Декодирование\n",
        "Процесс обратный кодированию, при котором берется строка json формата,  \n",
        "а на выходе получается объект python.  \n",
        "\n",
        "Имейте ввиду результат декодирования не всегда эквивалентен исходному объекту"
      ]
    },
    {
      "cell_type": "code",
      "metadata": {
        "trusted": true,
        "id": "G5hWmOywMfkS"
      },
      "source": [
        "def check_code_decode_json(src):\n",
        "    json_str = json.dumps(src)\n",
        "    python_obj = json.loads(json_str)\n",
        "\n",
        "    print('src:', src)\n",
        "    print('json:', json_str)\n",
        "    print('result', python_obj)\n",
        "    \n",
        "    return src == python_obj"
      ],
      "execution_count": null,
      "outputs": []
    },
    {
      "cell_type": "code",
      "metadata": {
        "trusted": true,
        "id": "37izm411MfkS",
        "colab": {
          "base_uri": "https://localhost:8080/"
        },
        "outputId": "cd972600-82f8-481b-b0f1-fbebb0184f67"
      },
      "source": [
        "src = [1, 2, 3, {\"4\": 5, '6': 7}]\n",
        "check_code_decode_json(src)"
      ],
      "execution_count": null,
      "outputs": [
        {
          "output_type": "stream",
          "name": "stdout",
          "text": [
            "src: [1, 2, 3, {'4': 5, '6': 7}]\n",
            "json: [1, 2, 3, {\"4\": 5, \"6\": 7}]\n",
            "result [1, 2, 3, {'4': 5, '6': 7}]\n"
          ]
        },
        {
          "output_type": "execute_result",
          "data": {
            "text/plain": [
              "True"
            ]
          },
          "metadata": {},
          "execution_count": 60
        }
      ]
    },
    {
      "cell_type": "code",
      "metadata": {
        "trusted": true,
        "id": "BtYQS8ZPMfkS",
        "colab": {
          "base_uri": "https://localhost:8080/"
        },
        "outputId": "db489d16-1300-4ee3-8a3d-f6b7bdff37c1"
      },
      "source": [
        "# использование tuple\n",
        "src = [(1, 2, 3)]\n",
        "check_code_decode_json(src)"
      ],
      "execution_count": null,
      "outputs": [
        {
          "output_type": "stream",
          "name": "stdout",
          "text": [
            "src: [(1, 2, 3)]\n",
            "json: [[1, 2, 3]]\n",
            "result [[1, 2, 3]]\n"
          ]
        },
        {
          "output_type": "execute_result",
          "data": {
            "text/plain": [
              "False"
            ]
          },
          "metadata": {},
          "execution_count": 61
        }
      ]
    },
    {
      "cell_type": "code",
      "metadata": {
        "trusted": true,
        "id": "hxU-OAZ1MfkT",
        "colab": {
          "base_uri": "https://localhost:8080/"
        },
        "outputId": "a1b10f84-e169-4f73-8ef2-4bf238fcbed0"
      },
      "source": [
        "# в json ключи приводятся к строке, а в неявном виде не декодируется назад\n",
        "src = [{4: 5, 6: 7}]\n",
        "check_code_decode_json(src)"
      ],
      "execution_count": null,
      "outputs": [
        {
          "output_type": "stream",
          "name": "stdout",
          "text": [
            "src: [{4: 5, 6: 7}]\n",
            "json: [{\"4\": 5, \"6\": 7}]\n",
            "result [{'4': 5, '6': 7}]\n"
          ]
        },
        {
          "output_type": "execute_result",
          "data": {
            "text/plain": [
              "False"
            ]
          },
          "metadata": {},
          "execution_count": 62
        }
      ]
    },
    {
      "cell_type": "code",
      "source": [
        "src = [{(4,): 5, 6: 7}]\n",
        "check_code_decode_json(src)"
      ],
      "metadata": {
        "colab": {
          "base_uri": "https://localhost:8080/",
          "height": 329
        },
        "id": "vgSjzXIGCiHp",
        "outputId": "4a3fa751-301b-41c0-d248-3b280a404212"
      },
      "execution_count": null,
      "outputs": [
        {
          "output_type": "error",
          "ename": "TypeError",
          "evalue": "ignored",
          "traceback": [
            "\u001b[0;31m---------------------------------------------------------------------------\u001b[0m",
            "\u001b[0;31mTypeError\u001b[0m                                 Traceback (most recent call last)",
            "\u001b[0;32m<ipython-input-63-661e30eed44f>\u001b[0m in \u001b[0;36m<module>\u001b[0;34m()\u001b[0m\n\u001b[1;32m      1\u001b[0m \u001b[0msrc\u001b[0m \u001b[0;34m=\u001b[0m \u001b[0;34m[\u001b[0m\u001b[0;34m{\u001b[0m\u001b[0;34m(\u001b[0m\u001b[0;36m4\u001b[0m\u001b[0;34m,\u001b[0m\u001b[0;34m)\u001b[0m\u001b[0;34m:\u001b[0m \u001b[0;36m5\u001b[0m\u001b[0;34m,\u001b[0m \u001b[0;36m6\u001b[0m\u001b[0;34m:\u001b[0m \u001b[0;36m7\u001b[0m\u001b[0;34m}\u001b[0m\u001b[0;34m]\u001b[0m\u001b[0;34m\u001b[0m\u001b[0;34m\u001b[0m\u001b[0m\n\u001b[0;32m----> 2\u001b[0;31m \u001b[0mcheck_code_decode_json\u001b[0m\u001b[0;34m(\u001b[0m\u001b[0msrc\u001b[0m\u001b[0;34m)\u001b[0m\u001b[0;34m\u001b[0m\u001b[0;34m\u001b[0m\u001b[0m\n\u001b[0m",
            "\u001b[0;32m<ipython-input-59-10b447eb177e>\u001b[0m in \u001b[0;36mcheck_code_decode_json\u001b[0;34m(src)\u001b[0m\n\u001b[1;32m      1\u001b[0m \u001b[0;32mdef\u001b[0m \u001b[0mcheck_code_decode_json\u001b[0m\u001b[0;34m(\u001b[0m\u001b[0msrc\u001b[0m\u001b[0;34m)\u001b[0m\u001b[0;34m:\u001b[0m\u001b[0;34m\u001b[0m\u001b[0;34m\u001b[0m\u001b[0m\n\u001b[0;32m----> 2\u001b[0;31m     \u001b[0mjson_str\u001b[0m \u001b[0;34m=\u001b[0m \u001b[0mjson\u001b[0m\u001b[0;34m.\u001b[0m\u001b[0mdumps\u001b[0m\u001b[0;34m(\u001b[0m\u001b[0msrc\u001b[0m\u001b[0;34m)\u001b[0m\u001b[0;34m\u001b[0m\u001b[0;34m\u001b[0m\u001b[0m\n\u001b[0m\u001b[1;32m      3\u001b[0m     \u001b[0mpython_obj\u001b[0m \u001b[0;34m=\u001b[0m \u001b[0mjson\u001b[0m\u001b[0;34m.\u001b[0m\u001b[0mloads\u001b[0m\u001b[0;34m(\u001b[0m\u001b[0mjson_str\u001b[0m\u001b[0;34m)\u001b[0m\u001b[0;34m\u001b[0m\u001b[0;34m\u001b[0m\u001b[0m\n\u001b[1;32m      4\u001b[0m \u001b[0;34m\u001b[0m\u001b[0m\n\u001b[1;32m      5\u001b[0m     \u001b[0mprint\u001b[0m\u001b[0;34m(\u001b[0m\u001b[0;34m'src:'\u001b[0m\u001b[0;34m,\u001b[0m \u001b[0msrc\u001b[0m\u001b[0;34m)\u001b[0m\u001b[0;34m\u001b[0m\u001b[0;34m\u001b[0m\u001b[0m\n",
            "\u001b[0;32m/usr/lib/python3.7/json/__init__.py\u001b[0m in \u001b[0;36mdumps\u001b[0;34m(obj, skipkeys, ensure_ascii, check_circular, allow_nan, cls, indent, separators, default, sort_keys, **kw)\u001b[0m\n\u001b[1;32m    229\u001b[0m         \u001b[0mcls\u001b[0m \u001b[0;32mis\u001b[0m \u001b[0;32mNone\u001b[0m \u001b[0;32mand\u001b[0m \u001b[0mindent\u001b[0m \u001b[0;32mis\u001b[0m \u001b[0;32mNone\u001b[0m \u001b[0;32mand\u001b[0m \u001b[0mseparators\u001b[0m \u001b[0;32mis\u001b[0m \u001b[0;32mNone\u001b[0m \u001b[0;32mand\u001b[0m\u001b[0;34m\u001b[0m\u001b[0;34m\u001b[0m\u001b[0m\n\u001b[1;32m    230\u001b[0m         default is None and not sort_keys and not kw):\n\u001b[0;32m--> 231\u001b[0;31m         \u001b[0;32mreturn\u001b[0m \u001b[0m_default_encoder\u001b[0m\u001b[0;34m.\u001b[0m\u001b[0mencode\u001b[0m\u001b[0;34m(\u001b[0m\u001b[0mobj\u001b[0m\u001b[0;34m)\u001b[0m\u001b[0;34m\u001b[0m\u001b[0;34m\u001b[0m\u001b[0m\n\u001b[0m\u001b[1;32m    232\u001b[0m     \u001b[0;32mif\u001b[0m \u001b[0mcls\u001b[0m \u001b[0;32mis\u001b[0m \u001b[0;32mNone\u001b[0m\u001b[0;34m:\u001b[0m\u001b[0;34m\u001b[0m\u001b[0;34m\u001b[0m\u001b[0m\n\u001b[1;32m    233\u001b[0m         \u001b[0mcls\u001b[0m \u001b[0;34m=\u001b[0m \u001b[0mJSONEncoder\u001b[0m\u001b[0;34m\u001b[0m\u001b[0;34m\u001b[0m\u001b[0m\n",
            "\u001b[0;32m/usr/lib/python3.7/json/encoder.py\u001b[0m in \u001b[0;36mencode\u001b[0;34m(self, o)\u001b[0m\n\u001b[1;32m    197\u001b[0m         \u001b[0;31m# exceptions aren't as detailed.  The list call should be roughly\u001b[0m\u001b[0;34m\u001b[0m\u001b[0;34m\u001b[0m\u001b[0;34m\u001b[0m\u001b[0m\n\u001b[1;32m    198\u001b[0m         \u001b[0;31m# equivalent to the PySequence_Fast that ''.join() would do.\u001b[0m\u001b[0;34m\u001b[0m\u001b[0;34m\u001b[0m\u001b[0;34m\u001b[0m\u001b[0m\n\u001b[0;32m--> 199\u001b[0;31m         \u001b[0mchunks\u001b[0m \u001b[0;34m=\u001b[0m \u001b[0mself\u001b[0m\u001b[0;34m.\u001b[0m\u001b[0miterencode\u001b[0m\u001b[0;34m(\u001b[0m\u001b[0mo\u001b[0m\u001b[0;34m,\u001b[0m \u001b[0m_one_shot\u001b[0m\u001b[0;34m=\u001b[0m\u001b[0;32mTrue\u001b[0m\u001b[0;34m)\u001b[0m\u001b[0;34m\u001b[0m\u001b[0;34m\u001b[0m\u001b[0m\n\u001b[0m\u001b[1;32m    200\u001b[0m         \u001b[0;32mif\u001b[0m \u001b[0;32mnot\u001b[0m \u001b[0misinstance\u001b[0m\u001b[0;34m(\u001b[0m\u001b[0mchunks\u001b[0m\u001b[0;34m,\u001b[0m \u001b[0;34m(\u001b[0m\u001b[0mlist\u001b[0m\u001b[0;34m,\u001b[0m \u001b[0mtuple\u001b[0m\u001b[0;34m)\u001b[0m\u001b[0;34m)\u001b[0m\u001b[0;34m:\u001b[0m\u001b[0;34m\u001b[0m\u001b[0;34m\u001b[0m\u001b[0m\n\u001b[1;32m    201\u001b[0m             \u001b[0mchunks\u001b[0m \u001b[0;34m=\u001b[0m \u001b[0mlist\u001b[0m\u001b[0;34m(\u001b[0m\u001b[0mchunks\u001b[0m\u001b[0;34m)\u001b[0m\u001b[0;34m\u001b[0m\u001b[0;34m\u001b[0m\u001b[0m\n",
            "\u001b[0;32m/usr/lib/python3.7/json/encoder.py\u001b[0m in \u001b[0;36miterencode\u001b[0;34m(self, o, _one_shot)\u001b[0m\n\u001b[1;32m    255\u001b[0m                 \u001b[0mself\u001b[0m\u001b[0;34m.\u001b[0m\u001b[0mkey_separator\u001b[0m\u001b[0;34m,\u001b[0m \u001b[0mself\u001b[0m\u001b[0;34m.\u001b[0m\u001b[0mitem_separator\u001b[0m\u001b[0;34m,\u001b[0m \u001b[0mself\u001b[0m\u001b[0;34m.\u001b[0m\u001b[0msort_keys\u001b[0m\u001b[0;34m,\u001b[0m\u001b[0;34m\u001b[0m\u001b[0;34m\u001b[0m\u001b[0m\n\u001b[1;32m    256\u001b[0m                 self.skipkeys, _one_shot)\n\u001b[0;32m--> 257\u001b[0;31m         \u001b[0;32mreturn\u001b[0m \u001b[0m_iterencode\u001b[0m\u001b[0;34m(\u001b[0m\u001b[0mo\u001b[0m\u001b[0;34m,\u001b[0m \u001b[0;36m0\u001b[0m\u001b[0;34m)\u001b[0m\u001b[0;34m\u001b[0m\u001b[0;34m\u001b[0m\u001b[0m\n\u001b[0m\u001b[1;32m    258\u001b[0m \u001b[0;34m\u001b[0m\u001b[0m\n\u001b[1;32m    259\u001b[0m def _make_iterencode(markers, _default, _encoder, _indent, _floatstr,\n",
            "\u001b[0;31mTypeError\u001b[0m: keys must be str, int, float, bool or None, not tuple"
          ]
        }
      ]
    },
    {
      "cell_type": "markdown",
      "metadata": {
        "id": "bkX1oAhbV2pb"
      },
      "source": [
        "## Dump и load"
      ]
    },
    {
      "cell_type": "markdown",
      "metadata": {
        "id": "R2bNZ_8EMfkU"
      },
      "source": [
        "Не путайте `dumps` с `dump`, а `loads` с `load`!  \n",
        "Последние функции предназначены для работы с каким-либо  \n",
        "источником (файлом, потоком данных и т.д.)"
      ]
    },
    {
      "cell_type": "code",
      "metadata": {
        "colab": {
          "base_uri": "https://localhost:8080/"
        },
        "id": "tgT9dv25WAOb",
        "outputId": "8c3eb6b1-a9c1-4e71-98f6-009a682673b7"
      },
      "source": [
        "file_path = \"/content/sample_data/anscombe.json\"\n",
        "with open(file_path) as f:\n",
        "    data = json.load(f)\n",
        "\n",
        "print(data)  # выгрузили список объектов"
      ],
      "execution_count": null,
      "outputs": [
        {
          "output_type": "stream",
          "name": "stdout",
          "text": [
            "[{'Series': 'I', 'X': 10.0, 'Y': 8.04}, {'Series': 'I', 'X': 8.0, 'Y': 6.95}, {'Series': 'I', 'X': 13.0, 'Y': 7.58}, {'Series': 'I', 'X': 9.0, 'Y': 8.81}, {'Series': 'I', 'X': 11.0, 'Y': 8.33}, {'Series': 'I', 'X': 14.0, 'Y': 9.96}, {'Series': 'I', 'X': 6.0, 'Y': 7.24}, {'Series': 'I', 'X': 4.0, 'Y': 4.26}, {'Series': 'I', 'X': 12.0, 'Y': 10.84}, {'Series': 'I', 'X': 7.0, 'Y': 4.81}, {'Series': 'I', 'X': 5.0, 'Y': 5.68}, {'Series': 'II', 'X': 10.0, 'Y': 9.14}, {'Series': 'II', 'X': 8.0, 'Y': 8.14}, {'Series': 'II', 'X': 13.0, 'Y': 8.74}, {'Series': 'II', 'X': 9.0, 'Y': 8.77}, {'Series': 'II', 'X': 11.0, 'Y': 9.26}, {'Series': 'II', 'X': 14.0, 'Y': 8.1}, {'Series': 'II', 'X': 6.0, 'Y': 6.13}, {'Series': 'II', 'X': 4.0, 'Y': 3.1}, {'Series': 'II', 'X': 12.0, 'Y': 9.13}, {'Series': 'II', 'X': 7.0, 'Y': 7.26}, {'Series': 'II', 'X': 5.0, 'Y': 4.74}, {'Series': 'III', 'X': 10.0, 'Y': 7.46}, {'Series': 'III', 'X': 8.0, 'Y': 6.77}, {'Series': 'III', 'X': 13.0, 'Y': 12.74}, {'Series': 'III', 'X': 9.0, 'Y': 7.11}, {'Series': 'III', 'X': 11.0, 'Y': 7.81}, {'Series': 'III', 'X': 14.0, 'Y': 8.84}, {'Series': 'III', 'X': 6.0, 'Y': 6.08}, {'Series': 'III', 'X': 4.0, 'Y': 5.39}, {'Series': 'III', 'X': 12.0, 'Y': 8.15}, {'Series': 'III', 'X': 7.0, 'Y': 6.42}, {'Series': 'III', 'X': 5.0, 'Y': 5.73}, {'Series': 'IV', 'X': 8.0, 'Y': 6.58}, {'Series': 'IV', 'X': 8.0, 'Y': 5.76}, {'Series': 'IV', 'X': 8.0, 'Y': 7.71}, {'Series': 'IV', 'X': 8.0, 'Y': 8.84}, {'Series': 'IV', 'X': 8.0, 'Y': 8.47}, {'Series': 'IV', 'X': 8.0, 'Y': 7.04}, {'Series': 'IV', 'X': 8.0, 'Y': 5.25}, {'Series': 'IV', 'X': 19.0, 'Y': 12.5}, {'Series': 'IV', 'X': 8.0, 'Y': 5.56}, {'Series': 'IV', 'X': 8.0, 'Y': 7.91}, {'Series': 'IV', 'X': 8.0, 'Y': 6.89}]\n"
          ]
        }
      ]
    },
    {
      "cell_type": "code",
      "metadata": {
        "colab": {
          "base_uri": "https://localhost:8080/"
        },
        "id": "D7QURHyEWSiW",
        "outputId": "bf588557-4018-40a0-b13d-8f6dc7412a6f"
      },
      "source": [
        "print(json.dumps(data[:5], indent=4))"
      ],
      "execution_count": null,
      "outputs": [
        {
          "output_type": "stream",
          "name": "stdout",
          "text": [
            "[\n",
            "    {\n",
            "        \"Series\": \"I\",\n",
            "        \"X\": 10.0,\n",
            "        \"Y\": 8.04\n",
            "    },\n",
            "    {\n",
            "        \"Series\": \"I\",\n",
            "        \"X\": 8.0,\n",
            "        \"Y\": 6.95\n",
            "    },\n",
            "    {\n",
            "        \"Series\": \"I\",\n",
            "        \"X\": 13.0,\n",
            "        \"Y\": 7.58\n",
            "    },\n",
            "    {\n",
            "        \"Series\": \"I\",\n",
            "        \"X\": 9.0,\n",
            "        \"Y\": 8.81\n",
            "    },\n",
            "    {\n",
            "        \"Series\": \"I\",\n",
            "        \"X\": 11.0,\n",
            "        \"Y\": 8.33\n",
            "    }\n",
            "]\n"
          ]
        }
      ]
    },
    {
      "cell_type": "code",
      "metadata": {
        "id": "KdEUUAalW2o2"
      },
      "source": [
        "russian_data = {\n",
        "    \"Фамилия\": \"Петров\",\n",
        "    \"Имя\": \"Петр\",\n",
        "}\n",
        "\n",
        "filename = \"russian.json\"\n",
        "with open(filename, \"w\") as f:\n",
        "    json.dump(russian_data, f)\n",
        "\n",
        "\n",
        "filename = \"russian_ensure_ascii.json\"\n",
        "with open(filename, \"w\", encoding=\"utf8\") as f:\n",
        "    json.dump(russian_data, f, ensure_ascii=False)"
      ],
      "execution_count": null,
      "outputs": []
    },
    {
      "cell_type": "markdown",
      "metadata": {
        "id": "g_x2n60yMfkU"
      },
      "source": [
        "---\n",
        "### Pickle\n",
        "Сериализация в JSON полезна в мире веба, если вам нужно что-то сохранить  \n",
        "на диск – используется бинарная сериализация.\n",
        "\n",
        "Самый популярный модуль для бинарной сериализации – `Pickle`.\n",
        "\n",
        "Сохраняет объекты в бинарный формат, который потом можно восстановить  \n",
        "при другом запуске или на другом устройстве.\n",
        "\n",
        "Вследствие развития получилось, что у `pickle` есть несколько протоколов.  \n",
        "Сохранять и загружать нужно с одним и тем же,  \n",
        "по умолчанию в Python3 протокол – 3."
      ]
    },
    {
      "cell_type": "markdown",
      "metadata": {
        "id": "y2sRT5kRMfkU"
      },
      "source": [
        "Внутри модуля реализовано всего несколько методов:\n",
        "- `pickle.dump(obj, file)` – сохраняет объект **obj** в файл **file**\n",
        "- `pickle.dumps(obj)` – сериализует объект и возвращает набор байт (для передачи по сети, например)\n",
        "- `pickle.load(file)` – читает файл и восстанавливает объект из файла\n",
        "- `pickle.loads(bytes_object)` – читает последовательность байт и восстанавливает по ним объект\n"
      ]
    },
    {
      "cell_type": "markdown",
      "metadata": {
        "id": "ItHOR48MMfkU"
      },
      "source": [
        "Что можно «запиклить»?\n",
        "- None, True, False\n",
        "- целые, дробные и комплексные числа\n",
        "- строки, байты, байт-массивы\n",
        "- кортежи, списки, множества и словари, содержащие только \"picklable\" объекты\n",
        "- функции, определенные на верхнем уровне модуля (только используя `def`, не лямбда функции)\n",
        "- встроенные функции языка Python, определенные на верхнем уровне модуля\n",
        "- классы, определенные на верхнем уровеня модуля\n",
        "- экземпляры таких классов, чей результат `__dict__` или `__getstate__()` – \"picklable\"\n"
      ]
    },
    {
      "cell_type": "markdown",
      "metadata": {
        "id": "dFgUgbKjMfkV"
      },
      "source": [
        "### Pickle vs JSON\n",
        "JSON – формат текстовой сериализации (чаще всего utf-8),  \n",
        "а `pickle` – формат бинарной сериализации\n",
        "\n",
        "JSON человекочитаем, а `pickle` – нет\n",
        "\n",
        "JSON не привязан к языку и часто используется вне экосистемы языка Python,  \n",
        "в то время как `pickle` специфичен для языка Python\n",
        "\n",
        "JSON (по умолчанию) может сериализовывать только часть встроенных типов языка Python,  \n",
        "`pickle` может сериализовывать множество различных типов объектов"
      ]
    },
    {
      "cell_type": "markdown",
      "metadata": {
        "id": "oKk1tLgFMfkV"
      },
      "source": [
        "Если вы хотите сохранять данные, которые потом будут обрабатывать  \n",
        "на python – берите `pickle`.  \n",
        "Передача данных в вебе – JSON или XML (даже если на другой стороне  \n",
        "тоже python и pickle доступен)."
      ]
    },
    {
      "cell_type": "markdown",
      "metadata": {
        "id": "EHLxCgyZMfkW"
      },
      "source": [
        "### Не только Pickle\n",
        "В языке Python существуют и другие способы сериализации:\n",
        "\n",
        "Если объект можно перевести в байт-массив – можно с помощью `struct` перевести и сохранить в файл (преимущества – можно распарсить на другом языке)\n",
        "\n",
        "Если объект – `NumPy` массив, можно использовать `np.save`, `np.savetxt`, `np.savez`, `np.savez_compressed`\n",
        "\n",
        "Для хранения больших файлов (астрономические данные, веса больших нейронных сетей и т.д.) используется формат `HDF5`. Работа с такими файлами в Python осуществляется с помощью библиотеки `h5py` и методов `create_dataset`, `File` и т.д.\n",
        "\n",
        "Многие модули имеют собственные методы для сериализации данных (часто в основе – pickle или struct)"
      ]
    },
    {
      "cell_type": "markdown",
      "metadata": {
        "id": "LsWRu0G-YQvv"
      },
      "source": [
        "## CSV"
      ]
    },
    {
      "cell_type": "markdown",
      "metadata": {
        "id": "7waOCjB7a4Ga"
      },
      "source": [
        "Формат CSV является наиболее часто используемым форматом импорта  \n",
        "и экспорта для баз данных и электронных таблиц.\n",
        "\n",
        "Файл CSV (значения, разделенные запятыми) позволяет сохранять данные  \n",
        "в табличной структуре с расширением **`.csv`**."
      ]
    },
    {
      "cell_type": "code",
      "metadata": {
        "colab": {
          "base_uri": "https://localhost:8080/"
        },
        "id": "PKhvIte1YP7w",
        "outputId": "712a90aa-dc3e-4ea1-ec5f-a6e67059d5b5"
      },
      "source": [
        "filepath = \"/content/sample_data/california_housing_test.csv\"\n",
        "with open(filepath) as f:\n",
        "    for _ in range(5):\n",
        "        print(repr(next(f)))"
      ],
      "execution_count": null,
      "outputs": [
        {
          "output_type": "stream",
          "name": "stdout",
          "text": [
            "'\"longitude\",\"latitude\",\"housing_median_age\",\"total_rooms\",\"total_bedrooms\",\"population\",\"households\",\"median_income\",\"median_house_value\"\\n'\n",
            "'-122.050000,37.370000,27.000000,3885.000000,661.000000,1537.000000,606.000000,6.608500,344700.000000\\n'\n",
            "'-118.300000,34.260000,43.000000,1510.000000,310.000000,809.000000,277.000000,3.599000,176500.000000\\n'\n",
            "'-117.810000,33.780000,27.000000,3589.000000,507.000000,1484.000000,495.000000,5.793400,270500.000000\\n'\n",
            "'-118.360000,33.820000,28.000000,67.000000,15.000000,49.000000,11.000000,6.135900,330000.000000\\n'\n"
          ]
        }
      ]
    },
    {
      "cell_type": "code",
      "metadata": {
        "id": "-JTBTsjebacu"
      },
      "source": [
        "import csv"
      ],
      "execution_count": null,
      "outputs": []
    },
    {
      "cell_type": "code",
      "metadata": {
        "colab": {
          "base_uri": "https://localhost:8080/"
        },
        "id": "qIe7SJ62b0Ak",
        "outputId": "db418cc5-6e49-49d8-fe1f-242a93646279"
      },
      "source": [
        "filepath = \"/content/sample_data/california_housing_test.csv\"\n",
        "with open(filepath) as f:\n",
        "    csv_iter = csv.reader(f)\n",
        "    for _ in range(5):\n",
        "        row = next(csv_iter)\n",
        "        print(row)"
      ],
      "execution_count": null,
      "outputs": [
        {
          "output_type": "stream",
          "name": "stdout",
          "text": [
            "['longitude', 'latitude', 'housing_median_age', 'total_rooms', 'total_bedrooms', 'population', 'households', 'median_income', 'median_house_value']\n",
            "['-122.050000', '37.370000', '27.000000', '3885.000000', '661.000000', '1537.000000', '606.000000', '6.608500', '344700.000000']\n",
            "['-118.300000', '34.260000', '43.000000', '1510.000000', '310.000000', '809.000000', '277.000000', '3.599000', '176500.000000']\n",
            "['-117.810000', '33.780000', '27.000000', '3589.000000', '507.000000', '1484.000000', '495.000000', '5.793400', '270500.000000']\n",
            "['-118.360000', '33.820000', '28.000000', '67.000000', '15.000000', '49.000000', '11.000000', '6.135900', '330000.000000']\n"
          ]
        }
      ]
    },
    {
      "cell_type": "code",
      "metadata": {
        "colab": {
          "base_uri": "https://localhost:8080/"
        },
        "id": "zqRFmZ7rb_Fg",
        "outputId": "42d75445-a87d-4bce-9ed4-cbd67ef2b5fa"
      },
      "source": [
        "filepath = \"/content/sample_data/california_housing_test.csv\"\n",
        "with open(filepath) as f:\n",
        "    csv_iter = csv.DictReader(f)\n",
        "    for _ in range(5):\n",
        "        row = next(csv_iter)\n",
        "        print(row)"
      ],
      "execution_count": null,
      "outputs": [
        {
          "output_type": "stream",
          "name": "stdout",
          "text": [
            "OrderedDict([('longitude', '-122.050000'), ('latitude', '37.370000'), ('housing_median_age', '27.000000'), ('total_rooms', '3885.000000'), ('total_bedrooms', '661.000000'), ('population', '1537.000000'), ('households', '606.000000'), ('median_income', '6.608500'), ('median_house_value', '344700.000000')])\n",
            "OrderedDict([('longitude', '-118.300000'), ('latitude', '34.260000'), ('housing_median_age', '43.000000'), ('total_rooms', '1510.000000'), ('total_bedrooms', '310.000000'), ('population', '809.000000'), ('households', '277.000000'), ('median_income', '3.599000'), ('median_house_value', '176500.000000')])\n",
            "OrderedDict([('longitude', '-117.810000'), ('latitude', '33.780000'), ('housing_median_age', '27.000000'), ('total_rooms', '3589.000000'), ('total_bedrooms', '507.000000'), ('population', '1484.000000'), ('households', '495.000000'), ('median_income', '5.793400'), ('median_house_value', '270500.000000')])\n",
            "OrderedDict([('longitude', '-118.360000'), ('latitude', '33.820000'), ('housing_median_age', '28.000000'), ('total_rooms', '67.000000'), ('total_bedrooms', '15.000000'), ('population', '49.000000'), ('households', '11.000000'), ('median_income', '6.135900'), ('median_house_value', '330000.000000')])\n",
            "OrderedDict([('longitude', '-119.670000'), ('latitude', '36.330000'), ('housing_median_age', '19.000000'), ('total_rooms', '1241.000000'), ('total_bedrooms', '244.000000'), ('population', '850.000000'), ('households', '237.000000'), ('median_income', '2.937500'), ('median_house_value', '81700.000000')])\n"
          ]
        }
      ]
    },
    {
      "cell_type": "markdown",
      "metadata": {
        "id": "7ljzlbiMcqYP"
      },
      "source": [
        "## YAML"
      ]
    },
    {
      "cell_type": "markdown",
      "metadata": {
        "id": "zmNfWGl4eRuR"
      },
      "source": [
        "YAML (YAML Ain’t Markup Language) - еще один текстовый формат для записи данных.\n",
        "\n",
        "YAML более приятен для восприятия человеком, чем JSON,  \n",
        "поэтому его часто используют для описания сценариев в ПО, например Docker-compose."
      ]
    },
    {
      "cell_type": "markdown",
      "metadata": {
        "id": "41VyBiLXeX0P"
      },
      "source": [
        "Список\n",
        "\n",
        "Список может быть записан в одну строку:\n",
        "\n",
        "```yaml\n",
        "[item1, item2, item3]\n",
        "```\n",
        "\n",
        "Или каждый элемент списка в своей строке:\n",
        "\n",
        "```yaml\n",
        "- item1\n",
        "- item2 \n",
        "- item3\n",
        "```\n",
        "Когда список записан таким блоком, каждая строка должна начинаться с - (минуса и пробела),  \n",
        "и все строки в списке должны быть на одном уровне отступа."
      ]
    },
    {
      "cell_type": "markdown",
      "metadata": {
        "id": "lQ3gMesue3MR"
      },
      "source": [
        "Словарь\n",
        "\n",
        "Словарь также может быть записан в одну строку:\n",
        "\n",
        "```yaml\n",
        "{ name: Петр, surname: Петров }\n",
        "```\n",
        "Или блоком:\n",
        "\n",
        "```yaml\n",
        "name: Петр\n",
        "surname: Петров\n",
        "```\n"
      ]
    },
    {
      "cell_type": "markdown",
      "metadata": {
        "id": "1eAaExdYfUj_"
      },
      "source": [
        "Список словарей:\n",
        "\n",
        "```yaml\n",
        "- name: Петр\n",
        "  surname: Петров\n",
        "- name: Иван\n",
        "  surname: Иванов\n",
        "- name: Вася\n",
        "  surname: Пупкин\n",
        "```"
      ]
    },
    {
      "cell_type": "markdown",
      "source": [
        "https://habr.com/ru/post/669684/"
      ],
      "metadata": {
        "id": "0t84UVI8fVJI"
      }
    },
    {
      "cell_type": "markdown",
      "metadata": {
        "id": "uicIsJcBjNYk"
      },
      "source": [
        "## XML"
      ]
    },
    {
      "cell_type": "markdown",
      "metadata": {
        "id": "LaUt1291jsJM"
      },
      "source": [
        "XML - расширяемый язык разметки.\n",
        "\n",
        "Основной идеей является использование разметка данных с помощью тегов.  \n",
        "Тег — это некий текст, обернутый в угловые скобки\n",
        "```xml\n",
        "<Название тега> Содержимое тега </Название тега>\n",
        "```\n",
        "\n",
        "Пример:\n",
        "```xml\n",
        "<person>\n",
        "    <name>Вася</name>\n",
        "    <surname>Пупкин</surname>\n",
        "</person>\n",
        "```"
      ]
    }
  ]
}