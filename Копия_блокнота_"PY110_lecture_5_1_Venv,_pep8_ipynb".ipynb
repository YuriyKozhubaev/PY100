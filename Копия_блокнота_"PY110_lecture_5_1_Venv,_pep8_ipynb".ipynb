{
  "nbformat": 4,
  "nbformat_minor": 0,
  "metadata": {
    "colab": {
      "provenance": [],
      "include_colab_link": true
    },
    "kernelspec": {
      "name": "python3",
      "display_name": "Python 3"
    },
    "language_info": {
      "name": "python"
    }
  },
  "cells": [
    {
      "cell_type": "markdown",
      "metadata": {
        "id": "view-in-github",
        "colab_type": "text"
      },
      "source": [
        "<a href=\"https://colab.research.google.com/github/YuriyKozhubaev/PY100/blob/main/%D0%9A%D0%BE%D0%BF%D0%B8%D1%8F_%D0%B1%D0%BB%D0%BE%D0%BA%D0%BD%D0%BE%D1%82%D0%B0_%22PY110_lecture_5_1_Venv%2C_pep8_ipynb%22.ipynb\" target=\"_parent\"><img src=\"https://colab.research.google.com/assets/colab-badge.svg\" alt=\"Open In Colab\"/></a>"
      ]
    },
    {
      "cell_type": "markdown",
      "metadata": {
        "id": "Y4bnjzzgZ1jc"
      },
      "source": [
        "# Зависимости"
      ]
    },
    {
      "cell_type": "markdown",
      "metadata": {
        "id": "EqXx2t_eblzD"
      },
      "source": [
        "Зависимости это набор пакетов и модулей,  \n",
        "необходимых для работы вашей программе.\n",
        "\n",
        "```python\n",
        "import re\n",
        "import json\n",
        "\n",
        "...\n",
        "```"
      ]
    },
    {
      "cell_type": "markdown",
      "metadata": {
        "id": "r_IQKyogajxX"
      },
      "source": [
        "## Подходы к хранению зависимостей"
      ]
    },
    {
      "cell_type": "markdown",
      "metadata": {
        "id": "mkxR1wOiaqR0"
      },
      "source": [
        "В мире программирования есть два подхода к хранению зависимостей:\n",
        "1. Каждый проект обладает собственным набором зависимостей \n",
        "2. Все проекты используют общесистемный набор зависимостей\n",
        "\n",
        "Как думаете, каковые преимущества и недостатки каждого из подходов?  \n",
        "Когда какой лучше применять?"
      ]
    },
    {
      "cell_type": "markdown",
      "metadata": {
        "id": "hOsfCRRSbtRf"
      },
      "source": [
        "### Общесистемный подход (system-wide)"
      ]
    },
    {
      "cell_type": "markdown",
      "metadata": {
        "id": "ifpBcp3jbsZw"
      },
      "source": [
        "Python поставляется по принципу \"все включено\".  \n",
        "Это означает, что стандартная библиотека Python  \n",
        "включает обширный набор пакетов и модулей,  \n",
        "помогающих разработчикам в работе со своими  \n",
        "скриптами и приложениями.\n",
        "\n",
        "<img src=\"https://drive.google.com/uc?id=1kdH0xh0Mn-foigfSbRHe5FYbWXxjWy_5\"/>\n",
        "\n",
        "https://docs.python.org/3/"
      ]
    },
    {
      "cell_type": "markdown",
      "metadata": {
        "id": "T8fwQPqFcIk6"
      },
      "source": [
        "Большая проблема языка Python – использование подхода с  \n",
        "общесистемными зависимостями по умолчанию.\n",
        "\n",
        "Добавление зависимостей к проекту.  \n",
        "Любой проект, использующий этот интерпретатор,  \n",
        "будет использовать все модули, которые в нем установлены.\n",
        "\n",
        "<img src=\"https://drive.google.com/uc?id=1XxLslVOYRE-KVTXtHq7XnW4nFmEmurdF\"/>\n"
      ]
    },
    {
      "cell_type": "markdown",
      "metadata": {
        "id": "dkg_SAnUeiiZ"
      },
      "source": [
        "Использование общесистемного подхода для хранения модулей порождает  \n",
        "два основных недостатка:\n",
        "1. Модули python различаются лишь названиями, т.е. нельзя иметь  \n",
        "одновременно два установленных одинаковых модуля разных версий.  \n",
        "Нельзя одновременно поставить pandas-0.21 и pandas-0.24, например.\n",
        "2. Нет простого способа экспортировать весь список использовавшихся именно  \n",
        "в вашем проекте модулей для развертывания в другом месте.\n",
        "\n",
        "<img src=\"https://drive.google.com/uc?id=1aHvJsiUk-rqilawI0jnUknDpfC8qr3Mq\"/>\n"
      ]
    },
    {
      "cell_type": "markdown",
      "metadata": {
        "id": "gCfAMpgYfKUE"
      },
      "source": [
        "### Виртуальные окружения (Virtualenv)"
      ]
    },
    {
      "cell_type": "markdown",
      "metadata": {
        "id": "3os0AOhEguPv"
      },
      "source": [
        "Модуль venv позволяет создавать «виртуальное окружение»,  \n",
        "внутри которого копируется интерпретатор, от которого данное окружение  \n",
        "было создано, и стандартные модули (os, sys, etc…).  \n",
        "Остальные модули не копируются.\n",
        "\n",
        "\n",
        "venv (virtualenv) позволяет вам:\n",
        "- разграничивать проекты и использовать разные версии одних и тех же модулей\n",
        "- корректно экспортировать используемые модули, чтобы другим не приходилось  \n",
        "устанавливать лишние модули, которые «завалялись» у вас в системе\n"
      ]
    },
    {
      "cell_type": "markdown",
      "source": [
        "## Пакетные менеджеры"
      ],
      "metadata": {
        "id": "SUjW1hNHUUMV"
      }
    },
    {
      "cell_type": "markdown",
      "source": [
        "### pip"
      ],
      "metadata": {
        "id": "v0QxskHATNl1"
      }
    },
    {
      "cell_type": "markdown",
      "source": [
        "Package Installer for Python (pip) — система управления пакетами,  \n",
        "которая используется для установки и управления  \n",
        "программными пакетами, написанными на Python. \n",
        "\n",
        "Много пакетов можно найти в [Python Package Index](https://pypi.org/) (PyPI)."
      ],
      "metadata": {
        "id": "vfKYFobPT4sj"
      }
    },
    {
      "cell_type": "code",
      "source": [
        "!pip install mypy  # восклицательный знак вначале ставится только в Jupyter Notebook"
      ],
      "metadata": {
        "colab": {
          "base_uri": "https://localhost:8080/"
        },
        "id": "bvso-qpzUZa9",
        "outputId": "d3b79a74-8b9f-4f2f-b3c0-f43e9fce5f82"
      },
      "execution_count": null,
      "outputs": [
        {
          "output_type": "stream",
          "name": "stdout",
          "text": [
            "Looking in indexes: https://pypi.org/simple, https://us-python.pkg.dev/colab-wheels/public/simple/\n",
            "Collecting mypy\n",
            "  Downloading mypy-0.990-cp37-cp37m-manylinux_2_17_x86_64.manylinux2014_x86_64.whl (15.5 MB)\n",
            "\u001b[K     |████████████████████████████████| 15.5 MB 5.1 MB/s \n",
            "\u001b[?25hRequirement already satisfied: typing-extensions>=3.10 in /usr/local/lib/python3.7/dist-packages (from mypy) (4.1.1)\n",
            "Collecting typed-ast<2,>=1.4.0\n",
            "  Downloading typed_ast-1.5.4-cp37-cp37m-manylinux_2_5_x86_64.manylinux1_x86_64.manylinux_2_12_x86_64.manylinux2010_x86_64.whl (843 kB)\n",
            "\u001b[K     |████████████████████████████████| 843 kB 55.2 MB/s \n",
            "\u001b[?25hRequirement already satisfied: tomli>=1.1.0 in /usr/local/lib/python3.7/dist-packages (from mypy) (2.0.1)\n",
            "Collecting mypy-extensions>=0.4.3\n",
            "  Downloading mypy_extensions-0.4.3-py2.py3-none-any.whl (4.5 kB)\n",
            "Installing collected packages: typed-ast, mypy-extensions, mypy\n",
            "Successfully installed mypy-0.990 mypy-extensions-0.4.3 typed-ast-1.5.4\n"
          ]
        }
      ]
    },
    {
      "cell_type": "code",
      "source": [
        "import mypy"
      ],
      "metadata": {
        "id": "sa6DVgCTUrcQ"
      },
      "execution_count": null,
      "outputs": []
    },
    {
      "cell_type": "markdown",
      "source": [
        "Команда `pip freeze` позволяет получить все зависимости,  \n",
        "которые установлены в текущем окружении.\n",
        "```bash\n",
        "pip freeze\n",
        "```\n"
      ],
      "metadata": {
        "id": "37U00BPSUzGm"
      }
    },
    {
      "cell_type": "code",
      "source": [
        "!pip freeze"
      ],
      "metadata": {
        "colab": {
          "base_uri": "https://localhost:8080/"
        },
        "id": "gdw3pM0SUt5G",
        "outputId": "5708b15d-dbfe-4f73-f98f-89ff2a8ccb69"
      },
      "execution_count": null,
      "outputs": [
        {
          "output_type": "stream",
          "name": "stdout",
          "text": [
            "absl-py==1.2.0\n",
            "aiohttp==3.8.1\n",
            "aiosignal==1.2.0\n",
            "alabaster==0.7.12\n",
            "albumentations==1.2.1\n",
            "altair==4.2.0\n",
            "appdirs==1.4.4\n",
            "arviz==0.12.1\n",
            "astor==0.8.1\n",
            "astropy==4.3.1\n",
            "astunparse==1.6.3\n",
            "async-timeout==4.0.2\n",
            "asynctest==0.13.0\n",
            "atari-py==0.2.9\n",
            "atomicwrites==1.4.1\n",
            "attrs==22.1.0\n",
            "audioread==3.0.0\n",
            "autograd==1.4\n",
            "Babel==2.10.3\n",
            "backcall==0.2.0\n",
            "beautifulsoup4==4.6.3\n",
            "bleach==5.0.1\n",
            "blis==0.7.8\n",
            "bokeh==2.3.3\n",
            "branca==0.5.0\n",
            "bs4==0.0.1\n",
            "CacheControl==0.12.11\n",
            "cached-property==1.5.2\n",
            "cachetools==4.2.4\n",
            "catalogue==2.0.8\n",
            "certifi==2022.6.15\n",
            "cffi==1.15.1\n",
            "cftime==1.6.1\n",
            "chardet==3.0.4\n",
            "charset-normalizer==2.1.0\n",
            "click==7.1.2\n",
            "clikit==0.6.2\n",
            "cloudpickle==1.5.0\n",
            "cmake==3.22.6\n",
            "cmdstanpy==1.0.4\n",
            "colorcet==3.0.0\n",
            "colorlover==0.3.0\n",
            "community==1.0.0b1\n",
            "contextlib2==0.5.5\n",
            "convertdate==2.4.0\n",
            "crashtest==0.3.1\n",
            "crcmod==1.7\n",
            "cufflinks==0.17.3\n",
            "cvxopt==1.3.0\n",
            "cvxpy==1.2.1\n",
            "cycler==0.11.0\n",
            "cymem==2.0.6\n",
            "Cython==0.29.32\n",
            "daft==0.0.4\n",
            "dask==2022.2.0\n",
            "datascience==0.17.5\n",
            "debugpy==1.0.0\n",
            "decorator==4.4.2\n",
            "defusedxml==0.7.1\n",
            "deprecat==2.1.1\n",
            "descartes==1.1.0\n",
            "dill==0.3.5.1\n",
            "distributed==2022.2.0\n",
            "dlib==19.24.0\n",
            "dm-tree==0.1.7\n",
            "docutils==0.17.1\n",
            "dopamine-rl==1.0.5\n",
            "earthengine-api==0.1.320\n",
            "easydict==1.9\n",
            "ecos==2.0.10\n",
            "editdistance==0.5.3\n",
            "en-core-web-sm @ https://github.com/explosion/spacy-models/releases/download/en_core_web_sm-3.4.0/en_core_web_sm-3.4.0-py3-none-any.whl\n",
            "entrypoints==0.4\n",
            "ephem==4.1.3\n",
            "et-xmlfile==1.1.0\n",
            "etils==0.7.1\n",
            "fa2==0.3.5\n",
            "fastai==2.7.9\n",
            "fastcore==1.5.21\n",
            "fastdownload==0.0.7\n",
            "fastdtw==0.3.4\n",
            "fastjsonschema==2.16.1\n",
            "fastprogress==1.0.3\n",
            "fastrlock==0.8\n",
            "feather-format==0.4.1\n",
            "filelock==3.8.0\n",
            "firebase-admin==4.4.0\n",
            "fix-yahoo-finance==0.0.22\n",
            "Flask==1.1.4\n",
            "flatbuffers==2.0\n",
            "folium==0.12.1.post1\n",
            "frozenlist==1.3.1\n",
            "fsspec==2022.7.1\n",
            "future==0.16.0\n",
            "gast==0.5.3\n",
            "GDAL==2.2.2\n",
            "gdown==4.4.0\n",
            "gensim==3.6.0\n",
            "geographiclib==1.52\n",
            "geopy==1.17.0\n",
            "gin-config==0.5.0\n",
            "glob2==0.7\n",
            "google==2.0.3\n",
            "google-api-core==1.31.6\n",
            "google-api-python-client==1.12.11\n",
            "google-auth==1.35.0\n",
            "google-auth-httplib2==0.0.4\n",
            "google-auth-oauthlib==0.4.6\n",
            "google-cloud-bigquery==1.21.0\n",
            "google-cloud-bigquery-storage==1.1.2\n",
            "google-cloud-core==1.0.3\n",
            "google-cloud-datastore==1.8.0\n",
            "google-cloud-firestore==1.7.0\n",
            "google-cloud-language==1.2.0\n",
            "google-cloud-storage==1.18.1\n",
            "google-cloud-translate==1.5.0\n",
            "google-colab @ file:///colabtools/dist/google-colab-1.0.0.tar.gz\n",
            "google-pasta==0.2.0\n",
            "google-resumable-media==0.4.1\n",
            "googleapis-common-protos==1.56.4\n",
            "googledrivedownloader==0.4\n",
            "graphviz==0.10.1\n",
            "greenlet==1.1.2\n",
            "grpcio==1.47.0\n",
            "gspread==3.4.2\n",
            "gspread-dataframe==3.0.8\n",
            "gym==0.25.1\n",
            "gym-notices==0.0.8\n",
            "h5py==3.1.0\n",
            "HeapDict==1.0.1\n",
            "hijri-converter==2.2.4\n",
            "holidays==0.14.2\n",
            "holoviews==1.14.9\n",
            "html5lib==1.0.1\n",
            "httpimport==0.5.18\n",
            "httplib2==0.17.4\n",
            "httplib2shim==0.0.3\n",
            "httpstan==4.6.1\n",
            "humanize==0.5.1\n",
            "hyperopt==0.1.2\n",
            "idna==2.10\n",
            "imageio==2.9.0\n",
            "imagesize==1.4.1\n",
            "imbalanced-learn==0.8.1\n",
            "imblearn==0.0\n",
            "imgaug==0.4.0\n",
            "importlib-metadata==4.12.0\n",
            "importlib-resources==5.9.0\n",
            "imutils==0.5.4\n",
            "inflect==2.1.0\n",
            "intel-openmp==2022.1.0\n",
            "intervaltree==2.1.0\n",
            "ipykernel==5.3.4\n",
            "ipython==7.9.0\n",
            "ipython-genutils==0.2.0\n",
            "ipython-sql==0.3.9\n",
            "ipywidgets==7.7.1\n",
            "itsdangerous==1.1.0\n",
            "jax==0.3.14\n",
            "jaxlib @ https://storage.googleapis.com/jax-releases/cuda11/jaxlib-0.3.14+cuda11.cudnn805-cp37-none-manylinux2014_x86_64.whl\n",
            "jieba==0.42.1\n",
            "Jinja2==2.11.3\n",
            "joblib==1.1.0\n",
            "jpeg4py==0.1.4\n",
            "jsonschema==4.3.3\n",
            "jupyter-client==6.1.12\n",
            "jupyter-console==6.1.0\n",
            "jupyter-core==4.11.1\n",
            "jupyterlab-widgets==3.0.2\n",
            "kaggle==1.5.12\n",
            "kapre==0.3.7\n",
            "keras==2.8.0\n",
            "Keras-Preprocessing==1.1.2\n",
            "keras-vis==0.4.1\n",
            "kiwisolver==1.4.4\n",
            "korean-lunar-calendar==0.2.1\n",
            "langcodes==3.3.0\n",
            "libclang==14.0.6\n",
            "librosa==0.8.1\n",
            "lightgbm==2.2.3\n",
            "llvmlite==0.39.0\n",
            "lmdb==0.99\n",
            "locket==1.0.0\n",
            "LunarCalendar==0.0.9\n",
            "lxml==4.9.1\n",
            "Markdown==3.4.1\n",
            "MarkupSafe==2.0.1\n",
            "marshmallow==3.17.0\n",
            "matplotlib==3.2.2\n",
            "matplotlib-venn==0.11.7\n",
            "missingno==0.5.1\n",
            "mistune==0.8.4\n",
            "mizani==0.7.3\n",
            "mkl==2019.0\n",
            "mlxtend==0.14.0\n",
            "more-itertools==8.14.0\n",
            "moviepy==0.2.3.5\n",
            "mpmath==1.2.1\n",
            "msgpack==1.0.4\n",
            "multidict==6.0.2\n",
            "multitasking==0.0.11\n",
            "murmurhash==1.0.8\n",
            "music21==5.5.0\n",
            "mypy==0.971\n",
            "mypy-extensions==0.4.3\n",
            "natsort==5.5.0\n",
            "nbconvert==5.6.1\n",
            "nbformat==5.4.0\n",
            "netCDF4==1.6.0\n",
            "networkx==2.6.3\n",
            "nibabel==3.0.2\n",
            "nltk==3.7\n",
            "notebook==5.3.1\n",
            "numba==0.56.0\n",
            "numexpr==2.8.3\n",
            "numpy==1.21.6\n",
            "oauth2client==4.1.3\n",
            "oauthlib==3.2.0\n",
            "okgrade==0.4.3\n",
            "opencv-contrib-python==4.6.0.66\n",
            "opencv-python==4.6.0.66\n",
            "opencv-python-headless==4.6.0.66\n",
            "openpyxl==3.0.10\n",
            "opt-einsum==3.3.0\n",
            "osqp==0.6.2.post0\n",
            "packaging==21.3\n",
            "palettable==3.3.0\n",
            "pandas==1.3.5\n",
            "pandas-datareader==0.9.0\n",
            "pandas-gbq==0.13.3\n",
            "pandas-profiling==1.4.1\n",
            "pandocfilters==1.5.0\n",
            "panel==0.12.1\n",
            "param==1.12.2\n",
            "parso==0.8.3\n",
            "partd==1.3.0\n",
            "pastel==0.2.1\n",
            "pathlib==1.0.1\n",
            "pathy==0.6.2\n",
            "patsy==0.5.2\n",
            "pep517==0.13.0\n",
            "pexpect==4.8.0\n",
            "pickleshare==0.7.5\n",
            "Pillow==7.1.2\n",
            "pip-tools==6.2.0\n",
            "plotly==5.5.0\n",
            "plotnine==0.8.0\n",
            "pluggy==0.7.1\n",
            "pooch==1.6.0\n",
            "portpicker==1.3.9\n",
            "prefetch-generator==1.0.1\n",
            "preshed==3.0.7\n",
            "prettytable==3.3.0\n",
            "progressbar2==3.38.0\n",
            "promise==2.3\n",
            "prompt-toolkit==2.0.10\n",
            "prophet==1.1\n",
            "protobuf==3.17.3\n",
            "psutil==5.4.8\n",
            "psycopg2==2.9.3\n",
            "ptyprocess==0.7.0\n",
            "py==1.11.0\n",
            "pyarrow==6.0.1\n",
            "pyasn1==0.4.8\n",
            "pyasn1-modules==0.2.8\n",
            "pycocotools==2.0.4\n",
            "pycparser==2.21\n",
            "pyct==0.4.8\n",
            "pydantic==1.9.2\n",
            "pydata-google-auth==1.4.0\n",
            "pydot==1.3.0\n",
            "pydot-ng==2.0.0\n",
            "pydotplus==2.0.2\n",
            "PyDrive==1.3.1\n",
            "pyemd==0.5.1\n",
            "pyerfa==2.0.0.1\n",
            "Pygments==2.6.1\n",
            "pygobject==3.26.1\n",
            "pylev==1.4.0\n",
            "pymc3==3.11.5\n",
            "PyMeeus==0.5.11\n",
            "pymongo==4.2.0\n",
            "pymystem3==0.2.0\n",
            "PyOpenGL==3.1.6\n",
            "pyparsing==3.0.9\n",
            "pyrsistent==0.18.1\n",
            "pysimdjson==3.2.0\n",
            "pysndfile==1.3.8\n",
            "PySocks==1.7.1\n",
            "pystan==3.3.0\n",
            "pytest==3.6.4\n",
            "python-apt==0.0.0\n",
            "python-chess==0.23.11\n",
            "python-dateutil==2.8.2\n",
            "python-louvain==0.16\n",
            "python-slugify==6.1.2\n",
            "python-utils==3.3.3\n",
            "pytz==2022.2.1\n",
            "pyviz-comms==2.2.1\n",
            "PyWavelets==1.3.0\n",
            "PyYAML==6.0\n",
            "pyzmq==23.2.1\n",
            "qdldl==0.1.5.post2\n",
            "qudida==0.0.4\n",
            "regex==2022.6.2\n",
            "requests==2.23.0\n",
            "requests-oauthlib==1.3.1\n",
            "resampy==0.4.0\n",
            "rpy2==3.4.5\n",
            "rsa==4.9\n",
            "scikit-image==0.18.3\n",
            "scikit-learn==1.0.2\n",
            "scipy==1.7.3\n",
            "screen-resolution-extra==0.0.0\n",
            "scs==3.2.0\n",
            "seaborn==0.11.2\n",
            "semver==2.13.0\n",
            "Send2Trash==1.8.0\n",
            "setuptools-git==1.2\n",
            "Shapely==1.8.4\n",
            "six==1.15.0\n",
            "sklearn-pandas==1.8.0\n",
            "smart-open==5.2.1\n",
            "snowballstemmer==2.2.0\n",
            "sortedcontainers==2.4.0\n",
            "SoundFile==0.10.3.post1\n",
            "spacy==3.4.1\n",
            "spacy-legacy==3.0.10\n",
            "spacy-loggers==1.0.3\n",
            "Sphinx==1.8.6\n",
            "sphinxcontrib-serializinghtml==1.1.5\n",
            "sphinxcontrib-websupport==1.2.4\n",
            "SQLAlchemy==1.4.40\n",
            "sqlparse==0.4.2\n",
            "srsly==2.4.4\n",
            "statsmodels==0.12.2\n",
            "sympy==1.7.1\n",
            "tables==3.7.0\n",
            "tabulate==0.8.10\n",
            "tblib==1.7.0\n",
            "tenacity==8.0.1\n",
            "tensorboard==2.8.0\n",
            "tensorboard-data-server==0.6.1\n",
            "tensorboard-plugin-wit==1.8.1\n",
            "tensorflow==2.8.2+zzzcolab20220719082949\n",
            "tensorflow-datasets==4.6.0\n",
            "tensorflow-estimator==2.8.0\n",
            "tensorflow-gcs-config==2.8.0\n",
            "tensorflow-hub==0.12.0\n",
            "tensorflow-io-gcs-filesystem==0.26.0\n",
            "tensorflow-metadata==1.9.0\n",
            "tensorflow-probability==0.16.0\n",
            "termcolor==1.1.0\n",
            "terminado==0.13.3\n",
            "testpath==0.6.0\n",
            "text-unidecode==1.3\n",
            "textblob==0.15.3\n",
            "Theano-PyMC==1.1.2\n",
            "thinc==8.1.0\n",
            "threadpoolctl==3.1.0\n",
            "tifffile==2021.11.2\n",
            "toml==0.10.2\n",
            "tomli==2.0.1\n",
            "toolz==0.12.0\n",
            "torch @ https://download.pytorch.org/whl/cu113/torch-1.12.1%2Bcu113-cp37-cp37m-linux_x86_64.whl\n",
            "torchaudio @ https://download.pytorch.org/whl/cu113/torchaudio-0.12.1%2Bcu113-cp37-cp37m-linux_x86_64.whl\n",
            "torchsummary==1.5.1\n",
            "torchtext==0.13.1\n",
            "torchvision @ https://download.pytorch.org/whl/cu113/torchvision-0.13.1%2Bcu113-cp37-cp37m-linux_x86_64.whl\n",
            "tornado==5.1.1\n",
            "tqdm==4.64.0\n",
            "traitlets==5.1.1\n",
            "tweepy==3.10.0\n",
            "typed-ast==1.5.4\n",
            "typeguard==2.7.1\n",
            "typer==0.4.2\n",
            "typing-extensions==4.1.1\n",
            "tzlocal==1.5.1\n",
            "ujson==5.4.0\n",
            "uritemplate==3.0.1\n",
            "urllib3==1.24.3\n",
            "vega-datasets==0.9.0\n",
            "wasabi==0.10.1\n",
            "wcwidth==0.2.5\n",
            "webargs==8.2.0\n",
            "webencodings==0.5.1\n",
            "Werkzeug==1.0.1\n",
            "widgetsnbextension==3.6.1\n",
            "wordcloud==1.8.2.2\n",
            "wrapt==1.14.1\n",
            "xarray==0.20.2\n",
            "xarray-einstats==0.2.2\n",
            "xgboost==0.90\n",
            "xkit==0.0.0\n",
            "xlrd==1.1.0\n",
            "xlwt==1.3.0\n",
            "yarl==1.8.1\n",
            "yellowbrick==1.4\n",
            "zict==2.2.0\n",
            "zipp==3.8.1\n"
          ]
        }
      ]
    },
    {
      "cell_type": "markdown",
      "source": [
        "А командой `pip freeze > requirements.txt` вместо  \n",
        "распечатывания зависимостей их можно сохранить в текстовый файл.\n",
        "```bash\n",
        "pip freeze > requirements.txt\n",
        "```\n",
        "\n",
        "Название файла выбирается произвольно,  \n",
        "но обычно это файл **requirements.txt**. \n"
      ],
      "metadata": {
        "id": "2aK6nePDVEoz"
      }
    },
    {
      "cell_type": "markdown",
      "source": [
        "Устанавливать зависимости вручную по одному не очень удобно, поэтому командой \n",
        "```bash\n",
        "pip install -r requirements.txt\n",
        "```\n",
        "можно сразу установить все зависимости из файла.\n"
      ],
      "metadata": {
        "id": "YyHmcqYCWOHI"
      }
    },
    {
      "cell_type": "markdown",
      "source": [
        "### Anaconda"
      ],
      "metadata": {
        "id": "0FuIvbjTXEAZ"
      }
    },
    {
      "cell_type": "markdown",
      "source": [
        "Anaconda — дистрибутив языков программирования Python и R,  \n",
        "включающий набор популярных свободных библиотек,  \n",
        "объединённых проблематиками науки о данных и машинного обучения. \n",
        "\n",
        "Основная цель — поставка единым согласованным комплектом  \n",
        "наиболее востребованных соответствующим кругом пользователей  \n",
        "тематических модулей (таких как NumPy, SciPy, Astropy и других)  \n",
        "с разрешением возникающих зависимостей и конфликтов,  \n",
        "которые неизбежны при одиночной установке."
      ],
      "metadata": {
        "id": "792ErKgZXHfJ"
      }
    },
    {
      "cell_type": "markdown",
      "metadata": {
        "id": "FlTMtANTj5aZ"
      },
      "source": [
        "# PEP8. Оформление модуля"
      ]
    },
    {
      "cell_type": "markdown",
      "metadata": {
        "id": "H5NlC5CzkG-W"
      },
      "source": [
        "## PEP8 - import"
      ]
    },
    {
      "cell_type": "markdown",
      "source": [
        "Представим, что следующая ячейка с кодом - это целый модуль.  \n",
        "Тогда согласно PEP8:\n",
        "1. **Пустые строки.**  \n",
        "    Оставляйте по две пустые строки перед и  \n",
        "    после объявлений функций.  \n",
        "    Не используйте более 1 пустой строки  \n",
        "    в последовательных строках кода.\n",
        "2. **Импорт модулей.**  \n",
        "    Каждый импорт на своей линии\n",
        "\n",
        "```python\n",
        "import os\n",
        "\n",
        "import sys\n",
        "```\n",
        "\n",
        "Но, можно импортировать несколько функций  \n",
        "из одного модуля в одной строке\n",
        "\n",
        "```python\n",
        "from numpy import arange, ndarray\n",
        "```\n",
        "\n",
        "Порядок импортирования модулей:\n",
        "- встроенные\n",
        "- установленные \n",
        "- локальные\n",
        "\n",
        "3. **Порядок расположения.**  \n",
        "    1. Импорт всех модулей\n",
        "    2. Объявление всех необходимых констант\n",
        "    3. Объявление всех функций\n",
        "    4. Любую работу с кодом, вычисление на коленке, print,  \n",
        "    глобальные переменные, проверку работоспособности  \n",
        "    всё это лучше выносить в блок `if __name__ == \"__main__\":`. \n",
        "    5. А ещё лучше завести функцию main() и её вызывать в блоке `if __name__ == \"__main__\":`\n"
      ],
      "metadata": {
        "id": "wk2Gj68SNUz5"
      }
    },
    {
      "cell_type": "code",
      "source": [
        "\"\"\"Документация на целый модуль. \n",
        "\n",
        "Здесь может подробное описание зачем нужен модуль, что с ним делать. \n",
        "\"\"\"\n",
        "# Дальше идут все необходимые импорты\n",
        "import doctest\n",
        "\n",
        "# Константы, если они необходимы\n",
        "CONST_VAR = ...\n",
        "\n",
        "\n",
        "def main():\n",
        "    \"\"\"Функция содержит цель всего модуля, если она необходима.\"\"\"\n",
        "    n = 5\n",
        "    result = factorial(n)\n",
        "\n",
        "    print(result)\n",
        "\n",
        "\n",
        "# Все функции. Функции отделяются друг от друга двумя пустыми строками\n",
        "def factorial(n: int) -> int:\n",
        "    \"\"\"Возвращает факториал целого числа n. Число n >= 0.\"\"\"\n",
        "    if not isinstance(n, int):\n",
        "        raise TypeError(f\"n must be integer, not {type(n)}\")\n",
        "    if not n >= 0:\n",
        "        raise ValueError(\"n must be >= 0\")\n",
        "\n",
        "    # между логически разделенными кусками кода можно осталять одну пустую строку\n",
        "    result = 1\n",
        "    for i in range(2, n+1):\n",
        "        result *= i\n",
        "\n",
        "    return result\n",
        "\n",
        "\n",
        "# определяет \"точку входа\" при работе, откуда надо начинать распутывать \"клубок\" кода\n",
        "if __name__ == \"__main__\":  \n",
        "    main()\n"
      ],
      "metadata": {
        "id": "eB960rbMBc2W"
      },
      "execution_count": null,
      "outputs": []
    },
    {
      "cell_type": "markdown",
      "source": [
        "## Линтеры"
      ],
      "metadata": {
        "id": "36SDLmPmJ73y"
      }
    },
    {
      "cell_type": "markdown",
      "source": [
        "Задача линтеров убедиться, что ваш код хорошо написан и  соответствует лучшим практикам, определенным сообществом  \n",
        "или вашей командой.  \n",
        "Например, соответствие рекомендациям PEP8. \n",
        "\n",
        "Примерами линтеров могут быть:\n",
        "- flake8\n",
        "- pylint\n",
        "- black\n",
        "\n",
        "https://habr.com/ru/company/oleg-bunin/blog/433480/\n",
        "\n",
        "Ещё существует type checker, который опираясь  \n",
        "на аннотацию типов ищет несоответствие передаваемых типов.  \n",
        "Этим занимается библиотека mypy."
      ],
      "metadata": {
        "id": "sYdPzA6XLh7e"
      }
    },
    {
      "cell_type": "markdown",
      "source": [
        "# Архитектура приложения. Шаблон MVC. "
      ],
      "metadata": {
        "id": "fY4zz8mfEs6k"
      }
    },
    {
      "cell_type": "markdown",
      "source": [
        "Шаблон MVC, или как ещё говорят паттерн MVC, позволяет нам разделить код приложения на 3 части: \n",
        "- Модель (Model), \n",
        "- Вид или Представление (View) \n",
        "- Контроллер (Controller).\n",
        "\n",
        "Разделение на части позволяет упростить большой по объему код.  \n",
        "Если код писать одним длинным скриптом,  \n",
        "в нем становится тяжело разобраться, и тяжело вносить изменения,  \n",
        "не допустив ошибку.\n",
        "\n",
        "MVC не привязана к какому-то конкретному языку программирования.\n",
        "\n",
        "Разделение на части здесь не значит, что в коде должно  \n",
        "быть ровно 3 файла с названиями model, view и controller.  \n",
        "MVC ничего не говорит нам по поводу того, как организовывать файлы с кодом.  \n"
      ],
      "metadata": {
        "id": "p73X85TOE1Nn"
      }
    },
    {
      "cell_type": "markdown",
      "source": [
        "## Компоненты Model-View-Controller"
      ],
      "metadata": {
        "id": "9_x79TRNGT2F"
      }
    },
    {
      "cell_type": "markdown",
      "source": [
        "Весь функционал приложения содержится в модели.  \n",
        "Есть негласное правило:\n",
        "> Толстая модель, тонкое представление.\n",
        "\n",
        "Контроллер и Представление предоставляют лишь возможность  \n",
        "пользователю взаимодействовать с моделью и отображать данные из нее."
      ],
      "metadata": {
        "id": "nvvRPN_NJg2u"
      }
    },
    {
      "cell_type": "markdown",
      "source": [
        "### Model"
      ],
      "metadata": {
        "id": "pOo7RM-iHPIA"
      }
    },
    {
      "cell_type": "markdown",
      "source": [
        "Модель содержит в себе всю логику приложения,  \n",
        "она хранит и обрабатывает данные, при этом не взаимодействуя  \n",
        "с пользователем напрямую (обратиться к Модели можно только из кода,  \n",
        "вызывая ее функции).\n",
        "\n",
        "Например, сохранение информации в каком-то хранилище или базе данных,  \n",
        "проверка правильности введенных данных — это задача Модели,  \n",
        "но получение этих данных от пользователя или вывод информации  \n",
        "на экран или обработка нажатия на кнопку — нет.\n",
        "\n",
        "Модель не должна никак зависеть и не должна ничего знать  \n",
        "о Контроллерах и Представлениях.\n",
        "\n",
        "Модель может просто представлять собой набор функций,  \n",
        "реализующих основную часть приложения.  \n",
        "На практике модель часто занимает основной объем приложения.  \n"
      ],
      "metadata": {
        "id": "uiDFwjQxGafS"
      }
    },
    {
      "cell_type": "markdown",
      "source": [
        "### View"
      ],
      "metadata": {
        "id": "Qvv4Ds48HUZC"
      }
    },
    {
      "cell_type": "markdown",
      "source": [
        "Представление отображает данные, которые ему передали.  \n",
        "Преставление - это код, который отвечает за  \n",
        "отображение информации на экране.\n",
        "\n",
        "Может существовать несколько разных Представлений  \n",
        "для вывода одних и тех же данных, например, в виде таблицы,  \n",
        "графика или xls-файла."
      ],
      "metadata": {
        "id": "FBVpnQB_HXCn"
      }
    },
    {
      "cell_type": "markdown",
      "source": [
        "### Controller"
      ],
      "metadata": {
        "id": "wwomc84QHqkt"
      }
    },
    {
      "cell_type": "markdown",
      "source": [
        "Контроллер отвечает за выполнение запросов,  \n",
        "пришедших от пользователя.  \n",
        "Контроллер разбирает запрос, обращается к модели,  \n",
        "чтобы получить или изменить какие-то данные,  \n",
        "и в конце вызывает Представление, чтобы отобразить результат  \n",
        "выполнения запроса.  \n",
        "В десктопных приложениях Контроллер отвечает за обработку  \n",
        "нажатий на кнопки и других воздействий от пользователя.\n",
        "\n",
        "Один Контроллер может работать с несколькими Моделями,  \n",
        "и наоборот, одна Модель может использоваться в нескольких Контроллерах.\n"
      ],
      "metadata": {
        "id": "0xKZmXSIHsth"
      }
    },
    {
      "cell_type": "markdown",
      "source": [
        "# Тестирование. Pytest"
      ],
      "metadata": {
        "id": "lRR70PTiebdZ"
      }
    },
    {
      "cell_type": "markdown",
      "source": [
        "`main.py` вперемешку и логика и "
      ],
      "metadata": {
        "id": "gsYanR-Yf_0d"
      }
    },
    {
      "cell_type": "code",
      "source": [
        "def factorial(n: int) -> int:\n",
        "    \"\"\"Возвращает факториал целого числа n. Число n >= 0. \n",
        "\n",
        "    Примеры:\n",
        "    >>> factorial(5)\n",
        "    120\n",
        "    >>> [factorial(n) for n in range(6)]\n",
        "    [1, 1, 2, 6, 24, 120]\n",
        "\n",
        "    По определению факториал 0 равен 1\n",
        "    >>> factorial(0)\n",
        "    1\n",
        "    \"\"\"\n",
        "    result = 1\n",
        "    for i in range(2, n+1):\n",
        "        result *= i\n",
        "\n",
        "    return result\n"
      ],
      "metadata": {
        "id": "eVho5E6_ekcX"
      },
      "execution_count": null,
      "outputs": []
    },
    {
      "cell_type": "markdown",
      "source": [
        "В `main.py` только логика. "
      ],
      "metadata": {
        "id": "S8MI_qIyf6C8"
      }
    },
    {
      "cell_type": "code",
      "source": [
        "def factorial(n: int) -> int:\n",
        "    \"\"\"Возвращает факториал целого числа n. Число n >= 0. \n",
        "    \n",
        "    Примеры:\n",
        "    >>> [factorial(n) for n in range(6)]\n",
        "    [1, 1, 2, 6, 24, 120]\n",
        "    \"\"\"\n",
        "\n",
        "    result = 1\n",
        "    for i in range(2, n+1):\n",
        "        result *= i\n",
        "\n",
        "    return result\n"
      ],
      "metadata": {
        "id": "rxYBIheKeue6"
      },
      "execution_count": null,
      "outputs": []
    },
    {
      "cell_type": "markdown",
      "source": [
        "Сложные тесты, тестирование граничных случаев выносим  \n",
        "в файл `tests.py`, чтобы не захламлять основую логику."
      ],
      "metadata": {
        "id": "YD5xJ2lYf00U"
      }
    },
    {
      "cell_type": "code",
      "source": [
        "def test_factorial_zero():\n",
        "    \"\"\"Проверка факториала от 0. \"\"\"\n",
        "    expected = 0  # эталонный ответ\n",
        "    actual = factorial(0)  # ответ из кода\n",
        "    \n",
        "    assert expected == actual\n",
        "\n",
        "\n",
        "def test_negative_number():\n",
        "    \"\"\"Проверка передачи отрицательного числа. \"\"\"\n",
        "    ...\n"
      ],
      "metadata": {
        "id": "395lFvp3e1_S"
      },
      "execution_count": null,
      "outputs": []
    },
    {
      "cell_type": "markdown",
      "metadata": {
        "id": "eTmzzyyrj0nN"
      },
      "source": [
        "# Модули и пакеты"
      ]
    },
    {
      "cell_type": "markdown",
      "metadata": {
        "id": "x4QzWfXxkWwT"
      },
      "source": [
        "Пакет в Python — это каталог с набором модулей,  \n",
        "которые содержат в себе определенный функционал.  \n",
        "\n",
        "Другими словами, пакет позволяет иерархически структурировать  \n",
        "пространство модулей."
      ]
    },
    {
      "cell_type": "markdown",
      "source": [
        "https://ru.hexlet.io/courses/python-basics/lessons/packages/theory_unit"
      ],
      "metadata": {
        "id": "yOw2eFA8dMRj"
      }
    }
  ]
}