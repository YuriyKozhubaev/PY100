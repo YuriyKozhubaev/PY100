{
  "nbformat": 4,
  "nbformat_minor": 0,
  "metadata": {
    "kernelspec": {
      "name": "python36",
      "display_name": "Python 3.6",
      "language": "python"
    },
    "language_info": {
      "mimetype": "text/x-python",
      "nbconvert_exporter": "python",
      "name": "python",
      "pygments_lexer": "ipython3",
      "version": "3.6.6",
      "file_extension": ".py",
      "codemirror_mode": {
        "version": 3,
        "name": "ipython"
      }
    },
    "pycharm": {
      "stem_cell": {
        "cell_type": "raw",
        "source": [],
        "metadata": {
          "collapsed": false
        }
      }
    },
    "colab": {
      "provenance": [],
      "include_colab_link": true
    }
  },
  "cells": [
    {
      "cell_type": "markdown",
      "metadata": {
        "id": "view-in-github",
        "colab_type": "text"
      },
      "source": [
        "<a href=\"https://colab.research.google.com/github/YuriyKozhubaev/PY100/blob/main/PY110_lecture_1_2_Map_filter.ipynb\" target=\"_parent\"><img src=\"https://colab.research.google.com/assets/colab-badge.svg\" alt=\"Open In Colab\"/></a>"
      ]
    },
    {
      "cell_type": "markdown",
      "metadata": {
        "id": "5EteI-kvnU1P"
      },
      "source": [
        "# Функциональные преобразования списков\n",
        "![map_filter_emoji](https://github.com/aeksei/py110-lecture/blob/master/images/map_filter_emoji.png?raw=1)"
      ]
    },
    {
      "cell_type": "markdown",
      "metadata": {
        "id": "N25xzPF1nU1S"
      },
      "source": [
        "## map\n",
        "Функция [map](https://docs.python.org/3/library/functions.html#map) пришла из функционального программирования и  \n",
        "позволяет применять некую функцию к каждому элементу итерируемого объекта."
      ]
    },
    {
      "cell_type": "markdown",
      "metadata": {
        "id": "j7CUwg6gnU1T"
      },
      "source": [
        "Фактически `map` реализуется следующим образом:\n",
        "``` python\n",
        "def map_(func, some_list):\n",
        "    # some_list объект, над которым будет производиться преобразование\n",
        "    # func функция, которая должна выполняться над каждым объектом\n",
        "    outp = []\n",
        "    for i in range(len(some_list)):\n",
        "        outp.append(func(some_list[i]))\n",
        "    return outp\n",
        "```"
      ]
    },
    {
      "cell_type": "markdown",
      "metadata": {
        "id": "vig8JzXNnU1U"
      },
      "source": [
        "Чтобы не использовать такую конструкцию каждый раз, введена встроенная функция\n",
        "``` python\n",
        "map(function, iter1, iter2, ...)\n",
        "```\n",
        "\n",
        "- `iter1, iter2, ...` - может быть 1 или больше итерируемых объектов,  \n",
        "однако функция должна принимать такое же количество аргументов.\n",
        "- `function` - **ссылка** на функцию"
      ]
    },
    {
      "cell_type": "code",
      "metadata": {
        "trusted": true,
        "id": "Xo3uRf21nU1V",
        "colab": {
          "base_uri": "https://localhost:8080/"
        },
        "outputId": "8971dcb0-b36c-40e7-dd0d-6883ec4b18ca"
      },
      "source": [
        "def pow_(a, n=2):  # функция возведения в степень\n",
        "    return a ** n\n",
        "\n",
        "a_list = [1, 2, 3]\n",
        "result = map(pow_, a_list)\n",
        "print(result)"
      ],
      "execution_count": null,
      "outputs": [
        {
          "output_type": "stream",
          "name": "stdout",
          "text": [
            "<map object at 0x7f49aa1fe990>\n"
          ]
        }
      ]
    },
    {
      "cell_type": "code",
      "metadata": {
        "colab": {
          "base_uri": "https://localhost:8080/"
        },
        "id": "NtO4v1C-eLwB",
        "outputId": "972aeb05-c942-4d91-db22-61cb16b1d53b"
      },
      "source": [
        "next(result)"
      ],
      "execution_count": null,
      "outputs": [
        {
          "output_type": "execute_result",
          "data": {
            "text/plain": [
              "1"
            ]
          },
          "metadata": {},
          "execution_count": 3
        }
      ]
    },
    {
      "cell_type": "code",
      "metadata": {
        "trusted": true,
        "id": "iBw1_Gb4nU1Z",
        "colab": {
          "base_uri": "https://localhost:8080/"
        },
        "outputId": "60a3f094-07df-46af-d744-1044bdeda32f"
      },
      "source": [
        "# функция map возвращает итератор\n",
        "print(type(result))"
      ],
      "execution_count": null,
      "outputs": [
        {
          "output_type": "stream",
          "name": "stdout",
          "text": [
            "<class 'map'>\n"
          ]
        }
      ]
    },
    {
      "cell_type": "code",
      "metadata": {
        "trusted": true,
        "id": "UpFaANbTnU1b",
        "colab": {
          "base_uri": "https://localhost:8080/"
        },
        "outputId": "352143ed-f1e7-49ec-ff13-04a537f74256"
      },
      "source": [
        "print(list(result))"
      ],
      "execution_count": null,
      "outputs": [
        {
          "output_type": "stream",
          "name": "stdout",
          "text": [
            "[4, 9]\n"
          ]
        }
      ]
    },
    {
      "cell_type": "markdown",
      "metadata": {
        "id": "HcjvzDGVnU1c"
      },
      "source": [
        "---"
      ]
    },
    {
      "cell_type": "code",
      "metadata": {
        "trusted": true,
        "id": "_E6V7qGenU1d",
        "colab": {
          "base_uri": "https://localhost:8080/",
          "height": 204
        },
        "outputId": "b2c52e05-6cb0-4357-b17a-2d848d8bdc56"
      },
      "source": [
        "def pow_(a, n=2):  # функция возведения в степень\n",
        "    return a ** n\n",
        "    \n",
        "# возвести в произвольную степень\n",
        "result = map(pow_, [1, 2, 3], 3)"
      ],
      "execution_count": null,
      "outputs": [
        {
          "output_type": "error",
          "ename": "TypeError",
          "evalue": "ignored",
          "traceback": [
            "\u001b[0;31m---------------------------------------------------------------------------\u001b[0m",
            "\u001b[0;31mTypeError\u001b[0m                                 Traceback (most recent call last)",
            "\u001b[0;32m<ipython-input-1-4675dba30759>\u001b[0m in \u001b[0;36m<module>\u001b[0;34m\u001b[0m\n\u001b[1;32m      3\u001b[0m \u001b[0;34m\u001b[0m\u001b[0m\n\u001b[1;32m      4\u001b[0m \u001b[0;31m# возвести в произвольную степень\u001b[0m\u001b[0;34m\u001b[0m\u001b[0;34m\u001b[0m\u001b[0;34m\u001b[0m\u001b[0m\n\u001b[0;32m----> 5\u001b[0;31m \u001b[0mresult\u001b[0m \u001b[0;34m=\u001b[0m \u001b[0mmap\u001b[0m\u001b[0;34m(\u001b[0m\u001b[0mpow_\u001b[0m\u001b[0;34m,\u001b[0m \u001b[0;34m[\u001b[0m\u001b[0;36m1\u001b[0m\u001b[0;34m,\u001b[0m \u001b[0;36m2\u001b[0m\u001b[0;34m,\u001b[0m \u001b[0;36m3\u001b[0m\u001b[0;34m]\u001b[0m\u001b[0;34m,\u001b[0m \u001b[0;36m3\u001b[0m\u001b[0;34m)\u001b[0m\u001b[0;34m\u001b[0m\u001b[0;34m\u001b[0m\u001b[0m\n\u001b[0m",
            "\u001b[0;31mTypeError\u001b[0m: 'int' object is not iterable"
          ]
        }
      ]
    },
    {
      "cell_type": "code",
      "metadata": {
        "id": "ae4-fG3svSO_",
        "colab": {
          "base_uri": "https://localhost:8080/"
        },
        "outputId": "837e30bf-db87-40a3-cb50-2762af70c43c"
      },
      "source": [
        "def pow_(a, n=2):  # функция возведения в степень\n",
        "    return a ** n\n",
        "    \n",
        "# возвести в произвольную степень\n",
        "print(list(map(pow_, [1, 2, 3], [3, 3, 3, 3, 3])))"
      ],
      "execution_count": null,
      "outputs": [
        {
          "output_type": "stream",
          "name": "stdout",
          "text": [
            "[1, 8, 27]\n"
          ]
        }
      ]
    },
    {
      "cell_type": "code",
      "source": [
        "def pow_(a, n=2):  # функция возведения в степень\n",
        "    return a ** n\n",
        "    \n",
        "# возвести в произвольную степень\n",
        "print(list(map(pow_, [1, 2, 3], [3, 3])))"
      ],
      "metadata": {
        "colab": {
          "base_uri": "https://localhost:8080/"
        },
        "id": "JngCAN6iP8At",
        "outputId": "7b61dfa5-9d99-4982-dbde-c564a437db3f"
      },
      "execution_count": null,
      "outputs": [
        {
          "output_type": "stream",
          "name": "stdout",
          "text": [
            "[1, 8]\n"
          ]
        }
      ]
    },
    {
      "cell_type": "code",
      "source": [
        "# map\n",
        "[1, 2, 3]\n",
        "[3, 3, 100]\n",
        "pow_(1, 3), pow_(2, 3), pow_(3, 100)"
      ],
      "metadata": {
        "colab": {
          "base_uri": "https://localhost:8080/"
        },
        "id": "2rCGqEIXQZb3",
        "outputId": "3876cf26-9ec5-4ba5-e161-8ef814b7422e"
      },
      "execution_count": null,
      "outputs": [
        {
          "output_type": "execute_result",
          "data": {
            "text/plain": [
              "[1, 2, 3]"
            ]
          },
          "metadata": {},
          "execution_count": 4
        }
      ]
    },
    {
      "cell_type": "code",
      "source": [
        "def pow_(a, n=2):  # функция возведения в степень\n",
        "    return a ** n\n",
        "\n",
        "map(pow_, [[1, 3], [2, 3], [3, 3]])\n",
        "# (pow_, [[1, 2], [1, 2]], [2, 2, 2])"
      ],
      "metadata": {
        "id": "8o0bReuUQuW7"
      },
      "execution_count": null,
      "outputs": []
    },
    {
      "cell_type": "code",
      "metadata": {
        "id": "KZ_kQAQZvbjF"
      },
      "source": [
        "def pow_(a, n=2):  # функция возведения в степень\n",
        "    return a ** n\n",
        "    \n",
        "# возвести в произвольную степень\n",
        "print(list(map(pow_, [1, 2, 3], [3] * 10 ** 6)))"
      ],
      "execution_count": null,
      "outputs": []
    },
    {
      "cell_type": "code",
      "metadata": {
        "id": "fdhVhL17vhVj",
        "colab": {
          "base_uri": "https://localhost:8080/"
        },
        "outputId": "8f984ae5-a232-4eea-a09b-39b8de10fb6c"
      },
      "source": [
        "from itertools import repeat\n",
        "\n",
        "def pow_(a, n=2):  # функция возведения в степень\n",
        "    return a ** n\n",
        "    \n",
        "# возвести в произвольную степень\n",
        "print(list(map(pow_, [1, 2, 3], repeat(3))))"
      ],
      "execution_count": null,
      "outputs": [
        {
          "output_type": "stream",
          "name": "stdout",
          "text": [
            "[1, 8, 27]\n"
          ]
        }
      ]
    },
    {
      "cell_type": "code",
      "metadata": {
        "trusted": true,
        "id": "h5uCtz77nU1e",
        "colab": {
          "base_uri": "https://localhost:8080/"
        },
        "outputId": "d843eb42-b725-4e09-b828-d393eadf0865"
      },
      "source": [
        "# перевести символы в нижний регистр\n",
        "l = ['THIS', 'IS', 'LOWER', 'STRING']\n",
        "print(\", \".join((map(str.lower, l))))"
      ],
      "execution_count": null,
      "outputs": [
        {
          "output_type": "stream",
          "name": "stdout",
          "text": [
            "this, is, lower, string\n"
          ]
        }
      ]
    },
    {
      "cell_type": "code",
      "metadata": {
        "id": "UWNp9Cywhjzv"
      },
      "source": [
        "\"TEST\".lower()"
      ],
      "execution_count": null,
      "outputs": []
    },
    {
      "cell_type": "code",
      "source": [
        "str.lower(\"TEST\")"
      ],
      "metadata": {
        "colab": {
          "base_uri": "https://localhost:8080/",
          "height": 35
        },
        "id": "-aL-Ngn7SWEj",
        "outputId": "64c72d7e-65fc-484e-f93d-6a4acf9f00e0"
      },
      "execution_count": null,
      "outputs": [
        {
          "output_type": "execute_result",
          "data": {
            "text/plain": [
              "'test'"
            ],
            "application/vnd.google.colaboratory.intrinsic+json": {
              "type": "string"
            }
          },
          "metadata": {},
          "execution_count": 6
        }
      ]
    },
    {
      "cell_type": "markdown",
      "metadata": {
        "id": "-hRldCN0nU1f"
      },
      "source": [
        "---\n",
        "## filter"
      ]
    },
    {
      "cell_type": "markdown",
      "metadata": {
        "id": "p7Z3x9BKnU1f"
      },
      "source": [
        "Функция [filter](https://docs.python.org/3/library/functions.html#filter) аналогична функции `map`, с некоторыми особенностями\n",
        "\n",
        "Принимает на вход:\n",
        "- функцию, которая возвращает *bool* значение (True/False)\n",
        "- итерируемый объект, над которым будет производиться фильтрация (**!!! только один объект**)\n",
        "\n",
        "Возвращает итерируемый объект с теми элементами из входящей последовательности, для которых функция вернула `True`.\n",
        "\n",
        "Обратите внимание, что в отличии от `map` функция `filter` принимает только один итерируемый объект"
      ]
    },
    {
      "cell_type": "markdown",
      "metadata": {
        "id": "xsqFoRfKnU1g"
      },
      "source": [
        "```python\n",
        "def filter(func, cont):\n",
        "    outp = []\n",
        "    for x in cont:\n",
        "        if func(x):\n",
        "            outp.append(x)\n",
        "    return outp\n",
        "```"
      ]
    },
    {
      "cell_type": "code",
      "metadata": {
        "trusted": true,
        "id": "4KLwvADvnU1h",
        "colab": {
          "base_uri": "https://localhost:8080/"
        },
        "outputId": "ad3787f5-996e-4267-aac8-d2057685d6ad"
      },
      "source": [
        "# Из заданного списка вывести только положительные элементы\n",
        "def f(x):\n",
        "    return x > 0  # функция возвращает только True или False\n",
        "\n",
        "result = filter(f, [-2, -1, 0, 1, -3, 2, -3])\n",
        "\n",
        "# Возвращается итерируемый объект, т.е. перечисляйте или приводите к списку\n",
        "print(list(result))"
      ],
      "execution_count": null,
      "outputs": [
        {
          "output_type": "stream",
          "name": "stdout",
          "text": [
            "[1, 2]\n"
          ]
        }
      ]
    },
    {
      "cell_type": "code",
      "metadata": {
        "trusted": true,
        "id": "EPh4YEgWnU1i"
      },
      "source": [
        "# фильтрация из строки только цифр\n",
        "str_ = \"1q2w3e4r5t6y\"\n",
        "# [d for d in str_ if d.is_digit()]\n",
        "print(\"-\".join(filter(str.isdigit, str_)))"
      ],
      "execution_count": null,
      "outputs": []
    },
    {
      "cell_type": "code",
      "metadata": {
        "id": "gHRm7WqvkzpF"
      },
      "source": [
        "# Из заданного списка вывести только положительные элементы\n",
        "def f(x):\n",
        "    return x > 0  # функция возвращает только True или False\n",
        "    \n",
        "print(\"-\".join(map(str, filter(f, [-2, -1, 0, 1, -3, 2, -3]))))"
      ],
      "execution_count": null,
      "outputs": []
    },
    {
      "cell_type": "code",
      "metadata": {
        "trusted": true,
        "id": "8hpCHqa4nU1i",
        "colab": {
          "base_uri": "https://localhost:8080/"
        },
        "outputId": "27c89436-f0b3-44ea-9986-7568a51448ab"
      },
      "source": [
        "from IPython.core.display import display_javascript\n",
        "# фильтрация только определенных типов данных\n",
        "list_objects = [\"str_\", [1, 2, 3], 1, 1.5, {1: 1}, 2, 2.5]\n",
        "\n",
        "def is_dict(obj) -> bool:\n",
        "    return isinstance(obj, dict)\n",
        "    \n",
        "print(list(filter(is_dict, list_objects)))"
      ],
      "execution_count": null,
      "outputs": [
        {
          "output_type": "stream",
          "name": "stdout",
          "text": [
            "[{1: 1}]\n"
          ]
        }
      ]
    },
    {
      "cell_type": "code",
      "source": [
        "isinstance(5, int)"
      ],
      "metadata": {
        "colab": {
          "base_uri": "https://localhost:8080/"
        },
        "id": "VfSUo4yyV4de",
        "outputId": "f4191c3c-b5d5-48b9-83bc-4afb74017159"
      },
      "execution_count": null,
      "outputs": [
        {
          "output_type": "execute_result",
          "data": {
            "text/plain": [
              "True"
            ]
          },
          "metadata": {},
          "execution_count": 9
        }
      ]
    },
    {
      "cell_type": "markdown",
      "metadata": {
        "id": "4Q4iDle8nU1j"
      },
      "source": [
        "---\n",
        " \n",
        "Чаще всего генераторы списков более читаемы, чем `map` и `filter`, особенно в простых конструкциях."
      ]
    },
    {
      "cell_type": "code",
      "metadata": {
        "trusted": true,
        "id": "Aypt_fPdnU1j"
      },
      "source": [
        "# map + filter\n",
        "some_list = [i - 10 for i in range(20)]\n",
        "def f2(x): return x**2\n",
        "def f(x): return x > 0\n",
        "\n",
        "print(some_list)\n",
        "print(list(map(f2, filter(f, some_list))))"
      ],
      "execution_count": null,
      "outputs": []
    },
    {
      "cell_type": "code",
      "metadata": {
        "trusted": true,
        "id": "Wluq-v6OnU1k"
      },
      "source": [
        "# List Comprehension\n",
        "some_list = [i - 10 for i in range(20)]\n",
        "[i**2 for i in some_list if i > 0]"
      ],
      "execution_count": null,
      "outputs": []
    },
    {
      "cell_type": "markdown",
      "metadata": {
        "id": "5ShNb45PnU1l"
      },
      "source": [
        "![map_vs_comprehension](https://raw.githubusercontent.com/aeksei/py110-lecture/bad355d927f28c1a7f94543f8c7783d60e70edf0/images/map_vs_comprehension.jpeg)"
      ]
    },
    {
      "cell_type": "markdown",
      "metadata": {
        "id": "3lFN6uiPnU1l"
      },
      "source": [
        "Подробнее можно ознакомиться [здесь](https://habr.com/ru/post/479252/) \n",
        "\n",
        "---"
      ]
    },
    {
      "cell_type": "markdown",
      "metadata": {
        "id": "FKGvMbXzwXBS"
      },
      "source": [
        "```python\n",
        "map(func, list1)  # итератор, но никаких вычислений не будет произведено\n",
        "list(map(...))  # только здесь появляется объект\n",
        "\n",
        "[func(i) for i in list1]  # сразу готовый объект\n",
        "\n",
        "\n",
        "[func(i) for i in list1] == list(map(func, list1))\n",
        "```"
      ]
    },
    {
      "cell_type": "markdown",
      "metadata": {
        "id": "jnzpE5EjnU1m"
      },
      "source": [
        "## zip\n",
        "Функция [zip](https://docs.python.org/3/library/functions.html#zip), которая «сшивает» несколько списков друг с другом\n",
        "``` python\n",
        "a = [1, 2, 3]\n",
        "b = [‘a’, ‘b’, ‘c’]\n",
        "list(zip(a, b)) # [(1, ‘a’), (2, ‘b’), (3, ‘c’)]\n",
        "```"
      ]
    },
    {
      "cell_type": "code",
      "metadata": {
        "trusted": true,
        "id": "nxd1jrrenU1m",
        "colab": {
          "base_uri": "https://localhost:8080/"
        },
        "outputId": "5c75c36a-974b-4145-9f5d-ccca9cd2f700"
      },
      "source": [
        "a = (1, 2, 3)\n",
        "b = ('a', 'b', 'c', 'd')\n",
        "print(list(zip(a, b)))"
      ],
      "execution_count": null,
      "outputs": [
        {
          "output_type": "stream",
          "name": "stdout",
          "text": [
            "[(1, 'a'), (2, 'b'), (3, 'c')]\n"
          ]
        }
      ]
    },
    {
      "cell_type": "code",
      "source": [
        "for a_value, b_value in a_list, b_list:\n",
        "    print(a_value, b_value)"
      ],
      "metadata": {
        "id": "kVAqy2PmYroO"
      },
      "execution_count": null,
      "outputs": []
    },
    {
      "cell_type": "code",
      "metadata": {
        "id": "EiD7AWWkpErT",
        "colab": {
          "base_uri": "https://localhost:8080/"
        },
        "outputId": "37bec3c3-9110-4c48-f477-6378cc722051"
      },
      "source": [
        "for a_value, b_value in zip(a, b):\n",
        "    print(a_value, b_value)"
      ],
      "execution_count": null,
      "outputs": [
        {
          "output_type": "stream",
          "name": "stdout",
          "text": [
            "1 a\n",
            "2 b\n",
            "3 c\n"
          ]
        }
      ]
    },
    {
      "cell_type": "code",
      "metadata": {
        "trusted": true,
        "id": "0wV6uZs6nU1n",
        "colab": {
          "base_uri": "https://localhost:8080/"
        },
        "outputId": "a66af95d-9a7b-4bf2-ba00-51c29446943f"
      },
      "source": [
        "# создание словаря\n",
        "keys = [1, 2, 3]\n",
        "values = ['a', 'b', 'c', 'd']\n",
        "\n",
        "dict_ = dict(zip(keys, values))\n",
        "print(dict_)"
      ],
      "execution_count": null,
      "outputs": [
        {
          "output_type": "stream",
          "name": "stdout",
          "text": [
            "{1: 'a', 2: 'b', 3: 'c'}\n"
          ]
        }
      ]
    },
    {
      "cell_type": "code",
      "source": [
        "from itertools import zip_longest, cycle\n",
        "\n",
        "keys = [1, 2, 3, 4, 5, 6]\n",
        "values = ['a', 'b', 'c', 'd']\n",
        "\n",
        "dict_ = dict(zip_longest(keys, values))\n",
        "print(dict_)"
      ],
      "metadata": {
        "colab": {
          "base_uri": "https://localhost:8080/"
        },
        "id": "9sEBQKAEwf-i",
        "outputId": "f52b4db7-bdb0-4119-a000-65c01677b22f"
      },
      "execution_count": null,
      "outputs": [
        {
          "output_type": "stream",
          "name": "stdout",
          "text": [
            "{1: 'a', 2: 'b', 3: 'c', 4: 'd', 5: None, 6: None}\n"
          ]
        }
      ]
    },
    {
      "cell_type": "code",
      "source": [],
      "metadata": {
        "id": "aBi11VwMZxdy"
      },
      "execution_count": null,
      "outputs": []
    },
    {
      "cell_type": "code",
      "source": [
        "keys = [1, 2, 3, 4, 5, 6]\n",
        "values = ['a', 'b', 'c', 'd']\n",
        "\n",
        "dict_ = dict(zip_longest(keys, values, fillvalue=\"test\"))\n",
        "print(dict_)"
      ],
      "metadata": {
        "colab": {
          "base_uri": "https://localhost:8080/"
        },
        "id": "3uWMwXgUw8Wf",
        "outputId": "86d8e0dc-3c50-4ef6-e943-ef685213714f"
      },
      "execution_count": null,
      "outputs": [
        {
          "output_type": "stream",
          "name": "stdout",
          "text": [
            "{1: 'a', 2: 'b', 3: 'c', 4: 'd', 5: 'test', 6: 'test'}\n"
          ]
        }
      ]
    },
    {
      "cell_type": "code",
      "source": [
        "keys = [1, 2, 3, 4, 5, 6]\n",
        "values = ['a', 'b', 'c', 'd']\n",
        "\n",
        "dict_ = dict(zip(keys, cycle(values)))\n",
        "print(dict_)"
      ],
      "metadata": {
        "colab": {
          "base_uri": "https://localhost:8080/"
        },
        "id": "TLpBKJJ_xbBm",
        "outputId": "847d8ae0-30f8-4284-d376-c77bd61096b5"
      },
      "execution_count": null,
      "outputs": [
        {
          "output_type": "stream",
          "name": "stdout",
          "text": [
            "{1: 'a', 2: 'b', 3: 'c', 4: 'd', 5: 'a', 6: 'b'}\n"
          ]
        }
      ]
    },
    {
      "cell_type": "markdown",
      "metadata": {
        "id": "hZeeQlQEnU1o"
      },
      "source": [
        "## enumerate\n",
        "Очередная встроенная функция [enumerate](https://docs.python.org/3/library/functions.html#enumerate), предназначенная для перечисления объектов  \n",
        "Аналогична функции\n",
        "``` python\n",
        "zip(range(len(some_iterable)), some_iterable)\n",
        "```\n",
        "Т.е. возвращает кортежи из двух элементов, где первый элемент – номер, а второй – сам элемент."
      ]
    },
    {
      "cell_type": "code",
      "metadata": {
        "trusted": true,
        "id": "t74UlVZpnU1o"
      },
      "source": [
        "# пример использования enumerate\n"
      ],
      "execution_count": null,
      "outputs": []
    },
    {
      "cell_type": "code",
      "metadata": {
        "trusted": true,
        "id": "JdPV6D97nU1p"
      },
      "source": [
        "# enumerate можно указать начальный элемент для старта"
      ],
      "execution_count": null,
      "outputs": []
    }
  ]
}