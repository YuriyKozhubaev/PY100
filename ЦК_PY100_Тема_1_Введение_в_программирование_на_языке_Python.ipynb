{
  "nbformat": 4,
  "nbformat_minor": 0,
  "metadata": {
    "colab": {
      "provenance": [],
      "collapsed_sections": [
        "Qr7_zGs71T-t",
        "87kjQwX4-yqA",
        "ZHTr8p8C-Ic9",
        "zsAfC0Amf8ni",
        "fF5PABFrY9I4"
      ],
      "include_colab_link": true
    },
    "kernelspec": {
      "name": "python3",
      "display_name": "Python 3"
    }
  },
  "cells": [
    {
      "cell_type": "markdown",
      "metadata": {
        "id": "view-in-github",
        "colab_type": "text"
      },
      "source": [
        "<a href=\"https://colab.research.google.com/github/YuriyKozhubaev/PY100/blob/main/%D0%A6%D0%9A_PY100_%D0%A2%D0%B5%D0%BC%D0%B0_1_%D0%92%D0%B2%D0%B5%D0%B4%D0%B5%D0%BD%D0%B8%D0%B5_%D0%B2_%D0%BF%D1%80%D0%BE%D0%B3%D1%80%D0%B0%D0%BC%D0%BC%D0%B8%D1%80%D0%BE%D0%B2%D0%B0%D0%BD%D0%B8%D0%B5_%D0%BD%D0%B0_%D1%8F%D0%B7%D1%8B%D0%BA%D0%B5_Python.ipynb\" target=\"_parent\"><img src=\"https://colab.research.google.com/assets/colab-badge.svg\" alt=\"Open In Colab\"/></a>"
      ]
    },
    {
      "cell_type": "markdown",
      "metadata": {
        "id": "hsP2rxfp1ZC9"
      },
      "source": [
        "# Краткий обзор аспектов языка Python. Установка и настройка среды разработки"
      ]
    },
    {
      "cell_type": "markdown",
      "metadata": {
        "id": "Qr7_zGs71T-t"
      },
      "source": [
        "## Введение в программирование на Python."
      ]
    },
    {
      "cell_type": "markdown",
      "metadata": {
        "id": "dDrKSB2p61I_"
      },
      "source": [
        "### Низко- и высокоуровневые языки программирования"
      ]
    },
    {
      "cell_type": "markdown",
      "metadata": {
        "id": "ycDCREt01v-q"
      },
      "source": [
        "**Язык программирования** это строго определенный набор правил,  \n",
        "благодаря которому возможно взаимодействие человека с компьютером."
      ]
    },
    {
      "cell_type": "markdown",
      "metadata": {
        "id": "tRGBBMGi15SH"
      },
      "source": [
        "Язык программирования этот тот инструмент,  \n",
        "с помощью которого вы можете управлять компьютером. \n",
        "\n",
        "Сам по себе компьютер делать ничего не умеет,  \n",
        "результат его работы и того, что он умеет,  \n",
        "это огромный труд большого количества программистов"
      ]
    },
    {
      "cell_type": "markdown",
      "metadata": {
        "id": "6qwHjfvJ2G2a"
      },
      "source": [
        "Получается, чтобы компьютер начал понимать,  \n",
        "что вы от него хотите в написанной вами программе  \n",
        "с выбранным языком программирования, ему нужна ещё одна программа,  \n",
        "которая будет понимать и выполнять ваш язык программирования.\n",
        "\n",
        "Поэтому языки программирования делятся на:\n",
        "- низкоуровневые\n",
        "- высокоуровненые"
      ]
    },
    {
      "cell_type": "markdown",
      "metadata": {
        "id": "kUrxCm2X3-W0"
      },
      "source": [
        "![](https://drive.google.com/uc?id=1IisUQZPW7Hvv6B2ve__3wiD1TXohmGHS)"
      ]
    },
    {
      "cell_type": "markdown",
      "metadata": {
        "id": "KmpJZuSe45_p"
      },
      "source": [
        "![](https://drive.google.com/uc?id=1w1cYcmFgkutYj2QAYtuLYsF9lww131K8)"
      ]
    },
    {
      "cell_type": "markdown",
      "metadata": {
        "id": "qn4FYce64s7D"
      },
      "source": [
        "Язык программирования Python относится к высокоуровневым языкам."
      ]
    },
    {
      "cell_type": "markdown",
      "metadata": {
        "id": "Sa8wErmz69Oj"
      },
      "source": [
        "### Компилируемые и интерпретируемые языки программирования"
      ]
    },
    {
      "cell_type": "markdown",
      "metadata": {
        "id": "nwlARL2m6zS2"
      },
      "source": [
        "Ещё языки программирования делятся на \n",
        "- компилируемые;\n",
        "- интерпретируемые.\n",
        "\n",
        "В **компилируемых** языках для преобразования исходного кода  \n",
        "в машинный код используются специальные программы - компиляторы. \n",
        "\n",
        "Компиляторы преобразуют весь “человеческий” код в машинный  \n",
        "перед началом работы, а на выходе получается новая скомпилированная программа,  \n",
        "которую и выполняет компьютер."
      ]
    },
    {
      "cell_type": "markdown",
      "metadata": {
        "id": "pZkGZmiu9t59"
      },
      "source": [
        "Второй тип языков программирования - это **интерпретируемые**.  \n",
        "Интерпретатор принимает удобный для восприятия человеком код и  \n",
        "начинает построчно исполнять его, преобразуя каждую строку в машинный код. \n",
        "\n",
        "Отличие компилятора от интерпретатора в том,  \n",
        "что последний не создает никакой новой программы,  \n",
        "а просто берет каждую строку вашей программы,  \n",
        "преобразует её в такую форму, которая понятна для выполнения компьютеру,  \n",
        "и исполняет ее, а затем берет следующую инструкцию.  \n",
        "\n",
        "Делать он будет это до тех пор пока не будут выполнены все строки  \n",
        "вашего исходного файла либо не встретится команда,  \n",
        "обозначающая конец интерпретации. "
      ]
    },
    {
      "cell_type": "markdown",
      "metadata": {
        "id": "isAcbxLm9-vU"
      },
      "source": [
        "Отвечая на вопрос, какое же место язык Python  \n",
        "занимает среди всех языков программирования?\n",
        "\n",
        "**Python это высокоуровневый интерпретируемый кроссплатформенный язык программирования.**"
      ]
    },
    {
      "cell_type": "markdown",
      "metadata": {
        "id": "87kjQwX4-yqA"
      },
      "source": [
        "## Интерпретаторы Python’а. Установка интерпретатора Python."
      ]
    },
    {
      "cell_type": "markdown",
      "metadata": {
        "id": "ZHTr8p8C-Ic9"
      },
      "source": [
        "### Версии Python"
      ]
    },
    {
      "cell_type": "markdown",
      "metadata": {
        "id": "QCpkBFRp-IW5"
      },
      "source": [
        "До начала 2020 года существовало две принципиально разные версии python.  \n",
        "Но Python версии 2 прекратил свою поддержку в январе 2020 году.  \n",
        "Последняя версия 2.7.18 была выпущена в апреле 2020. \n",
        "\n",
        "Актуальной версией python является **Python 3**.  \n",
        "Если у вас не стоит конкретной задачи, то однозначно выбирайте его."
      ]
    },
    {
      "cell_type": "markdown",
      "metadata": {
        "id": "aF7StfsUdxgU"
      },
      "source": [
        "В данном курсе будем пользоваться версией **python 3.10**."
      ]
    },
    {
      "cell_type": "markdown",
      "metadata": {
        "id": "-TJufczZHgeQ"
      },
      "source": [
        "### Плюсы и минусы Python\n"
      ]
    },
    {
      "cell_type": "markdown",
      "metadata": {
        "id": "Yp79Le9zHjxw"
      },
      "source": [
        "Как и у любого языка программирования, у Python есть свои плюсы и минусы. "
      ]
    },
    {
      "cell_type": "markdown",
      "metadata": {
        "id": "w-4g36_iIwpj"
      },
      "source": [
        "![](https://drive.google.com/uc?id=1vUa0DeofnXZvoMCjHgxfCVY-u2jac1d0)\n",
        "\n",
        "- ***Минусы*** - интерпретируемый\n",
        "\n",
        "- ***Плюсы***: \n",
        "    - Простой и человекочитабельный **синтаксис**.  \n",
        "    Это один из основных плюсов, которым python выделяется  \n",
        "    среди остальных языков программирования.  \n",
        "    Отлично подходит в качестве первого языка.\n",
        "    - **Многогранность**.  \n",
        "    Кроссплатформенный (Windows, Linux, Mac) и  \n",
        "    множество сфер применения начиная от программирования микроконтроллеров  \n",
        "    заканчивая алгоритмами машинного обучения и анализа данных.\n",
        "    - **Обилие дополнительных библиотек**.  \n",
        "    Богатая коллекция уже готовых решений неких задач другими программистами  \n",
        "    с подробной документацией (справочник, описывающий,  \n",
        "    как пользоваться языком программирования)."
      ]
    },
    {
      "cell_type": "markdown",
      "metadata": {
        "id": "q_1R33BYI9Or"
      },
      "source": [
        "В целом, Python это как автомобиль “на каждый день”.  \n",
        "Очень удобный и универсальный в использовании,  \n",
        "но проигрывает в скорости менее комфортным и быстрым суперкарам.  \n",
        "Вам не нужно очень долго учиться, сели и поехали. \n",
        "\n",
        "Уже через несколько занятий вы сможете писать  \n",
        "свои собственные полноценные программы.  \n",
        "Поэтому python является отличным языком программирования в качестве первого.\n",
        "![](https://drive.google.com/uc?id=1Vmf4EOI7_hzPxYSLwDx39jIZqSJsJrGb)"
      ]
    },
    {
      "cell_type": "markdown",
      "metadata": {
        "id": "8xwJvqlRNNV5"
      },
      "source": [
        "### Где найти Python?"
      ]
    },
    {
      "cell_type": "markdown",
      "metadata": {
        "id": "8aRZ0HJkPYdt"
      },
      "source": [
        "Официальный сайт [python.org](https://www.python.org/)"
      ]
    },
    {
      "cell_type": "markdown",
      "metadata": {
        "id": "2o7rsY1LT_sm"
      },
      "source": [
        "### Раздел \"About\""
      ]
    },
    {
      "cell_type": "markdown",
      "metadata": {
        "id": "9Xnpg-EBULUd"
      },
      "source": [
        "**Раздел \"About\"**\n",
        "- [“Applications”](https://www.python.org/about/apps/)\n",
        "- [“Getting Started”](https://www.python.org/about/gettingstarted/)\n",
        "\n",
        "![](https://drive.google.com/uc?id=1Vy4OOSIvatfxwm6qPeIpSGHBT02gQzmr)\n",
        "\n"
      ]
    },
    {
      "cell_type": "markdown",
      "metadata": {
        "id": "2rUBKIZPVlrE"
      },
      "source": [
        "### Раздел “Documentation”"
      ]
    },
    {
      "cell_type": "markdown",
      "metadata": {
        "id": "K_AlkBT_VqCq"
      },
      "source": [
        "**Раздел “Documentation”**\n",
        "- [“Beginner's Guide”](https://wiki.python.org/moin/BeginnersGuide) \n",
        "- [“Developer’s Guide”](https://devguide.python.org/)\n",
        "- [“PythonBooks”](https://wiki.python.org/moin/PythonBooks)\n",
        "\n",
        "![](https://drive.google.com/uc?id=16bKl6hUlYbp_XW86HVoPSdeevD1vCw6s)\n",
        "\n"
      ]
    },
    {
      "cell_type": "markdown",
      "metadata": {
        "id": "7qmtghdyaPAz"
      },
      "source": [
        "### Раздел \"Downloads\""
      ]
    },
    {
      "cell_type": "markdown",
      "metadata": {
        "id": "k5jQOtlHNvc3"
      },
      "source": [
        "Зачастую на Linux и MacOS python установлен на умолчанию.  \n",
        "На Windows он не стоит по умолчанию.\n",
        "\n",
        "Нет никаких ограничений, сколько версий python у вас может быть установлено.  \n",
        "Также нет никаких проблем если у вас будут установлен python 2 и 3 версий."
      ]
    },
    {
      "cell_type": "markdown",
      "metadata": {
        "id": "NY-HEaVXOC6O"
      },
      "source": [
        "Итак, скачать себе интерпретатор python можно с официального сайта  \n",
        "в разделе [“Downloads”](https://www.python.org/downloads/).  \n",
        "Если вам нужна какая-то специфическая версия,  \n",
        "то её можно найти во вкладке “All releases”.\n",
        "![](https://drive.google.com/uc?id=1_F0UM2Nxi2iKkWWS1KRhsNYM26_DfdEj)\n"
      ]
    },
    {
      "cell_type": "markdown",
      "metadata": {
        "id": "X7ytrzsb-uSs"
      },
      "source": [
        "Но и здесь существует несколько различных типов: \n",
        "- **Старые версии**, которые уже тоже закончили поддержку,  \n",
        "например версии меньше версии python 3.6, включительно.  \n",
        "Они постепенно перестают поддерживаться разработчиками,  \n",
        "а значит нет гарантий, что обнаруженные уязвимости и ошибки будут исправлены.\n",
        "\n",
        "- **Актуальные**, любая из версий 3.7, 3.8, 3.9, 3.10.  \n",
        "Постепенно ранние версии так же прекращают свою поддержку,  \n",
        "поэтому старайтесь пользоваться наиболее поздней из доступных версий.  \n",
        "В данном курсе будем пользоваться **версией python 3.10**.\n",
        "\n",
        "- **Версии, которые проходят тестирование** и готовятся к официальному выпуску.  \n",
        "Такие версии находятся в стадии разработки,  \n",
        "а следовательно подвержены возникновению большого  \n",
        "количества ошибок и несовместимостей.  \n",
        "Поэтому их не рекомендуется использовать в “боевых проектах”.\n",
        "\n",
        "***Примечание***: Актуальную [информацию](https://devguide.python.org/#status-of-python-branches) о всех версиях  \n",
        "можно узнать на официальном сайте Python.\n"
      ]
    },
    {
      "cell_type": "markdown",
      "metadata": {
        "id": "zsAfC0Amf8ni"
      },
      "source": [
        "## Знакомство со средами разработки."
      ]
    },
    {
      "cell_type": "markdown",
      "metadata": {
        "id": "3VQBA7Yogd6N"
      },
      "source": [
        "Программа на языке Python представляет собой  \n",
        "простой **текстовый файл с расширением .py**,  \n",
        "который содержит исходный код.  \n",
        "Далее этот файл нужно передать интерпретатору,  \n",
        "чтобы он выполнил описанные вами инструкции.\n",
        "\n",
        "Файл с исходным кодом на языке Python ещё называют **скриптом**.\n"
      ]
    },
    {
      "cell_type": "markdown",
      "metadata": {
        "id": "8nue7jdGjHHh"
      },
      "source": [
        "Для написания простейшей программы вам подойдет даже блокнот. \n",
        "\n",
        "Но куда удобнее писать код в специализированных программах.\n",
        "\n",
        "***Примечание***: [перечь](https://wiki.python.org/moin/PythonEditors) редакторов, которые поддерживают работу с python "
      ]
    },
    {
      "cell_type": "markdown",
      "metadata": {
        "id": "yqqxpWjPj6kP"
      },
      "source": [
        "### Интегрированная среда разработки"
      ]
    },
    {
      "cell_type": "markdown",
      "metadata": {
        "id": "tdKW-vBakFfW"
      },
      "source": [
        "**IDE** - интегрированная среда разработки (англ. Integrated Development Environment). \n",
        "\n",
        "Простыми словами можно сказать, что это программы,  \n",
        "которые позволяют писать другие программы.\n",
        "\n",
        "***Примечание:***  \n",
        "С перечнем IDE, позволяющих работать с python можно ознакомиться [здесь](https://wiki.python.org/moin/IntegratedDevelopmentEnvironments)\n"
      ]
    },
    {
      "cell_type": "markdown",
      "metadata": {
        "id": "qh-HfEL-kxUv"
      },
      "source": [
        "Для первого ознакомления можно выделить несколько популярных IDE: \n",
        "- PyCharm\n",
        "- Spyder\n",
        "- Visual Studio\n",
        "- Eclipse + PyDev. \n",
        "\n",
        "Сравнительный анализ IDE для python можно посмотреть [здесь](https://tproger.ru/translations/python-ide/): \n",
        "\n",
        "![](https://drive.google.com/uc?id=1iv66Aov92w5s6jEraRlOIM4ndGpRN5X9)"
      ]
    },
    {
      "cell_type": "markdown",
      "metadata": {
        "id": "k6s6hPJVo-mO"
      },
      "source": [
        "IDE состоит из трех основных объектов:\n",
        "- **текстового редактора**, который позволяет писать код;\n",
        "- **транслятора** (в случае python это интерпретатор),  \n",
        "который исполняет ваш код;\n",
        "- **отладчик**, который позволяет пошагово изучить вашу программу  \n",
        "и облегчить поиск ошибки.\n"
      ]
    },
    {
      "cell_type": "markdown",
      "metadata": {
        "id": "Jvhi7Dixj3_5"
      },
      "source": [
        "В рамках данного курса мы будем работать  \n",
        "с программным обеспечением компании [JetBrains](https://jetbrains.ru/), а конкретно IDE PyCharm. \n",
        "\n",
        "Существует две версии данного продукта: \n",
        "- Professional Edition\n",
        "- Community Edition (CE). \n",
        "\n",
        "[Ссылка](https://www.jetbrains.com/ru-ru/pycharm/) для скачивания IDE PyCharm"
      ]
    },
    {
      "cell_type": "markdown",
      "metadata": {
        "id": "eHkB9hF2VQk5"
      },
      "source": [
        "## Краткий обзор аспектов языка (Дзен Python’а)."
      ]
    },
    {
      "cell_type": "markdown",
      "metadata": {
        "id": "OvjXNheSUk6Y"
      },
      "source": [
        "PEP (англ. Python Enhancement Proposal) - это [предложения](https://www.python.org/dev/peps/) по развитию питона.\n",
        "\n",
        "Процесс PEP является основным механизмом для предложения  \n",
        "**новых возможностей** и для **документирования** проектных решений,  \n",
        "которые прошли в Python.\n",
        "\n",
        "- PEP20\n",
        "- PEP8"
      ]
    },
    {
      "cell_type": "markdown",
      "metadata": {
        "id": "fF5PABFrY9I4"
      },
      "source": [
        "### PEP20"
      ]
    },
    {
      "cell_type": "markdown",
      "metadata": {
        "id": "CFBywdFBY_x1"
      },
      "source": [
        "**PEP20** - [Дзен](https://www.python.org/dev/peps/pep-0020/) Python\n",
        "\n",
        "Разработчики языка Python придерживаются  \n",
        "определённой философии программирования,  \n",
        "называемой **«The Zen of Python»** («Дзен Питона», или «Дзен Пайтона»).\n",
        "\n",
        "В целом она подходит к программированию на любом языке."
      ]
    },
    {
      "cell_type": "code",
      "metadata": {
        "id": "kLoVfd_Qbrl4",
        "colab": {
          "base_uri": "https://localhost:8080/"
        },
        "outputId": "4d4bf53d-e9b6-49d5-881a-c8498272bbe1"
      },
      "source": [
        "# Её текст выдаётся интерпретатором Python по команде:\n",
        "import this"
      ],
      "execution_count": null,
      "outputs": [
        {
          "output_type": "stream",
          "name": "stdout",
          "text": [
            "The Zen of Python, by Tim Peters\n",
            "\n",
            "Beautiful is better than ugly.\n",
            "Explicit is better than implicit.\n",
            "Simple is better than complex.\n",
            "Complex is better than complicated.\n",
            "Flat is better than nested.\n",
            "Sparse is better than dense.\n",
            "Readability counts.\n",
            "Special cases aren't special enough to break the rules.\n",
            "Although practicality beats purity.\n",
            "Errors should never pass silently.\n",
            "Unless explicitly silenced.\n",
            "In the face of ambiguity, refuse the temptation to guess.\n",
            "There should be one-- and preferably only one --obvious way to do it.\n",
            "Although that way may not be obvious at first unless you're Dutch.\n",
            "Now is better than never.\n",
            "Although never is often better than *right* now.\n",
            "If the implementation is hard to explain, it's a bad idea.\n",
            "If the implementation is easy to explain, it may be a good idea.\n",
            "Namespaces are one honking great idea -- let's do more of those!\n"
          ]
        }
      ]
    },
    {
      "cell_type": "markdown",
      "metadata": {
        "id": "owf2xK6YbeGR"
      },
      "source": [
        "**Перевод «The Zen of Python»**\n",
        "\n",
        "1. Красивое лучше, чем уродливое.\n",
        "1. **Явное лучше, чем неявное.**\n",
        "1. **Простое лучше, чем сложное.**\n",
        "1. Сложное лучше, чем запутанное.\n",
        "1. Плоское лучше, чем вложенное.\n",
        "1. Разреженное лучше, чем плотное.\n",
        "1. **Читаемость имеет значение.**\n",
        "1. Особые случаи не настолько особые, чтобы нарушать правила.\n",
        "1. При этом практичность важнее безупречности.\n",
        "1. **Ошибки никогда не должны замалчиваться.**\n",
        "1. Если они не замалчиваются явно.\n",
        "1. Встретив двусмысленность, отбрось искушение угадать.\n",
        "1. Должен существовать один и, желательно, только один очевидный способ сделать это.\n",
        "1. Хотя он поначалу может быть и не очевиден, если вы не голландец.\n",
        "1. Сейчас лучше, чем никогда.\n",
        "1. Хотя никогда зачастую лучше, чем прямо сейчас.\n",
        "1. **Если реализацию сложно объяснить — идея плоха.**\n",
        "1. Если реализацию легко объяснить — идея, возможно, хороша.\n",
        "1. Пространства имён — отличная штука! Будем делать их больше!"
      ]
    },
    {
      "cell_type": "markdown",
      "metadata": {
        "id": "cI6ocmj0cg_e"
      },
      "source": [
        "**\"Так их же 19!\" а PEP по счету 20???**\n",
        "\n",
        "В этом заключается философский подтекст -  \n",
        "Никакие правила не возводить в абсолют.  \n",
        "Здесь каждый может определить для себя свой принцип и будет прав."
      ]
    },
    {
      "cell_type": "markdown",
      "metadata": {
        "id": "PQE0b1b7dF4-"
      },
      "source": [
        "### PEP8"
      ]
    },
    {
      "cell_type": "markdown",
      "metadata": {
        "id": "qWKQLMX2fHv5"
      },
      "source": [
        "PEP8 - руководство по написанию кода на Python.\n",
        "- [английская версия](https://www.python.org/dev/peps/pep-0008/)\n",
        "- [русская версия](https://pythonworld.ru/osnovy/pep-8-rukovodstvo-po-napisaniyu-koda-na-python.html)\n",
        "\n",
        "Документ описывает соглашение о том,  \n",
        "как писать код для языка Python.  \n",
        "Ключевая идея такова: **код читается намного больше раз, чем пишется**.\n",
        "\n",
        "Данное руководство носит рекомендательный характер!!!"
      ]
    }
  ]
}