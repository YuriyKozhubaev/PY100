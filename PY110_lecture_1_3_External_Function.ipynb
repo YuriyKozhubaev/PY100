{
  "nbformat": 4,
  "nbformat_minor": 0,
  "metadata": {
    "kernelspec": {
      "name": "python36",
      "display_name": "Python 3.6",
      "language": "python"
    },
    "language_info": {
      "mimetype": "text/x-python",
      "nbconvert_exporter": "python",
      "name": "python",
      "pygments_lexer": "ipython3",
      "version": "3.6.6",
      "file_extension": ".py",
      "codemirror_mode": {
        "version": 3,
        "name": "ipython"
      }
    },
    "colab": {
      "provenance": [],
      "include_colab_link": true
    }
  },
  "cells": [
    {
      "cell_type": "markdown",
      "metadata": {
        "id": "view-in-github",
        "colab_type": "text"
      },
      "source": [
        "<a href=\"https://colab.research.google.com/github/YuriyKozhubaev/PY100/blob/main/PY110_lecture_1_3_External_Function.ipynb\" target=\"_parent\"><img src=\"https://colab.research.google.com/assets/colab-badge.svg\" alt=\"Open In Colab\"/></a>"
      ]
    },
    {
      "cell_type": "markdown",
      "metadata": {
        "id": "AgljNFSJnVz1"
      },
      "source": [
        "# Расширенные возможности использования функций"
      ]
    },
    {
      "cell_type": "markdown",
      "metadata": {
        "id": "YJPHMrpgnV0Z"
      },
      "source": [
        "---\n",
        "## lambda функции\n",
        "\n",
        "На практике мы с вами сталкивались с тем, что `map` и `filter`  \n",
        "принимают функцию, которая должна применяться к каждому элементу.  \n",
        "Иногда встроенных функций не хватает, и приходится объявлять функцию,  \n",
        "которая зачастую будет применена всего один раз.  \n",
        "Но при она будет загромождать код.\n",
        "\n",
        "Специально для таких одноразовых функций были сделаны анонимные функции.  Объявляются они по ключевому слову `lambda`\n",
        "\n",
        "```python\n",
        "lambda arg1, arg2, ...: pass\n",
        "```"
      ]
    },
    {
      "cell_type": "code",
      "metadata": {
        "trusted": true,
        "id": "UoemVyRCnV0c",
        "colab": {
          "base_uri": "https://localhost:8080/"
        },
        "outputId": "3c5d8bd9-4577-409a-f6de-26521f843e36"
      },
      "source": [
        "# эти две функции выполняют одно и тоже складывают два числа\n",
        "def my_function(x1, x2):  # Обычная функция\n",
        "    return x2 + x1\n",
        "\n",
        "lambda x1, x2: x2 + x1  # Lambda функция"
      ],
      "execution_count": null,
      "outputs": [
        {
          "output_type": "execute_result",
          "data": {
            "text/plain": [
              "<function __main__.<lambda>>"
            ]
          },
          "metadata": {},
          "execution_count": 2
        }
      ]
    },
    {
      "cell_type": "markdown",
      "metadata": {
        "id": "lYZnQPvjnV0g"
      },
      "source": [
        "Lambda функции в большинстве своем предназначены для выполнения  \n",
        "каких-либо одноразовых действий и после свое выполенения они сразу удаляются.  \n",
        "\n",
        "Поэтому [не следует](https://www.python.org/dev/peps/pep-0008/#programming-recommendations) присваивать lambda функцию  \n",
        "какой-то переменной что-бы повторно использовать её.  \n",
        "Во время трассировки программы вам будет сложно понять, где искать функцию,  чтобы проверить, что она выполняет.\n",
        "\n",
        "```python\n",
        "lambda_function = lambda x1, x2: x2 + x1  # Неверное оформление из-за присваивая \n",
        "```"
      ]
    },
    {
      "cell_type": "code",
      "metadata": {
        "trusted": true,
        "id": "KPX5GBYmnV0h",
        "colab": {
          "base_uri": "https://localhost:8080/"
        },
        "outputId": "d9fb6bf1-d638-4a47-c0f9-75053a4a02be"
      },
      "source": [
        "def my_function(x1, x2):  # Обычная функция\n",
        "    return x2 + x1\n",
        "    \n",
        "# именованая функция\n",
        "print(my_function)"
      ],
      "execution_count": null,
      "outputs": [
        {
          "output_type": "stream",
          "name": "stdout",
          "text": [
            "<function my_function at 0x7fc672a82ef0>\n"
          ]
        }
      ]
    },
    {
      "cell_type": "code",
      "metadata": {
        "trusted": true,
        "id": "vMLHt0oVnV0h",
        "colab": {
          "base_uri": "https://localhost:8080/"
        },
        "outputId": "ff6b63cd-ab55-46ce-d099-20968bf9c293"
      },
      "source": [
        "# анонимная функция тип function\n",
        "lambda x1, x2: x2 + x1"
      ],
      "execution_count": null,
      "outputs": [
        {
          "output_type": "execute_result",
          "data": {
            "text/plain": [
              "<function __main__.<lambda>>"
            ]
          },
          "metadata": {},
          "execution_count": 3
        }
      ]
    },
    {
      "cell_type": "code",
      "metadata": {
        "trusted": true,
        "id": "vKndOHWGnV0h",
        "colab": {
          "base_uri": "https://localhost:8080/"
        },
        "outputId": "fb8b442b-49c3-45b0-fbdb-f2e84fb42abb"
      },
      "source": [
        "# вторая анонимная функция\n",
        "lambda x1, x2: x2 * x1"
      ],
      "execution_count": null,
      "outputs": [
        {
          "output_type": "execute_result",
          "data": {
            "text/plain": [
              "<function __main__.<lambda>>"
            ]
          },
          "metadata": {},
          "execution_count": 4
        }
      ]
    },
    {
      "cell_type": "markdown",
      "metadata": {
        "id": "4jNtvwsUnV0i"
      },
      "source": [
        "---\n",
        "Анонимные функции могут содержать в себе только  \n",
        "одну инструкцию (выражение), которую они выполняют"
      ]
    },
    {
      "cell_type": "code",
      "metadata": {
        "colab": {
          "base_uri": "https://localhost:8080/"
        },
        "id": "Ef1x0NtQs8sv",
        "outputId": "0565f293-5ff3-4168-e5fa-3021c573337d"
      },
      "source": [
        "# Возвести первые 10 натуральных чисел в квадрат\n",
        "def pow_2(x):\n",
        "    return x ** 2\n",
        "    \n",
        "list(map(pow_2, range(1, 11)))"
      ],
      "execution_count": null,
      "outputs": [
        {
          "output_type": "execute_result",
          "data": {
            "text/plain": [
              "[1, 4, 9, 16, 25, 36, 49, 64, 81, 100]"
            ]
          },
          "metadata": {},
          "execution_count": 6
        }
      ]
    },
    {
      "cell_type": "code",
      "metadata": {
        "trusted": true,
        "id": "xNSJ_RDfnV0j",
        "colab": {
          "base_uri": "https://localhost:8080/"
        },
        "outputId": "90b3f3b2-2f7a-4a15-819a-9c6ae4ff6eea"
      },
      "source": [
        "# Возвести первые 10 натуральных чисел в квадрат\n",
        "list(map(lambda x: x ** 2, range(1, 11)))"
      ],
      "execution_count": null,
      "outputs": [
        {
          "output_type": "execute_result",
          "data": {
            "text/plain": [
              "[1, 4, 9, 16, 25, 36, 49, 64, 81, 100]"
            ]
          },
          "metadata": {},
          "execution_count": 5
        }
      ]
    },
    {
      "cell_type": "code",
      "metadata": {
        "trusted": true,
        "id": "tNxK1NGDnV0j",
        "colab": {
          "base_uri": "https://localhost:8080/"
        },
        "outputId": "a933cfd4-b6e4-464d-c648-a5123faef1d4"
      },
      "source": [
        "# Из заданного списка отфильтровать все положительные числа\n",
        "import random \n",
        "\n",
        "list_num = [random.randint(-9, 9) for _ in range(20)]\n",
        "\n",
        "print(list_num)\n",
        "print(list(filter(lambda x: x > 0, list_num)))"
      ],
      "execution_count": null,
      "outputs": [
        {
          "output_type": "stream",
          "name": "stdout",
          "text": [
            "[-1, 0, -3, -7, 1, 8, 8, -7, 6, -3, -6, -9, -5, 3, -9, 0, -2, 0, 1, -7]\n",
            "[1, 8, 8, 6, 3, 1]\n"
          ]
        }
      ]
    },
    {
      "cell_type": "code",
      "metadata": {
        "trusted": true,
        "id": "fvF7rLLTnV0k",
        "colab": {
          "base_uri": "https://localhost:8080/"
        },
        "outputId": "a4fdc74b-5dd0-4563-bac0-b0730f7138bd"
      },
      "source": [
        "# Из заданного списка все положительные числа возвести в квадрат, остальные приравнять к нулю\n",
        "print(list_num)\n",
        "print(list(map(lambda x: x ** 2 if x > 0 else 0, list_num)))  # инлайновый if можно использовать"
      ],
      "execution_count": null,
      "outputs": [
        {
          "output_type": "stream",
          "name": "stdout",
          "text": [
            "[8, 0, -8, 3, -7, -9, 5, 8, 7, -3, -2, 8, -5, -4, 2, -1, 0, -2, 3, 8]\n",
            "[64, 0, 0, 9, 0, 0, 25, 64, 49, 0, 0, 64, 0, 0, 4, 0, 0, 0, 9, 64]\n"
          ]
        }
      ]
    },
    {
      "cell_type": "markdown",
      "metadata": {
        "id": "WXtr131KnV0k"
      },
      "source": [
        "---\n",
        "Для чего могут быть полезны lambda функции?  \n",
        "Рассмотрим несколько примеров:  \n",
        "\n",
        "Предположим мы хотим отсортировать словарь по значениям.  \n",
        "По умолчанию, словать сортируется по ключам"
      ]
    },
    {
      "cell_type": "code",
      "metadata": {
        "trusted": true,
        "id": "YA2DU6xfnV0l",
        "colab": {
          "base_uri": "https://localhost:8080/"
        },
        "outputId": "6baf340b-9563-4f83-9a89-a81add791e31"
      },
      "source": [
        "d = {2: \"c\", 1: \"d\", 4: \"a\", 3: \"b\"}\n",
        "\n",
        "print(sorted(d))  # [1, 2, 3, 4]"
      ],
      "execution_count": null,
      "outputs": [
        {
          "output_type": "stream",
          "name": "stdout",
          "text": [
            "[1, 2, 3, 4]\n"
          ]
        }
      ]
    },
    {
      "cell_type": "code",
      "source": [
        "d.items()"
      ],
      "metadata": {
        "colab": {
          "base_uri": "https://localhost:8080/"
        },
        "id": "_e6NwGJhfc4a",
        "outputId": "b81a128c-6c0c-4af9-dfba-8aee559a20b1"
      },
      "execution_count": null,
      "outputs": [
        {
          "output_type": "execute_result",
          "data": {
            "text/plain": [
              "dict_items([(2, 'c'), (1, 'd'), (4, 'a'), (3, 'b')])"
            ]
          },
          "metadata": {},
          "execution_count": 3
        }
      ]
    },
    {
      "cell_type": "code",
      "metadata": {
        "trusted": true,
        "id": "oFMWUFOYnV0l",
        "colab": {
          "base_uri": "https://localhost:8080/"
        },
        "outputId": "3128ce30-9d8f-48ba-eaaf-756ed3796c42"
      },
      "source": [
        "# Чтобы отсортировать его по ключам нужно сделать так\n",
        "print(dict(sorted(d.items())))  #[(1, 'd'), (2, 'c'), (3, 'b'), (4, 'a')]"
      ],
      "execution_count": null,
      "outputs": [
        {
          "output_type": "stream",
          "name": "stdout",
          "text": [
            "{1: 'd', 2: 'c', 3: 'b', 4: 'a'}\n"
          ]
        }
      ]
    },
    {
      "cell_type": "markdown",
      "metadata": {
        "id": "ncSkTRQTnV0l"
      },
      "source": [
        "А вот чтобы отсортировать по значениям, нужно указать,  \n",
        "что сортировать нужно по второму значению из каждого пары ключ-значение.  \n",
        "\n",
        "Тут на помощь как раз приходят lambda функции.  \n",
        "У встроенной функции `sortred()` можно задать аргумент *key*,  \n",
        "который укажет, по какому ключу нужно производить сортировку "
      ]
    },
    {
      "cell_type": "code",
      "metadata": {
        "trusted": true,
        "id": "tPBTvcVxnV0m",
        "colab": {
          "base_uri": "https://localhost:8080/"
        },
        "outputId": "d05f024b-9059-4d01-c9d2-71f5866b2afd"
      },
      "source": [
        "sorted(d.items(), key=lambda x: x[1])  # сортировка по значению словаря"
      ],
      "execution_count": null,
      "outputs": [
        {
          "output_type": "execute_result",
          "data": {
            "text/plain": [
              "[(4, 'a'), (3, 'b'), (2, 'c'), (1, 'd')]"
            ]
          },
          "metadata": {},
          "execution_count": 13
        }
      ]
    },
    {
      "cell_type": "code",
      "metadata": {
        "colab": {
          "base_uri": "https://localhost:8080/"
        },
        "id": "FLggIl8EvEZN",
        "outputId": "ec44fa71-fe77-49e7-8121-5d699c0ac819"
      },
      "source": [
        "(sorted(d.items(), key=lambda x: x[1]))  # сортировка по значению словаря"
      ],
      "execution_count": null,
      "outputs": [
        {
          "output_type": "execute_result",
          "data": {
            "text/plain": [
              "[(4, 'a'), (3, 'b'), (2, 'c'), (1, 'd')]"
            ]
          },
          "metadata": {},
          "execution_count": 5
        }
      ]
    },
    {
      "cell_type": "code",
      "source": [
        "[(2, 'c'), (1, 'd'), (4, 'a'), (3, 'b')]\n",
        "[(\"c\", 0), (\"d\", 1), (\"a\", 2), (\"b\", 3)]  # key result\n",
        "[(\"a\", 2), (\"b\", 3), (\"c\", 0), (\"d\", 1)]  # вспомогат\n",
        "[(4, 'a'), (3, 'b'), (2, 'c'), (1, 'd')]"
      ],
      "metadata": {
        "colab": {
          "base_uri": "https://localhost:8080/"
        },
        "id": "cHnrF1byfiEs",
        "outputId": "0c8ced19-2194-4833-b126-7b305624032d"
      },
      "execution_count": null,
      "outputs": [
        {
          "output_type": "execute_result",
          "data": {
            "text/plain": [
              "[(2, 'c'), (1, 'd'), (4, 'a'), (3, 'b')]"
            ]
          },
          "metadata": {},
          "execution_count": 4
        }
      ]
    },
    {
      "cell_type": "code",
      "metadata": {
        "trusted": true,
        "id": "nZGnJoYznV0m",
        "colab": {
          "base_uri": "https://localhost:8080/"
        },
        "outputId": "cf31f8f3-3b2a-4fb9-edf4-1cf2c35a82f3"
      },
      "source": [
        "# ещё один альтернативный способ с помощью модуля operator, содержащего многие действия в виде функций\n",
        "from operator import itemgetter\n",
        "\n",
        "sorted(d.items(), key=itemgetter(1))"
      ],
      "execution_count": null,
      "outputs": [
        {
          "output_type": "execute_result",
          "data": {
            "text/plain": [
              "[(4, 'a'), (3, 'b'), (2, 'c'), (1, 'd')]"
            ]
          },
          "metadata": {},
          "execution_count": 14
        }
      ]
    },
    {
      "cell_type": "markdown",
      "metadata": {
        "id": "43NhnU-KnV0m"
      },
      "source": [
        "Предположим у нас есть список с данными о росте и весе людей.  \n",
        "Задача отсортировать их по [индексу](https://www.adme.ru/svoboda-sdelaj-sam/professionalnye-tablicy-sootnosheniya-vesa-i-rosta-996960/) массы тела.  \n",
        "Он вычисляется по формуле:  \n",
        "\n",
        "$$\\frac{Вес\\ тела\\ в\\ киллограммах}{Рост\\ в\\ метрах * Рост\\ в\\ метрах}$$"
      ]
    },
    {
      "cell_type": "code",
      "metadata": {
        "trusted": true,
        "id": "q20PlqsonV0n"
      },
      "source": [
        "data = [\n",
        "    (82, 191),\n",
        "    (68, 174),\n",
        "    (90, 189), \n",
        "    (73, 179), \n",
        "    (76, 184)\n",
        "]\n",
        "\n",
        "sorted(data, key=lambda x: x[0] / x[1] ** 2)"
      ],
      "execution_count": null,
      "outputs": []
    },
    {
      "cell_type": "code",
      "metadata": {
        "trusted": true,
        "id": "Z7G89cHInV0n"
      },
      "source": [
        "# Точно такой же ключ можно указывать к функциях max/min\n",
        "\n",
        "print(min(data))  # отбор по первому элементу\n",
        "print(min(data, key=lambda x: x[0] / x[1] ** 2))  # отбор по ключу"
      ],
      "execution_count": null,
      "outputs": []
    },
    {
      "cell_type": "markdown",
      "metadata": {
        "id": "Mk6D-FjOnV0n"
      },
      "source": [
        "### Подведем итоги:\n",
        "- lambda функции используются один раз\n",
        "- не загромождают код программы\n",
        "- после выполения сразу удаляются\n",
        "- могут выполнять только одно действие"
      ]
    },
    {
      "cell_type": "code",
      "source": [],
      "metadata": {
        "id": "QLG-35sFhyT3"
      },
      "execution_count": null,
      "outputs": []
    },
    {
      "cell_type": "markdown",
      "metadata": {
        "id": "d0EgzGVAzwzD"
      },
      "source": [
        "## ALL и ANY\n",
        "Итак продолжим разбор функционального программирования и разберем ещё  \n",
        "две полезные функции, которые позволят упростить ваш код это функции  \n",
        "`all()` и `any()`. \n",
        "\n",
        "Данные функции схожи с функциями `map` и `filter` и к каждому элементу  \n",
        "последовательности применяют проверку какого-либо условия,  \n",
        "и возвращяют результат в виде одного значения `True` или `False`."
      ]
    },
    {
      "cell_type": "markdown",
      "metadata": {
        "id": "u_DeMuRQnVz8"
      },
      "source": [
        "---\n",
        "### all\n",
        "Функция `all()` возвращает `True`, если все элементы истинные (или объект пустой). В качестве аргумента функция принимает любой итерируемый объект.\n",
        "```python\n",
        "\n",
        "def all(sequence):\n",
        "    for elem in sequence:\n",
        "        if not elem:\n",
        "            return False\n",
        "    return True\n",
        "```"
      ]
    },
    {
      "cell_type": "markdown",
      "metadata": {
        "id": "-wNrNNy2nV0A"
      },
      "source": [
        "Каждый элемент приводится к типу `bool`, и результат выполения можно сравнить с перемножением всех элементов. И если среди них попался хоть один `False`, ноль другими словами, то весь результат обнуляется."
      ]
    },
    {
      "cell_type": "code",
      "metadata": {
        "trusted": true,
        "id": "czz5F8ecnV0A",
        "outputId": "d1db9609-8e79-44ad-dc95-07c3b8edf921"
      },
      "source": [
        "print(all([1, 2, 3]))  # [True, True, True]\n",
        "print(all([0, 2, 3]))  # [False, True, True]"
      ],
      "execution_count": null,
      "outputs": [
        {
          "output_type": "stream",
          "text": "True\nFalse\n",
          "name": "stdout"
        }
      ]
    },
    {
      "cell_type": "markdown",
      "metadata": {
        "id": "-jLqtXHXnV0F"
      },
      "source": [
        "Особый случай, который следует запомнить - `all()` от любого пустого объекта `True`"
      ]
    },
    {
      "cell_type": "code",
      "metadata": {
        "trusted": true,
        "id": "JlUuI8mUnV0G",
        "outputId": "2b4f1199-0f38-4586-95a4-b7861dd0b4bc"
      },
      "source": [
        "print(all(''))\n",
        "print(all([]))\n",
        "print(all({}))"
      ],
      "execution_count": null,
      "outputs": [
        {
          "output_type": "stream",
          "text": "True\nTrue\nTrue\n",
          "name": "stdout"
        }
      ]
    },
    {
      "cell_type": "markdown",
      "metadata": {
        "id": "RzJXaNphnV0H"
      },
      "source": [
        "---\n",
        "### any\n",
        "Функция `any()` возвращает `False`, когда все объекты последовательности ложные (или объект пустой)\n",
        "```python\n",
        "\n",
        "def any(sequence):\n",
        "    for elem in sequence:\n",
        "        if elem:\n",
        "            return True\n",
        "    return False\n",
        "```"
      ]
    },
    {
      "cell_type": "markdown",
      "metadata": {
        "id": "U_euVG16nV0I"
      },
      "source": [
        "Аналогию данной функции можно провести со сложением. И если все элементы `False` - равны нулю, то весь результат тоже ноль. В противном случае `True`"
      ]
    },
    {
      "cell_type": "code",
      "metadata": {
        "id": "NoUQ_TCdxMOK"
      },
      "source": [
        "all(a==0, b == 0, c ==0)  # a == 0 and b == 0 c == 0"
      ],
      "execution_count": null,
      "outputs": []
    },
    {
      "cell_type": "code",
      "metadata": {
        "trusted": true,
        "id": "_-cBPPS7nV0K",
        "outputId": "a696546c-760c-4556-f146-60ae5a50c98e"
      },
      "source": [
        "print(any([0, \"\", {}, set(), []]))\n",
        "print(any([0, \"\", {}, set(), [123]]))"
      ],
      "execution_count": null,
      "outputs": [
        {
          "output_type": "stream",
          "text": "False\nTrue\n",
          "name": "stdout"
        }
      ]
    },
    {
      "cell_type": "markdown",
      "metadata": {
        "id": "uIasibewnV0L"
      },
      "source": [
        "Особый случай, который следует запомнить - `any()` от любого пустого объекта `False`"
      ]
    },
    {
      "cell_type": "code",
      "metadata": {
        "trusted": true,
        "id": "myq1aa27nV0M",
        "outputId": "1d2f4f30-d7cf-4d2f-a563-413539f03d04"
      },
      "source": [
        "print(any(''))\n",
        "print(any([]))\n",
        "print(any({}))"
      ],
      "execution_count": null,
      "outputs": [
        {
          "output_type": "stream",
          "text": "False\nFalse\nFalse\n",
          "name": "stdout"
        }
      ]
    },
    {
      "cell_type": "markdown",
      "metadata": {
        "id": "216QW_sinV0Q"
      },
      "source": [
        "---\n",
        "Рассмотрим пару примеров"
      ]
    },
    {
      "cell_type": "code",
      "metadata": {
        "trusted": true,
        "id": "Z8zGWUWgnV0R",
        "outputId": "346c775d-2ea9-44fd-9716-0d47c600c8a5"
      },
      "source": [
        "# 1. Проверка ip адреса\n",
        "ip_address = '192.168.1.1'\n",
        "all(num.isdigit() for num in ip_address.split('.'))  # True"
      ],
      "execution_count": null,
      "outputs": [
        {
          "output_type": "execute_result",
          "execution_count": 6,
          "data": {
            "text/plain": "True"
          },
          "metadata": {}
        }
      ]
    },
    {
      "cell_type": "code",
      "metadata": {
        "trusted": true,
        "id": "AZ7fuMXUnV0S",
        "outputId": "0390ddec-f690-41b5-d203-9616a7ac146e"
      },
      "source": [
        "# некорректный ip\n",
        "ip_address = '192.168.1.er'\n",
        "all(num.isdigit() for num in ip_address.split('.'))  # False"
      ],
      "execution_count": null,
      "outputs": [
        {
          "output_type": "execute_result",
          "execution_count": 7,
          "data": {
            "text/plain": "False"
          },
          "metadata": {}
        }
      ]
    },
    {
      "cell_type": "code",
      "metadata": {
        "trusted": true,
        "id": "5GK-NoArnV0T",
        "outputId": "d69b42d7-b552-4c51-ad74-46e07f424d7b"
      },
      "source": [
        "# 2. Содержатся ли запрещеные слова \n",
        "ignore_word = ['bad_word', 'trash', 'tmp']\n",
        "word_list = ['test', 'my_first_programm', 'funny_video']\n",
        "\n",
        "any(word in ignore_word for word in word_list)  # False"
      ],
      "execution_count": null,
      "outputs": [
        {
          "output_type": "execute_result",
          "execution_count": 8,
          "data": {
            "text/plain": "False"
          },
          "metadata": {}
        }
      ]
    },
    {
      "cell_type": "code",
      "metadata": {
        "trusted": true,
        "id": "vQNbDQFSnV0U",
        "outputId": "8f9d7cb5-7aa2-4242-db89-5186fa4d0220"
      },
      "source": [
        "# добавим запрещеное слово\n",
        "word_list = ['test', 'my_first_programm', 'funny_video', 'bad_word']\n",
        "\n",
        "any(word in ignore_word for word in word_list)  # True"
      ],
      "execution_count": null,
      "outputs": [
        {
          "output_type": "execute_result",
          "execution_count": 9,
          "data": {
            "text/plain": "True"
          },
          "metadata": {}
        }
      ]
    },
    {
      "cell_type": "markdown",
      "metadata": {
        "id": "ocqOoD1InV0V"
      },
      "source": [
        "---\n",
        "Вспомним как работать с map"
      ]
    },
    {
      "cell_type": "code",
      "metadata": {
        "trusted": true,
        "id": "EorgqhyDnV0W"
      },
      "source": [
        "import random\n",
        "\n",
        "# данный список будем использовать несколько раз, поэтому используем list comprehension\n",
        "list_num = [random.randint(-99, 100) for _ in range(100)]"
      ],
      "execution_count": null,
      "outputs": []
    },
    {
      "cell_type": "code",
      "metadata": {
        "trusted": true,
        "id": "J1x1J3OUnV0W",
        "outputId": "68ffd94a-4a19-4e73-c723-930005074398"
      },
      "source": [
        "# 4. Проверить, что все числа по модулю не превышают 100\n",
        "all(n < 100 for n in map(abs, list_num))  # True"
      ],
      "execution_count": null,
      "outputs": [
        {
          "output_type": "execute_result",
          "execution_count": 11,
          "data": {
            "text/plain": "True"
          },
          "metadata": {}
        }
      ]
    },
    {
      "cell_type": "code",
      "metadata": {
        "trusted": true,
        "id": "ea9QMENgnV0X",
        "outputId": "58472282-7e7d-4e40-ca38-caa21cc3913f"
      },
      "source": [
        "# 5. Есть ли cреди чисел отрицательные\n",
        "any(num < 0 for num in list_num)  # True"
      ],
      "execution_count": null,
      "outputs": [
        {
          "output_type": "execute_result",
          "execution_count": 12,
          "data": {
            "text/plain": "True"
          },
          "metadata": {}
        }
      ]
    },
    {
      "cell_type": "code",
      "metadata": {
        "trusted": true,
        "id": "v8NLKjvKnV0Y",
        "outputId": "38950aae-6e19-4dce-b1a1-922f02af02d6"
      },
      "source": [
        "# 6. Проверить, что все числа являются целыми\n",
        "def check_num(num):\n",
        "    return isinstance(num, int)\n",
        "\n",
        "all(map(check_num, list_num))  # True"
      ],
      "execution_count": null,
      "outputs": [
        {
          "output_type": "execute_result",
          "execution_count": 13,
          "data": {
            "text/plain": "True"
          },
          "metadata": {}
        }
      ]
    },
    {
      "cell_type": "code",
      "source": [
        "all([lambda num: isinstance(num, int) for num in list_num])"
      ],
      "metadata": {
        "id": "bnx08kbghvFd"
      },
      "execution_count": null,
      "outputs": []
    }
  ]
}