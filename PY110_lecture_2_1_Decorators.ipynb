{
  "nbformat": 4,
  "nbformat_minor": 0,
  "metadata": {
    "kernelspec": {
      "name": "python3",
      "display_name": "Python 3"
    },
    "language_info": {
      "name": "python"
    },
    "colab": {
      "provenance": [],
      "include_colab_link": true
    }
  },
  "cells": [
    {
      "cell_type": "markdown",
      "metadata": {
        "id": "view-in-github",
        "colab_type": "text"
      },
      "source": [
        "<a href=\"https://colab.research.google.com/github/YuriyKozhubaev/PY100/blob/main/PY110_lecture_2_1_Decorators.ipynb\" target=\"_parent\"><img src=\"https://colab.research.google.com/assets/colab-badge.svg\" alt=\"Open In Colab\"/></a>"
      ]
    },
    {
      "cell_type": "markdown",
      "metadata": {
        "id": "E2fMCo2MfTzv"
      },
      "source": [
        "# Декораторы"
      ]
    },
    {
      "cell_type": "markdown",
      "metadata": {
        "id": "bv6sdFsrfTz0"
      },
      "source": [
        "## Замыкание функций\n",
        "Разберем, что такое функции высших порядков.\n",
        "\n",
        "**Функция высшего порядка** — в программировании функция, принимающая в  \n",
        "качестве аргументов другие функции или возвращающая другую функцию  \n",
        "в качестве результата.  \n",
        "Основная идея состоит в том, что функции имеют тот же статус,  \n",
        "что и другие объекты данных.  \n",
        "\n",
        "Мы можем передавать функции как параметры...\n",
        "```python\n",
        "def my_func(inside_func):\n",
        "    ...\n",
        "    inside_func()  # Вызов функции принятой в качестве аргумента\n",
        "    ...\n",
        "```\n",
        "\n",
        "... можем возвращать как результат ...\n",
        "```python\n",
        "def a():\n",
        "    def b(): \n",
        "        pass\n",
        "    return b\n",
        "```\n",
        "... и присваивать их другим переменным\n",
        "```python\n",
        "def a(): \n",
        "    pass\n",
        "\n",
        "b = a\n",
        "b()\n",
        "```\n",
        "\n",
        "Сделаем функцию, которая будет выполнять принимаемую функцию дважды"
      ]
    },
    {
      "cell_type": "code",
      "metadata": {
        "trusted": true,
        "id": "dupEdhvKfTz2",
        "colab": {
          "base_uri": "https://localhost:8080/"
        },
        "outputId": "31b391fc-848d-4572-ad7a-334f4e2fec0d"
      },
      "source": [
        "def twice_func(inside_func):\n",
        "    inside_func()\n",
        "    inside_func()\n",
        "\n",
        "def hello():\n",
        "    print(\"Hello\")\n",
        "    \n",
        "test = twice_func(hello)"
      ],
      "execution_count": null,
      "outputs": [
        {
          "output_type": "stream",
          "name": "stdout",
          "text": [
            "Hello\n",
            "Hello\n"
          ]
        }
      ]
    },
    {
      "cell_type": "code",
      "metadata": {
        "id": "vlL0yYIuJ3p8",
        "colab": {
          "base_uri": "https://localhost:8080/",
          "height": 166
        },
        "outputId": "6ded4b29-1ef4-41ac-fd97-73240c094c86"
      },
      "source": [
        "test()"
      ],
      "execution_count": null,
      "outputs": [
        {
          "output_type": "error",
          "ename": "TypeError",
          "evalue": "ignored",
          "traceback": [
            "\u001b[0;31m---------------------------------------------------------------------------\u001b[0m",
            "\u001b[0;31mTypeError\u001b[0m                                 Traceback (most recent call last)",
            "\u001b[0;32m<ipython-input-3-fbd55f77ab7c>\u001b[0m in \u001b[0;36m<module>\u001b[0;34m()\u001b[0m\n\u001b[0;32m----> 1\u001b[0;31m \u001b[0mtest\u001b[0m\u001b[0;34m(\u001b[0m\u001b[0;34m)\u001b[0m\u001b[0;34m\u001b[0m\u001b[0;34m\u001b[0m\u001b[0m\n\u001b[0m",
            "\u001b[0;31mTypeError\u001b[0m: 'NoneType' object is not callable"
          ]
        }
      ]
    },
    {
      "cell_type": "markdown",
      "metadata": {
        "id": "aBXZsiFTfTz6"
      },
      "source": [
        "Видим что на момент инициализации `twice_func`  \n",
        "сразу происходит выполнение функци `hello`.  \n",
        "\n",
        "Давайте подумаем как можно решить этот вопрос, чтобы мы могли присвоить  \n",
        "результат переменной `test` и после вызывать нашу функцию,  \n",
        "которую мы передаем в качестве аргумента?"
      ]
    },
    {
      "cell_type": "markdown",
      "metadata": {
        "trusted": true,
        "id": "Nqu8WWslfTz7"
      },
      "source": [
        "Теперь перейдем к замыканию функций. Разберем что это такое.  \n",
        "\n",
        "**Замыкание** в программировании — функция, в теле которой присутствуют  \n",
        "ссылки на переменные, объявленные вне тела этой функции в окружающем коде  \n",
        "и не являющиеся её параметрами.  \n",
        "Не путайте это с глобальными переменными, с котороми может работать функция."
      ]
    },
    {
      "cell_type": "code",
      "metadata": {
        "id": "XF8NNnKLlU34"
      },
      "source": [
        "CONST_PI = 3.14\n",
        "\n",
        "def square(r: float) -> float:\n",
        "    return CONST_PI * r ** 2  # это не замыкание функции"
      ],
      "execution_count": null,
      "outputs": []
    },
    {
      "cell_type": "code",
      "source": [],
      "metadata": {
        "id": "zglWiKeuWcxH"
      },
      "execution_count": null,
      "outputs": []
    },
    {
      "cell_type": "code",
      "metadata": {
        "colab": {
          "base_uri": "https://localhost:8080/"
        },
        "id": "wSbOy1QvlnaT",
        "outputId": "e9f9bcf2-728b-4a19-e69a-4710eb33b457"
      },
      "source": [
        "def hello():\n",
        "    welcome_phrase = \"Hello\"  # nonlocal переменная\n",
        "    def welcome_print(name: str):\n",
        "        local_var = \"локальная переменная\"\n",
        "        print(f\"{welcome_phrase}, {name}\")\n",
        "    return welcome_print\n",
        "\n",
        "inside_func = hello()\n",
        "print(inside_func)"
      ],
      "execution_count": null,
      "outputs": [
        {
          "output_type": "stream",
          "name": "stdout",
          "text": [
            "<function hello.<locals>.welcome_print at 0x7fc8e4b36d40>\n"
          ]
        }
      ]
    },
    {
      "cell_type": "code",
      "source": [
        "inside_func_second = hello()\n",
        "print(inside_func_second)"
      ],
      "metadata": {
        "colab": {
          "base_uri": "https://localhost:8080/"
        },
        "id": "vn_DTJGqVIPR",
        "outputId": "d1de7220-7313-4a52-a5cf-2be7dbd6268d"
      },
      "execution_count": null,
      "outputs": [
        {
          "output_type": "stream",
          "name": "stdout",
          "text": [
            "<function hello.<locals>.welcome_print at 0x7fc8e3a5dcb0>\n"
          ]
        }
      ]
    },
    {
      "cell_type": "code",
      "source": [
        "inside_func(name=\"World\")"
      ],
      "metadata": {
        "colab": {
          "base_uri": "https://localhost:8080/"
        },
        "id": "ZND5NRKpVDvP",
        "outputId": "ee07e186-b34b-4825-807e-8126d5051ffc"
      },
      "execution_count": null,
      "outputs": [
        {
          "output_type": "stream",
          "name": "stdout",
          "text": [
            "Hello, World\n"
          ]
        }
      ]
    },
    {
      "cell_type": "code",
      "metadata": {
        "colab": {
          "base_uri": "https://localhost:8080/"
        },
        "id": "6CxWmAIvNiKv",
        "outputId": "5e6b6556-68df-44d4-e598-45a4ea3168d4"
      },
      "source": [
        "inside_func(name=\"Test\")"
      ],
      "execution_count": null,
      "outputs": [
        {
          "output_type": "stream",
          "name": "stdout",
          "text": [
            "Hello, Test\n"
          ]
        }
      ]
    },
    {
      "cell_type": "markdown",
      "source": [
        "Таких уровней вложенности может быть сколько угодно"
      ],
      "metadata": {
        "id": "nBz9ENlRwbNS"
      }
    },
    {
      "cell_type": "code",
      "metadata": {
        "id": "qxx9DMK5La2V"
      },
      "source": [
        "def hello():\n",
        "    welcome_phrase = \"Hello\"  # nonlocal переменная\n",
        "    def welcome_print(name: str):\n",
        "        print(f\"{welcome_phrase}, {name}\")\n",
        "        def tmp():\n",
        "            welcome_phrase + name\n",
        "    return welcome_print"
      ],
      "execution_count": null,
      "outputs": []
    },
    {
      "cell_type": "code",
      "metadata": {
        "id": "ZdZ5oSiGPN68",
        "colab": {
          "base_uri": "https://localhost:8080/",
          "height": 330
        },
        "outputId": "41cb5043-3fcb-46a6-8853-ae1824a63f04"
      },
      "source": [
        "count = 0  # глобальная\n",
        "def wrapper():\n",
        "    count = count + 1\n",
        "    print(count)\n",
        "\n",
        "wrapper()"
      ],
      "execution_count": null,
      "outputs": [
        {
          "output_type": "error",
          "ename": "UnboundLocalError",
          "evalue": "ignored",
          "traceback": [
            "\u001b[0;31m---------------------------------------------------------------------------\u001b[0m",
            "\u001b[0;31mUnboundLocalError\u001b[0m                         Traceback (most recent call last)",
            "\u001b[0;32m<ipython-input-8-ea14466f4a07>\u001b[0m in \u001b[0;36m<module>\u001b[0;34m\u001b[0m\n\u001b[1;32m      4\u001b[0m     \u001b[0mprint\u001b[0m\u001b[0;34m(\u001b[0m\u001b[0mcount\u001b[0m\u001b[0;34m)\u001b[0m\u001b[0;34m\u001b[0m\u001b[0;34m\u001b[0m\u001b[0m\n\u001b[1;32m      5\u001b[0m \u001b[0;34m\u001b[0m\u001b[0m\n\u001b[0;32m----> 6\u001b[0;31m \u001b[0mwrapper\u001b[0m\u001b[0;34m(\u001b[0m\u001b[0;34m)\u001b[0m\u001b[0;34m\u001b[0m\u001b[0;34m\u001b[0m\u001b[0m\n\u001b[0m",
            "\u001b[0;32m<ipython-input-8-ea14466f4a07>\u001b[0m in \u001b[0;36mwrapper\u001b[0;34m()\u001b[0m\n\u001b[1;32m      1\u001b[0m \u001b[0mcount\u001b[0m \u001b[0;34m=\u001b[0m \u001b[0;36m0\u001b[0m  \u001b[0;31m# глобальная\u001b[0m\u001b[0;34m\u001b[0m\u001b[0;34m\u001b[0m\u001b[0m\n\u001b[1;32m      2\u001b[0m \u001b[0;32mdef\u001b[0m \u001b[0mwrapper\u001b[0m\u001b[0;34m(\u001b[0m\u001b[0;34m)\u001b[0m\u001b[0;34m:\u001b[0m\u001b[0;34m\u001b[0m\u001b[0;34m\u001b[0m\u001b[0m\n\u001b[0;32m----> 3\u001b[0;31m     \u001b[0mcount\u001b[0m \u001b[0;34m=\u001b[0m \u001b[0mcount\u001b[0m \u001b[0;34m+\u001b[0m \u001b[0;36m1\u001b[0m\u001b[0;34m\u001b[0m\u001b[0;34m\u001b[0m\u001b[0m\n\u001b[0m\u001b[1;32m      4\u001b[0m     \u001b[0mprint\u001b[0m\u001b[0;34m(\u001b[0m\u001b[0mcount\u001b[0m\u001b[0;34m)\u001b[0m\u001b[0;34m\u001b[0m\u001b[0;34m\u001b[0m\u001b[0m\n\u001b[1;32m      5\u001b[0m \u001b[0;34m\u001b[0m\u001b[0m\n",
            "\u001b[0;31mUnboundLocalError\u001b[0m: local variable 'count' referenced before assignment"
          ]
        }
      ]
    },
    {
      "cell_type": "code",
      "source": [
        "count = 50  # глобальная\n",
        "def wrapper():\n",
        "    count =+ 10\n",
        "    print(count)\n",
        "\n",
        "wrapper()"
      ],
      "metadata": {
        "colab": {
          "base_uri": "https://localhost:8080/"
        },
        "id": "Y28Wkt8eXyua",
        "outputId": "ff873189-2b42-4e07-f2c3-10a94deaa461"
      },
      "execution_count": null,
      "outputs": [
        {
          "output_type": "stream",
          "name": "stdout",
          "text": [
            "10\n"
          ]
        }
      ]
    },
    {
      "cell_type": "code",
      "metadata": {
        "colab": {
          "base_uri": "https://localhost:8080/"
        },
        "id": "FwrUWZ0Tm7wf",
        "outputId": "4509c25c-f623-48ab-c8a5-d854e7a3cc06"
      },
      "source": [
        "def counter():\n",
        "    count = 0  # nonlocal переменная wrapper,  counter - локальная\n",
        "    def wrapper():\n",
        "        count = count + 1\n",
        "        print(count)\n",
        "    return wrapper\n",
        "\n",
        "inside_func = counter()\n",
        "print(inside_func)"
      ],
      "execution_count": null,
      "outputs": [
        {
          "output_type": "stream",
          "name": "stdout",
          "text": [
            "<function counter.<locals>.wrapper at 0x7fc8dff69b90>\n"
          ]
        }
      ]
    },
    {
      "cell_type": "code",
      "metadata": {
        "colab": {
          "base_uri": "https://localhost:8080/",
          "height": 312
        },
        "id": "Nie5kHFJnYsd",
        "outputId": "60c2f272-5f4a-4c0c-c71d-0d487e83c70c"
      },
      "source": [
        "inside_func()  # UnboundLocalError: local variable 'count' referenced before assignment"
      ],
      "execution_count": null,
      "outputs": [
        {
          "output_type": "error",
          "ename": "UnboundLocalError",
          "evalue": "ignored",
          "traceback": [
            "\u001b[0;31m---------------------------------------------------------------------------\u001b[0m",
            "\u001b[0;31mUnboundLocalError\u001b[0m                         Traceback (most recent call last)",
            "\u001b[0;32m<ipython-input-10-e93a94563278>\u001b[0m in \u001b[0;36m<module>\u001b[0;34m\u001b[0m\n\u001b[0;32m----> 1\u001b[0;31m \u001b[0minside_func\u001b[0m\u001b[0;34m(\u001b[0m\u001b[0;34m)\u001b[0m  \u001b[0;31m# UnboundLocalError: local variable 'count' referenced before assignment\u001b[0m\u001b[0;34m\u001b[0m\u001b[0;34m\u001b[0m\u001b[0m\n\u001b[0m",
            "\u001b[0;32m<ipython-input-9-f3536d641105>\u001b[0m in \u001b[0;36mwrapper\u001b[0;34m()\u001b[0m\n\u001b[1;32m      2\u001b[0m     \u001b[0mcount\u001b[0m \u001b[0;34m=\u001b[0m \u001b[0;36m0\u001b[0m  \u001b[0;31m# nonlocal переменная wrapper,  counter - локальная\u001b[0m\u001b[0;34m\u001b[0m\u001b[0;34m\u001b[0m\u001b[0m\n\u001b[1;32m      3\u001b[0m     \u001b[0;32mdef\u001b[0m \u001b[0mwrapper\u001b[0m\u001b[0;34m(\u001b[0m\u001b[0;34m)\u001b[0m\u001b[0;34m:\u001b[0m\u001b[0;34m\u001b[0m\u001b[0;34m\u001b[0m\u001b[0m\n\u001b[0;32m----> 4\u001b[0;31m         \u001b[0mcount\u001b[0m \u001b[0;34m=\u001b[0m \u001b[0mcount\u001b[0m \u001b[0;34m+\u001b[0m \u001b[0;36m1\u001b[0m\u001b[0;34m\u001b[0m\u001b[0;34m\u001b[0m\u001b[0m\n\u001b[0m\u001b[1;32m      5\u001b[0m         \u001b[0mprint\u001b[0m\u001b[0;34m(\u001b[0m\u001b[0mcount\u001b[0m\u001b[0;34m)\u001b[0m\u001b[0;34m\u001b[0m\u001b[0;34m\u001b[0m\u001b[0m\n\u001b[1;32m      6\u001b[0m     \u001b[0;32mreturn\u001b[0m \u001b[0mwrapper\u001b[0m\u001b[0;34m\u001b[0m\u001b[0;34m\u001b[0m\u001b[0m\n",
            "\u001b[0;31mUnboundLocalError\u001b[0m: local variable 'count' referenced before assignment"
          ]
        }
      ]
    },
    {
      "cell_type": "markdown",
      "metadata": {
        "id": "M8R4QkmnnihV"
      },
      "source": [
        "Решается этот момент использование ключевого слова `nonlocal`.  \n",
        "Такой механизм использования поддерживается и используется  \n",
        "в практических задачах, в отличии от ключевого слова `global`."
      ]
    },
    {
      "cell_type": "code",
      "metadata": {
        "colab": {
          "base_uri": "https://localhost:8080/"
        },
        "id": "J513eCSGniBx",
        "outputId": "12e55c46-ef44-4857-d331-7173bfbb615a"
      },
      "source": [
        "def counter():\n",
        "    count = 0  # nonlocal переменная\n",
        "    def wrapper():\n",
        "        ...\n",
        "        nonlocal count\n",
        "        count += 1\n",
        "        print(count)\n",
        "    return wrapper\n",
        "\n",
        "inside_func = counter()\n",
        "print(inside_func)"
      ],
      "execution_count": null,
      "outputs": [
        {
          "output_type": "stream",
          "name": "stdout",
          "text": [
            "<function counter.<locals>.wrapper at 0x7fc8dff698c0>\n"
          ]
        }
      ]
    },
    {
      "cell_type": "code",
      "metadata": {
        "colab": {
          "base_uri": "https://localhost:8080/"
        },
        "id": "GrIwA8YfoBVU",
        "outputId": "007b5422-bf77-4979-eac6-86189f68c525"
      },
      "source": [
        "inside_func()\n",
        "inside_func()"
      ],
      "execution_count": null,
      "outputs": [
        {
          "output_type": "stream",
          "name": "stdout",
          "text": [
            "1\n",
            "2\n"
          ]
        }
      ]
    },
    {
      "cell_type": "code",
      "metadata": {
        "colab": {
          "base_uri": "https://localhost:8080/"
        },
        "id": "IvaPlMlpoIDR",
        "outputId": "e9f656d6-16e3-4f0d-c72f-0512ed7ffdd1"
      },
      "source": [
        "# новая функция со своим счетчиком\n",
        "new_inside = counter()\n",
        "new_inside()"
      ],
      "execution_count": null,
      "outputs": [
        {
          "output_type": "stream",
          "name": "stdout",
          "text": [
            "1\n"
          ]
        }
      ]
    },
    {
      "cell_type": "code",
      "metadata": {
        "colab": {
          "base_uri": "https://localhost:8080/"
        },
        "id": "lGt7fEmKoU6c",
        "outputId": "736b8529-8e2d-4304-9f2f-f5cbabe2d603"
      },
      "source": [
        "inside_func()"
      ],
      "execution_count": null,
      "outputs": [
        {
          "output_type": "stream",
          "name": "stdout",
          "text": [
            "3\n"
          ]
        }
      ]
    },
    {
      "cell_type": "markdown",
      "metadata": {
        "id": "iykAx5yRodyT"
      },
      "source": [
        "Возникает справедливый вопрос, а зачем всё это???  \n",
        "\n",
        "Рассмотрим такую задачу, я хочу написать функцию,  \n",
        "которая будет всегда возвращать аргумент по одну и тому же индексу.\n",
        "\n",
        "```python\n",
        "def get_item(sequence):\n",
        "    index = 1\n",
        "    return sequence[index]\n",
        "```\n",
        "\n",
        "```python\n",
        "def add(sequence, index=1):\n",
        "    return sequence[index]\n",
        "\n",
        "add([1, 2, 3])  # 2\n",
        "add([1, 2, 3], 2)  # 3\n",
        "```"
      ]
    },
    {
      "cell_type": "code",
      "metadata": {
        "trusted": true,
        "id": "rAPHIsqFfTz8",
        "colab": {
          "base_uri": "https://localhost:8080/"
        },
        "outputId": "8f53830a-51a6-4067-ac95-0e48bb9bbb53"
      },
      "source": [
        "# Реализация с помощью именованных функций:\n",
        "def itemgetter(index):\n",
        "    def _itemgetter(sequence):\n",
        "        # захват переменной \"index\" из nonlocal области видимости\n",
        "        return sequence[index]\n",
        "    return _itemgetter\n",
        "\n",
        "# функция, которая будет всегда возвращать второй элемент \n",
        "itemgetter_1 = itemgetter(1)\n",
        "print(itemgetter_1)"
      ],
      "execution_count": null,
      "outputs": [
        {
          "output_type": "stream",
          "name": "stdout",
          "text": [
            "<function itemgetter.<locals>._itemgetter at 0x7fc8dff69dd0>\n"
          ]
        }
      ]
    },
    {
      "cell_type": "code",
      "metadata": {
        "trusted": true,
        "id": "_KQQd5jlfTz-",
        "colab": {
          "base_uri": "https://localhost:8080/"
        },
        "outputId": "810e9b74-fb98-433d-c698-431c9c789144"
      },
      "source": [
        "print(itemgetter_1([1, 2, 3]))\n",
        "print(itemgetter_1([5, 7, 9]))"
      ],
      "execution_count": null,
      "outputs": [
        {
          "output_type": "stream",
          "name": "stdout",
          "text": [
            "2\n",
            "7\n"
          ]
        }
      ]
    },
    {
      "cell_type": "code",
      "metadata": {
        "colab": {
          "base_uri": "https://localhost:8080/"
        },
        "id": "dtnv6xosuDS4",
        "outputId": "735ac84b-68c6-46d1-c77c-59fafb81fe4c"
      },
      "source": [
        "# функция, которая будет всегда возвращать первый элемент \n",
        "itemgetter_0 = itemgetter(0)\n",
        "\n",
        "print(itemgetter_0(\"abc\"))\n",
        "print(itemgetter_0(\"zxy\"))  "
      ],
      "execution_count": null,
      "outputs": [
        {
          "output_type": "stream",
          "name": "stdout",
          "text": [
            "a\n",
            "z\n"
          ]
        }
      ]
    },
    {
      "cell_type": "code",
      "source": [
        "dict([('apple', 3), ('banana', 2), ('pear', 5), ('orange', 1)])"
      ],
      "metadata": {
        "colab": {
          "base_uri": "https://localhost:8080/"
        },
        "id": "nwppGzAg9oEQ",
        "outputId": "9ba0061b-9639-4bfe-d974-d3478684c6dc"
      },
      "execution_count": null,
      "outputs": [
        {
          "output_type": "execute_result",
          "data": {
            "text/plain": [
              "{'apple': 3, 'banana': 2, 'orange': 1, 'pear': 5}"
            ]
          },
          "metadata": {},
          "execution_count": 28
        }
      ]
    },
    {
      "cell_type": "code",
      "source": [
        "dict_ = {\n",
        "    'apple': 3, \n",
        "    'banana': 2, \n",
        "    'orange': 1, \n",
        "    'pear': 5\n",
        "}\n",
        "print(dict(sorted(dict_.items(), key=lambda item: item[1])))"
      ],
      "metadata": {
        "colab": {
          "base_uri": "https://localhost:8080/"
        },
        "id": "iX3PvSRA7cW7",
        "outputId": "9255e263-ca5f-492a-fb21-855c7121a8ae"
      },
      "execution_count": null,
      "outputs": [
        {
          "output_type": "stream",
          "name": "stdout",
          "text": [
            "{'orange': 1, 'banana': 2, 'apple': 3, 'pear': 5}\n"
          ]
        }
      ]
    },
    {
      "cell_type": "code",
      "source": [
        "get_fruit_count = itemgetter(1)\n",
        "print(dict(sorted(dict_.items(), key=get_fruit_count)))"
      ],
      "metadata": {
        "colab": {
          "base_uri": "https://localhost:8080/"
        },
        "id": "Q_qmqLkR9xF7",
        "outputId": "f76d6960-cc5a-4254-ba73-2d3a2e3e928c"
      },
      "execution_count": null,
      "outputs": [
        {
          "output_type": "stream",
          "name": "stdout",
          "text": [
            "{'orange': 1, 'banana': 2, 'apple': 3, 'pear': 5}\n"
          ]
        }
      ]
    },
    {
      "cell_type": "markdown",
      "source": [
        "Но лучше использовать модуль [operator](https://docs.python.org/3/library/operator.html#operator.itemgetter)"
      ],
      "metadata": {
        "id": "L8L6Ianj7-8y"
      }
    },
    {
      "cell_type": "markdown",
      "metadata": {
        "id": "gE9bEosofT0B"
      },
      "source": [
        "# Декораторы\n",
        " \n",
        "Паттерн **декоратор** предназначен для подключения дополнительного поведения  \n",
        "к основному объекту, которое будет выполняться до, после или вместо  \n",
        "поведения основного объекта.  \n",
        "\n",
        "Например, хотим включать таймер до вызова функции и выключать после,  \n",
        "а потом – выдавать результат."
      ]
    },
    {
      "cell_type": "code",
      "metadata": {
        "trusted": true,
        "id": "F_myyQyWfT0C"
      },
      "source": [
        "def my_decorator(a_function_to_decorate):\n",
        "    # Здесь мы определяем новую функцию – wrapper («обертку»).  \n",
        "    # Она нам нужна, чтобы выполнять каждый раз при\n",
        "    # вызове оригинальной функции, а не только один раз\n",
        "    def wrapper():\n",
        "        # здесь поместим код, которые будет выполняться до вызова, потом вызов\n",
        "        # оригинальной функции, потом код после вызова\n",
        "        print(\"Я буду выполнен до основного вызова!\")\n",
        "        \n",
        "        result = a_function_to_decorate()  # не забываем вернуть значение исходной функции\n",
        "        \n",
        "        print(\"Я буду выполнен после основного вызова!\")\n",
        "        return result\n",
        "    return wrapper"
      ],
      "execution_count": null,
      "outputs": []
    },
    {
      "cell_type": "code",
      "metadata": {
        "trusted": true,
        "id": "HU1yDYKEfT0C",
        "colab": {
          "base_uri": "https://localhost:8080/"
        },
        "outputId": "e4fd125a-aad2-4ce6-ce0e-613b61e67d8e"
      },
      "source": [
        "def my_function():\n",
        "    print(\"Я – оборачиваемая функция!\")\n",
        "    return 0\n",
        "print(my_function)\n",
        "\n",
        "my_function = my_decorator(my_function)  # замыкание\n",
        "print(my_function)"
      ],
      "execution_count": null,
      "outputs": [
        {
          "output_type": "stream",
          "name": "stdout",
          "text": [
            "<function my_function at 0x7fa49a687290>\n",
            "<function my_decorator.<locals>.wrapper at 0x7fa49a670170>\n"
          ]
        }
      ]
    },
    {
      "cell_type": "code",
      "metadata": {
        "trusted": true,
        "id": "7D0oF0J7fT0D",
        "colab": {
          "base_uri": "https://localhost:8080/"
        },
        "outputId": "2205b5f6-0ede-4a88-fb46-33af4e0a0bbd"
      },
      "source": [
        "result = my_function()\n",
        "print(result)"
      ],
      "execution_count": null,
      "outputs": [
        {
          "output_type": "stream",
          "name": "stdout",
          "text": [
            "Я буду выполнен до основного вызова!\n",
            "Я – оборачиваемая функция!\n",
            "Я буду выполнен после основного вызова!\n",
            "0\n"
          ]
        }
      ]
    },
    {
      "cell_type": "markdown",
      "metadata": {
        "id": "NOU0FcOffT0D"
      },
      "source": [
        "Что теперь будет в переменной `my_function`?  \n",
        "Функция `my_function`, декоратор `my_decorator` или может быть `wrapper`?"
      ]
    },
    {
      "cell_type": "code",
      "metadata": {
        "trusted": true,
        "id": "zaSpebC-fT0E",
        "colab": {
          "base_uri": "https://localhost:8080/"
        },
        "outputId": "bc98b9dc-a735-420f-9759-d5110fb30e98"
      },
      "source": [
        "print(my_function)"
      ],
      "execution_count": null,
      "outputs": [
        {
          "output_type": "stream",
          "name": "stdout",
          "text": [
            "<function my_decorator.<locals>.wrapper at 0x7fa49a670170>\n"
          ]
        }
      ]
    },
    {
      "cell_type": "code",
      "metadata": {
        "trusted": true,
        "id": "kRXngBtwfT0E",
        "colab": {
          "base_uri": "https://localhost:8080/"
        },
        "outputId": "d353dda9-cb26-4d1c-c55d-b8e045dd2383"
      },
      "source": [
        "print(my_function())"
      ],
      "execution_count": null,
      "outputs": [
        {
          "output_type": "stream",
          "name": "stdout",
          "text": [
            "Я буду выполнен до основного вызова!\n",
            "Я – оборачиваемая функция!\n",
            "Я буду выполнен после основного вызова!\n",
            "0\n"
          ]
        }
      ]
    },
    {
      "cell_type": "markdown",
      "metadata": {
        "id": "8KztyBczfT0F"
      },
      "source": [
        "И так будет ~~с каждым~~ при каждом вызове,  \n",
        "а не только с на момент инициализации.  \n",
        "Одним и тем же декоратором можно обвернуть любую функцию."
      ]
    },
    {
      "cell_type": "markdown",
      "metadata": {
        "id": "SEL8bHIRfT0F"
      },
      "source": [
        "---\n",
        "### Пример декоратора\n",
        "Давайте реализуем этот паттерн на Python.  \n",
        "Поведение декоратора должно выполняться каждый раз,  \n",
        "когда вызывается оригинальная функция.  \n",
        "\n",
        "Нам понадобится функция, которая будет возвращать функцию,  \n",
        "внутри которой будет выполняться дополнительное и основное поведение."
      ]
    },
    {
      "cell_type": "code",
      "metadata": {
        "trusted": true,
        "id": "n-ISHfMifT0F",
        "colab": {
          "base_uri": "https://localhost:8080/"
        },
        "outputId": "6b80b6ba-0868-485a-9e53-8bdd28b4462d"
      },
      "source": [
        "# пример с посчетом времени выполнения функции\n",
        "import time\n",
        "\n",
        "\n",
        "def decorator_time(fn):\n",
        "    def wrapper():\n",
        "        print(f\"Запустилась функция {fn}\")\n",
        "        t0 = time.time()\n",
        "        result = fn()\n",
        "        dt = time.time() - t0\n",
        "        print(f\"Функция выполнилась. Время: {dt:.10f}\")\n",
        "        return result\n",
        "    return wrapper\n",
        "\n",
        "def pow_2():\n",
        "    return 10000000 ** 2\n",
        "\n",
        "def in_build_pow():\n",
        "    return pow(10000000, 2)\n",
        "\n",
        "\n",
        "pow_2 = decorator_time(pow_2)\n",
        "in_build_pow = decorator_time(in_build_pow)\n",
        "\n",
        "print(pow_2())\n",
        "print(in_build_pow())"
      ],
      "execution_count": null,
      "outputs": [
        {
          "output_type": "stream",
          "name": "stdout",
          "text": [
            "Запустилась функция <function pow_2 at 0x7fa49a5ee830>\n",
            "Функция выполнилась. Время: 0.0000007153\n",
            "100000000000000\n",
            "Запустилась функция <function in_build_pow at 0x7fa49a5eeb90>\n",
            "Функция выполнилась. Время: 0.0000019073\n",
            "100000000000000\n"
          ]
        }
      ]
    },
    {
      "cell_type": "code",
      "metadata": {
        "id": "eWKzTT_lYmiT"
      },
      "source": [
        "def in_build_pow(base):\n",
        "    return pow(base, 2)\n",
        "\n",
        "def time(fn):\n",
        "    print(f\"Запустилась функция {fn}\")\n",
        "    t0 = time.time()\n",
        "    result = fn()\n",
        "    dt = time.time() - t0\n",
        "    print(f\"Функция выполнилась. Время: {dt:.10f}\")\n",
        "    return result"
      ],
      "execution_count": null,
      "outputs": []
    },
    {
      "cell_type": "markdown",
      "metadata": {
        "id": "RdhfpCqpfT0G"
      },
      "source": [
        "---\n",
        "### Синтаксический сахар\n",
        "Данная конструкция была настолько часто используема в языке,  \n",
        "что ее оформили в качестве синтаксической конструкции\n",
        "\n",
        "```python\n",
        "@my_decorator  # my_function = my_decorator(my_function)\n",
        "def my_function():\n",
        "    pass\n",
        "```\n",
        "\n",
        "При этом будет происходить все то же самое, аналогичное\n",
        "```python\n",
        "my_function = my_decorator(my_function)\n",
        "```"
      ]
    },
    {
      "cell_type": "code",
      "metadata": {
        "trusted": true,
        "id": "rYaQYvUTfT0G"
      },
      "source": [
        "# объявляем декоратор\n",
        "def do_it_twice(func):\n",
        "    print(\"Я выполняюсь на момент декорирования\")\n",
        "    def wrapper():\n",
        "        func()\n",
        "        func()\n",
        "    return wrapper"
      ],
      "execution_count": null,
      "outputs": []
    },
    {
      "cell_type": "code",
      "metadata": {
        "trusted": true,
        "id": "Nsdf1lgBfT0G",
        "colab": {
          "base_uri": "https://localhost:8080/"
        },
        "outputId": "3ffb9952-2a12-4422-95fd-c682e9eb0f0b"
      },
      "source": [
        "# декорируем функцию\n",
        "@do_it_twice  # say_whee = do_it_twice(say_whee)\n",
        "def say_whee():\n",
        "    print(\"Whee!\")"
      ],
      "execution_count": null,
      "outputs": [
        {
          "output_type": "stream",
          "name": "stdout",
          "text": [
            "Я выполняюсь на момент декорирования\n"
          ]
        }
      ]
    },
    {
      "cell_type": "code",
      "metadata": {
        "trusted": true,
        "id": "R7Ek3FvefT0H",
        "colab": {
          "base_uri": "https://localhost:8080/"
        },
        "outputId": "ef3ce46a-4c01-4c61-f51f-e66b77eb7959"
      },
      "source": [
        "# вызываем задекорированую функцию\n",
        "say_whee()"
      ],
      "execution_count": null,
      "outputs": [
        {
          "output_type": "stream",
          "name": "stdout",
          "text": [
            "Whee!\n",
            "Whee!\n"
          ]
        }
      ]
    },
    {
      "cell_type": "code",
      "metadata": {
        "trusted": true,
        "id": "TqNmSRMAfT0H",
        "colab": {
          "base_uri": "https://localhost:8080/"
        },
        "outputId": "33a0712d-56fe-4a0a-8396-7fb0397c55d7"
      },
      "source": [
        "# какая функция скрывается под переменной say_whee??\n",
        "print(say_whee)"
      ],
      "execution_count": null,
      "outputs": [
        {
          "output_type": "stream",
          "name": "stdout",
          "text": [
            "<function do_it_twice.<locals>.wrapper at 0x7fa49a5ee170>\n"
          ]
        }
      ]
    },
    {
      "cell_type": "markdown",
      "metadata": {
        "id": "xbm1voisfT0I"
      },
      "source": [
        "---\n",
        "### Передача аргументов в декорируемую функцию\n",
        "До этого мы с вами декорировали только функции без параметров.  \n",
        "А как их передавать?"
      ]
    },
    {
      "cell_type": "markdown",
      "metadata": {
        "id": "72p1jI7wfT0I"
      },
      "source": [
        "Попробуем задекорировать функцию, которая умеет принимать параметры"
      ]
    },
    {
      "cell_type": "code",
      "metadata": {
        "trusted": true,
        "id": "yohDUpsofT0I",
        "colab": {
          "base_uri": "https://localhost:8080/",
          "height": 218
        },
        "outputId": "d690e899-d87d-4b9a-b64a-d1fcd30dc73a"
      },
      "source": [
        "def do_it_twice(func):\n",
        "    def wrapper():\n",
        "        func()\n",
        "        func()\n",
        "    return wrapper\n",
        "\n",
        "@do_it_twice\n",
        "def say_word(word):\n",
        "    print(word)\n",
        "\n",
        "say_word(\"Oo!!!\")  # TypeError: wrapper() takes 0 positional arguments but 1 was given"
      ],
      "execution_count": null,
      "outputs": [
        {
          "output_type": "error",
          "ename": "TypeError",
          "evalue": "ignored",
          "traceback": [
            "\u001b[0;31m---------------------------------------------------------------------------\u001b[0m",
            "\u001b[0;31mTypeError\u001b[0m                                 Traceback (most recent call last)",
            "\u001b[0;32m<ipython-input-47-8d7aedff8f9c>\u001b[0m in \u001b[0;36m<module>\u001b[0;34m()\u001b[0m\n\u001b[1;32m      9\u001b[0m     \u001b[0mprint\u001b[0m\u001b[0;34m(\u001b[0m\u001b[0mword\u001b[0m\u001b[0;34m)\u001b[0m\u001b[0;34m\u001b[0m\u001b[0;34m\u001b[0m\u001b[0m\n\u001b[1;32m     10\u001b[0m \u001b[0;34m\u001b[0m\u001b[0m\n\u001b[0;32m---> 11\u001b[0;31m \u001b[0msay_word\u001b[0m\u001b[0;34m(\u001b[0m\u001b[0;34m\"Oo!!!\"\u001b[0m\u001b[0;34m)\u001b[0m  \u001b[0;31m# TypeError: wrapper() takes 0 positional arguments but 1 was given\u001b[0m\u001b[0;34m\u001b[0m\u001b[0;34m\u001b[0m\u001b[0m\n\u001b[0m",
            "\u001b[0;31mTypeError\u001b[0m: wrapper() takes 0 positional arguments but 1 was given"
          ]
        }
      ]
    },
    {
      "cell_type": "markdown",
      "metadata": {
        "id": "rmffqMqofT0I"
      },
      "source": [
        "Напомним, что декораторы – это лишь обертка над\n",
        "```python\n",
        "my_fun = my_decorator(my_fun)\n",
        "```\n",
        "\n",
        "И каждый следующий вызов `my_fun` – это вызов `wrapper`.  \n",
        "Следовательно, `wrapper` должен уметь принимать параметры и  \n",
        "передавать их в вызываемую функцию."
      ]
    },
    {
      "cell_type": "code",
      "metadata": {
        "trusted": true,
        "id": "u2Yh6y-ufT0I",
        "colab": {
          "base_uri": "https://localhost:8080/"
        },
        "outputId": "e959660a-6cdd-4378-915d-eb3c88077901"
      },
      "source": [
        "# декоратор, в котором встроенная функция умеет принимать аргументы\n",
        "def do_it_twice(func):\n",
        "    def wrapper(arg):\n",
        "        func(arg)\n",
        "        func(arg)\n",
        "    return wrapper\n",
        "\n",
        "@do_it_twice\n",
        "def say_word(word):\n",
        "    print(word)\n",
        "\n",
        "say_word(\"Oo!!!\")"
      ],
      "execution_count": null,
      "outputs": [
        {
          "output_type": "stream",
          "name": "stdout",
          "text": [
            "Oo!!!\n",
            "Oo!!!\n"
          ]
        }
      ]
    },
    {
      "cell_type": "code",
      "metadata": {
        "trusted": true,
        "id": "HArd-jtcfT0J",
        "colab": {
          "base_uri": "https://localhost:8080/"
        },
        "outputId": "606c3a96-6f35-43e9-fabf-118a233b7aa8"
      },
      "source": [
        "say_word(\"Hello!!\")"
      ],
      "execution_count": null,
      "outputs": [
        {
          "output_type": "stream",
          "name": "stdout",
          "text": [
            "Hello!!\n",
            "Hello!!\n"
          ]
        }
      ]
    },
    {
      "cell_type": "code",
      "metadata": {
        "colab": {
          "base_uri": "https://localhost:8080/"
        },
        "id": "d3IkMuCFiZue",
        "outputId": "430b3c2f-4ff1-4bd8-be75-9e2de31063a2"
      },
      "source": [
        "@do_it_twice\n",
        "def two_print(other_word):\n",
        "    print(other_word)\n",
        "\n",
        "two_print(\"rewrwe\")"
      ],
      "execution_count": null,
      "outputs": [
        {
          "output_type": "stream",
          "name": "stdout",
          "text": [
            "rewrwe\n",
            "rewrwe\n"
          ]
        }
      ]
    },
    {
      "cell_type": "code",
      "metadata": {
        "colab": {
          "base_uri": "https://localhost:8080/"
        },
        "id": "isp84hD3i41w",
        "outputId": "2ccb6f64-991f-40cc-d891-eb1a439143bf"
      },
      "source": [
        "say_word(\"Hello!!\")\n",
        "two_print(\"rewrwe\")"
      ],
      "execution_count": null,
      "outputs": [
        {
          "output_type": "stream",
          "name": "stdout",
          "text": [
            "Hello!!\n",
            "Hello!!\n",
            "rewrwe\n",
            "rewrwe\n"
          ]
        }
      ]
    },
    {
      "cell_type": "markdown",
      "metadata": {
        "id": "b0PdLJKtzgCF"
      },
      "source": [
        "### args и kwargs"
      ]
    },
    {
      "cell_type": "markdown",
      "metadata": {
        "id": "RkLKQLI-zvoZ"
      },
      "source": [
        "Оператор `*` распаковывает множественные значения.  \n"
      ]
    },
    {
      "cell_type": "code",
      "metadata": {
        "colab": {
          "base_uri": "https://localhost:8080/"
        },
        "id": "xFO0Q0ZjjP-2",
        "outputId": "8331ba30-f0e0-4464-96ad-f0cb1b92c064"
      },
      "source": [
        "a, b = 1, 2\n",
        "print(a)\n",
        "print(b)"
      ],
      "execution_count": null,
      "outputs": [
        {
          "output_type": "stream",
          "name": "stdout",
          "text": [
            "1\n",
            "2\n"
          ]
        }
      ]
    },
    {
      "cell_type": "code",
      "metadata": {
        "colab": {
          "base_uri": "https://localhost:8080/"
        },
        "id": "O6lDY5lMjU07",
        "outputId": "db6e94dd-48e1-4e68-c7fa-0ddded846710"
      },
      "source": [
        "a = 1, 2\n",
        "print(a)"
      ],
      "execution_count": null,
      "outputs": [
        {
          "output_type": "stream",
          "name": "stdout",
          "text": [
            "(1, 2)\n"
          ]
        }
      ]
    },
    {
      "cell_type": "code",
      "metadata": {
        "colab": {
          "base_uri": "https://localhost:8080/"
        },
        "id": "HYOuPEtGjt5z",
        "outputId": "0fe56009-d9f6-47f4-b0ae-b77845e6aa66"
      },
      "source": [
        "tuple_ = 1, \n",
        "first_value, *last_values = tuple_\n",
        "print(first_value)\n",
        "print(last_values)"
      ],
      "execution_count": null,
      "outputs": [
        {
          "output_type": "stream",
          "name": "stdout",
          "text": [
            "(1,)\n",
            "[]\n"
          ]
        }
      ]
    },
    {
      "cell_type": "code",
      "source": [
        "tuple_ = 1, 2, 3, 4, 5 \n",
        "first_value, *last_values = tuple_\n",
        "print(first_value)\n",
        "print(last_values)"
      ],
      "metadata": {
        "id": "o0gmgf62sig1"
      },
      "execution_count": null,
      "outputs": []
    },
    {
      "cell_type": "code",
      "metadata": {
        "colab": {
          "base_uri": "https://localhost:8080/"
        },
        "id": "YRF5UzI4j4R4",
        "outputId": "e1e56bec-9f9b-4764-ea45-d263468906d6"
      },
      "source": [
        "tuple_ = 1, 2, 3, 4, 5\n",
        "*first_values, last_value = tuple_\n",
        "print(first_values)\n",
        "print(last_value)"
      ],
      "execution_count": null,
      "outputs": [
        {
          "output_type": "stream",
          "name": "stdout",
          "text": [
            "[1, 2, 3, 4]\n",
            "5\n"
          ]
        }
      ]
    },
    {
      "cell_type": "code",
      "metadata": {
        "colab": {
          "base_uri": "https://localhost:8080/"
        },
        "id": "_hx8m0KI0cdG",
        "outputId": "15d5edc2-17e5-4ba1-d990-b64a5ff8a900"
      },
      "source": [
        "tuple_ = 1, 2, 3, 4, 5\n",
        "first_value, *middle_values, last_value = tuple_\n",
        "print(first_value)\n",
        "print(middle_values)\n",
        "print(last_value)"
      ],
      "execution_count": null,
      "outputs": [
        {
          "output_type": "stream",
          "name": "stdout",
          "text": [
            "1\n",
            "[2, 3, 4]\n",
            "5\n"
          ]
        }
      ]
    },
    {
      "cell_type": "code",
      "metadata": {
        "colab": {
          "base_uri": "https://localhost:8080/"
        },
        "id": "ioRVhII0k2o7",
        "outputId": "f0976d5f-4d82-4b85-d9b3-57406d95637e"
      },
      "source": [
        "tuple_ = 1, 2, 3, 4, 5\n",
        "first_value, *middle_values, prev_last_value, last_value = tuple_\n",
        "print(first_value)\n",
        "print(middle_values)\n",
        "print(prev_last_value)\n",
        "print(last_value)"
      ],
      "execution_count": null,
      "outputs": [
        {
          "output_type": "stream",
          "name": "stdout",
          "text": [
            "1\n",
            "[2, 3]\n",
            "4\n",
            "5\n"
          ]
        }
      ]
    },
    {
      "cell_type": "code",
      "source": [
        "print(middle_values)"
      ],
      "metadata": {
        "colab": {
          "base_uri": "https://localhost:8080/"
        },
        "id": "nrUsQsAAulga",
        "outputId": "9a93f6db-c186-47bc-b46a-ca131a1708e3"
      },
      "execution_count": null,
      "outputs": [
        {
          "output_type": "stream",
          "name": "stdout",
          "text": [
            "[2, 3]\n"
          ]
        }
      ]
    },
    {
      "cell_type": "code",
      "source": [
        "print(*middle_values)"
      ],
      "metadata": {
        "colab": {
          "base_uri": "https://localhost:8080/"
        },
        "id": "0WqxEu9aurNR",
        "outputId": "45dde8cd-b426-47bf-8c22-e7c323a31366"
      },
      "execution_count": null,
      "outputs": [
        {
          "output_type": "stream",
          "name": "stdout",
          "text": [
            "2 3\n"
          ]
        }
      ]
    },
    {
      "cell_type": "code",
      "metadata": {
        "colab": {
          "base_uri": "https://localhost:8080/"
        },
        "id": "PXSzsrrL0xSh",
        "outputId": "c67adda5-19b9-4af1-eac1-9abbd8344c25"
      },
      "source": [
        "list_ = [1, 2]\n",
        "first_value, *middle_values, last_value = list_\n",
        "print(first_value)\n",
        "print(middle_values)\n",
        "print(last_value)"
      ],
      "execution_count": null,
      "outputs": [
        {
          "output_type": "stream",
          "name": "stdout",
          "text": [
            "1\n",
            "[]\n",
            "2\n"
          ]
        }
      ]
    },
    {
      "cell_type": "code",
      "metadata": {
        "colab": {
          "base_uri": "https://localhost:8080/",
          "height": 235
        },
        "id": "wqwJ0DAR04ax",
        "outputId": "4e679cd8-6284-473e-b885-93bb17503d49"
      },
      "source": [
        "list_ = [1]\n",
        "first_value, *middle_values, last_value = list_\n",
        "print(first_value)\n",
        "print(middle_values)\n",
        "print(last_value)"
      ],
      "execution_count": null,
      "outputs": [
        {
          "output_type": "error",
          "ename": "ValueError",
          "evalue": "ignored",
          "traceback": [
            "\u001b[0;31m---------------------------------------------------------------------------\u001b[0m",
            "\u001b[0;31mValueError\u001b[0m                                Traceback (most recent call last)",
            "\u001b[0;32m<ipython-input-64-ebcb6389e293>\u001b[0m in \u001b[0;36m<module>\u001b[0;34m()\u001b[0m\n\u001b[1;32m      1\u001b[0m \u001b[0mlist_\u001b[0m \u001b[0;34m=\u001b[0m \u001b[0;34m[\u001b[0m\u001b[0;36m1\u001b[0m\u001b[0;34m]\u001b[0m\u001b[0;34m\u001b[0m\u001b[0;34m\u001b[0m\u001b[0m\n\u001b[0;32m----> 2\u001b[0;31m \u001b[0mfirst_value\u001b[0m\u001b[0;34m,\u001b[0m \u001b[0;34m*\u001b[0m\u001b[0mmiddle_values\u001b[0m\u001b[0;34m,\u001b[0m \u001b[0mlast_value\u001b[0m \u001b[0;34m=\u001b[0m \u001b[0mlist_\u001b[0m\u001b[0;34m\u001b[0m\u001b[0;34m\u001b[0m\u001b[0m\n\u001b[0m\u001b[1;32m      3\u001b[0m \u001b[0mprint\u001b[0m\u001b[0;34m(\u001b[0m\u001b[0mfirst_value\u001b[0m\u001b[0;34m)\u001b[0m\u001b[0;34m\u001b[0m\u001b[0;34m\u001b[0m\u001b[0m\n\u001b[1;32m      4\u001b[0m \u001b[0mprint\u001b[0m\u001b[0;34m(\u001b[0m\u001b[0mmiddle_values\u001b[0m\u001b[0;34m)\u001b[0m\u001b[0;34m\u001b[0m\u001b[0;34m\u001b[0m\u001b[0m\n\u001b[1;32m      5\u001b[0m \u001b[0mprint\u001b[0m\u001b[0;34m(\u001b[0m\u001b[0mlast_value\u001b[0m\u001b[0;34m)\u001b[0m\u001b[0;34m\u001b[0m\u001b[0;34m\u001b[0m\u001b[0m\n",
            "\u001b[0;31mValueError\u001b[0m: not enough values to unpack (expected at least 2, got 1)"
          ]
        }
      ]
    },
    {
      "cell_type": "markdown",
      "metadata": {
        "id": "wbBCVEJn1TH9"
      },
      "source": [
        "Существует два типа параметров функции\n",
        "\n",
        "- позиционные - *args — это сокращение от arguments (аргументы)\n",
        "- именованные - **kwargs — это сокращение от keyword arguments (именованные аргументы)"
      ]
    },
    {
      "cell_type": "code",
      "metadata": {
        "colab": {
          "base_uri": "https://localhost:8080/"
        },
        "id": "WrK9mUtKzqHR",
        "outputId": "e5c11227-f6c2-47e7-d6e4-ff554e0e53f1"
      },
      "source": [
        "def print_args(*args):\n",
        "    print(type(args), args)\n",
        "\n",
        "print_args()\n",
        "print_args(1)\n",
        "print_args(1, 2, 3)"
      ],
      "execution_count": null,
      "outputs": [
        {
          "output_type": "stream",
          "name": "stdout",
          "text": [
            "<class 'tuple'> ()\n",
            "<class 'tuple'> (1,)\n",
            "<class 'tuple'> (1, 2, 3)\n"
          ]
        }
      ]
    },
    {
      "cell_type": "code",
      "metadata": {
        "colab": {
          "base_uri": "https://localhost:8080/"
        },
        "id": "yIPyS7d7z-N0",
        "outputId": "3ac74661-fa07-4eda-9393-df61184a4533"
      },
      "source": [
        "def print_kwargs(**kwargs):\n",
        "    print(type(kwargs), kwargs)\n",
        "\n",
        "print_kwargs()\n",
        "print_kwargs(kwarg1=\"kwarg1\")\n",
        "print_kwargs(kwarg1=\"kwarg1\", kwarg2=\"kwarg2\")"
      ],
      "execution_count": null,
      "outputs": [
        {
          "output_type": "stream",
          "name": "stdout",
          "text": [
            "<class 'dict'> {}\n",
            "<class 'dict'> {'kwarg1': 'kwarg1'}\n",
            "<class 'dict'> {'kwarg1': 'kwarg1', 'kwarg2': 'kwarg2'}\n"
          ]
        }
      ]
    },
    {
      "cell_type": "code",
      "metadata": {
        "colab": {
          "base_uri": "https://localhost:8080/"
        },
        "id": "NojwhdDd0MH-",
        "outputId": "dc107f40-88c7-4e8c-f4ee-e6253016a5bf"
      },
      "source": [
        "def print_args_kwargs(*args, **kwargs):\n",
        "    for index, arg in enumerate(args):\n",
        "        print(f\"Позиционный аргумент {index}: {arg}\")\n",
        "\n",
        "    for key, kwarg in kwargs.items():\n",
        "        print(f\"Именованный аргумент {key}: {kwarg}\")\n",
        "\n",
        "print_args_kwargs(1, 2, 3, kwarg1=\"kwarg1\", kwarg2=\"kwarg2\")"
      ],
      "execution_count": null,
      "outputs": [
        {
          "output_type": "stream",
          "name": "stdout",
          "text": [
            "Позиционный аргумент 0: 1\n",
            "Позиционный аргумент 1: 2\n",
            "Позиционный аргумент 2: 3\n",
            "Именованный аргумент kwarg1: kwarg1\n",
            "Именованный аргумент kwarg2: kwarg2\n"
          ]
        }
      ]
    },
    {
      "cell_type": "markdown",
      "metadata": {
        "id": "fA5wpmB8zqZt"
      },
      "source": [
        "Для тех кто захочет подробнее её изучить, можно воспользоваться следующим [материалом](https://habr.com/ru/company/ruvds/blog/482464/)"
      ]
    },
    {
      "cell_type": "markdown",
      "metadata": {
        "id": "_ZjZ1y-tfT0J"
      },
      "source": [
        "---\n",
        "### Передача переменного количества аргументов в декорируемую функцию\n",
        "Логичный вопрос – а как передавать параметры, если мы не знаем, что будет вызвано?"
      ]
    },
    {
      "cell_type": "code",
      "metadata": {
        "trusted": true,
        "id": "5-podrh4fT0J"
      },
      "source": [
        "def do_it_twice(func):\n",
        "    def wrapper(arg):\n",
        "        func(arg)\n",
        "        func(arg)\n",
        "    return wrapper\n",
        "\n",
        "@do_it_twice\n",
        "def say_word(word):\n",
        "    print(word)\n",
        "    \n",
        "@do_it_twice\n",
        "def say_two_words(word1, word2):\n",
        "    print(f\"{word1}, {word2}\")"
      ],
      "execution_count": null,
      "outputs": []
    },
    {
      "cell_type": "code",
      "metadata": {
        "trusted": true,
        "id": "9NLXAgWKfT0K",
        "colab": {
          "base_uri": "https://localhost:8080/"
        },
        "outputId": "b2ea384f-7e31-4c3d-be21-f32e1f19f7f1"
      },
      "source": [
        "say_word(\"Hello\")"
      ],
      "execution_count": null,
      "outputs": [
        {
          "output_type": "stream",
          "name": "stdout",
          "text": [
            "Hello\n",
            "Hello\n"
          ]
        }
      ]
    },
    {
      "cell_type": "code",
      "metadata": {
        "trusted": true,
        "id": "QVhwVtUkfT0K",
        "colab": {
          "base_uri": "https://localhost:8080/",
          "height": 166
        },
        "outputId": "a2551993-c47b-4278-c77e-949eb36935e9"
      },
      "source": [
        "say_two_words(\"Hello\", \"World\")"
      ],
      "execution_count": null,
      "outputs": [
        {
          "output_type": "error",
          "ename": "TypeError",
          "evalue": "ignored",
          "traceback": [
            "\u001b[0;31m---------------------------------------------------------------------------\u001b[0m",
            "\u001b[0;31mTypeError\u001b[0m                                 Traceback (most recent call last)",
            "\u001b[0;32m<ipython-input-73-bc89b8217027>\u001b[0m in \u001b[0;36m<module>\u001b[0;34m()\u001b[0m\n\u001b[0;32m----> 1\u001b[0;31m \u001b[0msay_two_words\u001b[0m\u001b[0;34m(\u001b[0m\u001b[0;34m\"Hello\"\u001b[0m\u001b[0;34m,\u001b[0m \u001b[0;34m\"World\"\u001b[0m\u001b[0;34m)\u001b[0m\u001b[0;34m\u001b[0m\u001b[0;34m\u001b[0m\u001b[0m\n\u001b[0m",
            "\u001b[0;31mTypeError\u001b[0m: wrapper() takes 1 positional argument but 2 were given"
          ]
        }
      ]
    },
    {
      "cell_type": "markdown",
      "metadata": {
        "id": "aj4fky9OfT0K"
      },
      "source": [
        "Чтобы решить этот вопрос нужно использовать **\\*args** и **\\*\\*kwargs**."
      ]
    },
    {
      "cell_type": "code",
      "metadata": {
        "colab": {
          "base_uri": "https://localhost:8080/"
        },
        "id": "UEuaBmqD1pI7",
        "outputId": "acf66375-3184-472a-a9f9-85cc0461085a"
      },
      "source": [
        "def do_it_twice(func):\n",
        "    def wrapper(*args, **kwargs):\n",
        "        func(*args, **kwargs)\n",
        "        func(*args, **kwargs)\n",
        "    return wrapper\n",
        "\n",
        "@do_it_twice\n",
        "def say_word(word):\n",
        "    print(word)\n",
        "    \n",
        "@do_it_twice\n",
        "def say_two_words(word1, word2):\n",
        "    print(f\"{word1}, {word2}\")\n",
        "\n",
        "\n",
        "say_word(\"Hello\")\n",
        "say_two_words(\"Hello\", \"World\")"
      ],
      "execution_count": null,
      "outputs": [
        {
          "output_type": "stream",
          "name": "stdout",
          "text": [
            "Hello\n",
            "Hello\n",
            "Hello, World\n",
            "Hello, World\n"
          ]
        }
      ]
    },
    {
      "cell_type": "markdown",
      "metadata": {
        "id": "AZOK8ao6fT0K"
      },
      "source": [
        "### Порядок декорирования\n",
        "Порядок декорирования важен!\n",
        "\n",
        "Т.к. декоратор – синтаксическая обертка, при разном порядке декораторов будут разные результаты обертывания\n",
        "\n",
        "```python\n",
        "# Это не одно и тоже\n",
        "my_fun = wrap1(wrap2(my_fun))\n",
        "my_fun = wrap2(wrap1(my_fun))\n",
        "```\n",
        "Или альтернативный вариант оформления\n",
        "```python\n",
        "@wrap1\n",
        "@wrap2\n",
        "def my_fun():\n",
        "    pass\n",
        "\n",
        "# функция будет иметь другое поведение\n",
        "@wrap2\n",
        "@wrap1\n",
        "def my_fun():\n",
        "    pass\n",
        "```"
      ]
    },
    {
      "cell_type": "markdown",
      "metadata": {
        "id": "M8jE1O87fT0O"
      },
      "source": [
        "### Итоги\n",
        "Подведем черту под темой декораторов.\n",
        "\n",
        "Паттерн декоратор нужен для того, чтобы добавлять  \n",
        "дополнительное поведение вызываемой функции  \n",
        "\n",
        "**Основной шаблон выглядит вот так**:\n",
        "```python\n",
        "def my_decorator(fn):\n",
        "    print(\"Этот код будет выведен в момент декорирования функции\")\n",
        "    def wrapper(*args, **kwargs):\n",
        "        print('Этот код будет выполняться перед каждым вызовом функции')\n",
        "        result = fn(*args, **kwargs)\n",
        "        print('Этот код будет выполняться после каждого вызова функции')\n",
        "        return result\n",
        "    return wrapper\n",
        "```\n",
        "\n",
        "- Декораторы добавляют дополнительное поведение функции\n",
        "- Декораторы – вызовы дополнительных функций, поэтому  \n",
        "они немного замедляют ваш код\n",
        "- Порядок декорирования важен\n",
        "- Декоратор вызывается один раз, переданные в декоратор  \n",
        "параметры изменить больше нельзя.\n",
        "- Если хотите использовать декораторы, с настраиваемыми  \n",
        "параметрами используйте \"фабрику декораторов\" "
      ]
    },
    {
      "cell_type": "markdown",
      "metadata": {
        "id": "fpSDrziPfT0P"
      },
      "source": [
        "### Где используются декораторы?\n",
        "\n",
        "1. В самом языке есть @classmethod, @staticmethod и @property – подробнее в курсе ООП\n",
        "2. Модуль functools:\n",
        " - @functools.lru_cache\n",
        " - @functools.wraps\n",
        "3. Flask\n",
        " - @app.route('/api/v1/vm', methods=['POST'])\n",
        "4. Django  \n",
        "5. Pytest  \n",
        "..."
      ]
    },
    {
      "cell_type": "markdown",
      "metadata": {
        "id": "Ih9erSA5fT0L"
      },
      "source": [
        "---\n",
        "### Фабрика декораторов *\n",
        "А теперь представьте, что мы хотим создать декоратор, который печатает какое-нибудь слово до вызова функции и после.  \n",
        "А слово хотим задавать в момент декорирования\n",
        "\n",
        "```python\n",
        "@printword('Whee!')\n",
        "def tes(): \n",
        "    pass\n",
        "```\n",
        "\n",
        "Где можно указать этот параметр?"
      ]
    },
    {
      "cell_type": "markdown",
      "metadata": {
        "id": "4YpLdQ31fT0L"
      },
      "source": [
        "Давайте возьмем шаблон и попробуем куда-нибудь вставить  этот параметр.\n",
        "```python\n",
        "def my_decorator(fn):\n",
        "    def wrapper(*args, **kwargs):\n",
        "        result = fn(*args, **kwargs)\n",
        "        return result\n",
        "    return wrapper\n",
        "```\n",
        "\n",
        "В `wrapper` нельзя – там аргументы вызываемой функции.  \n",
        "В `my_decorator` нельзя – он принимает на вход единственный аргумент – функцию, которую обертывает.  \n",
        "Что делать? (подсказка - замыкание функций)"
      ]
    },
    {
      "cell_type": "code",
      "metadata": {
        "trusted": true,
        "id": "rVus-WVDfT0L"
      },
      "source": [
        "def my_decorator(fn, arg):\n",
        "    def wrapper(*args, **kwargs):\n",
        "        result = fn(*args, **kwargs)\n",
        "        return result\n",
        "    return wrapper"
      ],
      "execution_count": null,
      "outputs": []
    },
    {
      "cell_type": "markdown",
      "metadata": {
        "id": "WoNthgWCfT0L"
      },
      "source": [
        "Решение – давайте создадим фабрику декораторов – объект, который будет возвращать декоратор."
      ]
    },
    {
      "cell_type": "code",
      "metadata": {
        "trusted": true,
        "id": "2IKXO3dpfT0M"
      },
      "source": [
        "def decorator_maker(word):\n",
        "    def my_decorator(fun):\n",
        "        def wrapper(*ar, **kw):\n",
        "            print(word)\n",
        "            print('---')\n",
        "            res = fun(*ar, **kw)\n",
        "            print('---')\n",
        "            print(word)\n",
        "            return res\n",
        "        return wrapper\n",
        "    return my_decorator\n",
        "\n",
        "@decorator_maker('Hi!')\n",
        "def f():\n",
        "    print('Hello')\n",
        "\n",
        "f()"
      ],
      "execution_count": null,
      "outputs": []
    },
    {
      "cell_type": "code",
      "metadata": {
        "trusted": true,
        "id": "blLKlcusfT0M"
      },
      "source": [
        "@decorator_maker('ololo')\n",
        "def f1():\n",
        "    print('Hello')\n",
        "\n",
        "f1()"
      ],
      "execution_count": null,
      "outputs": []
    },
    {
      "cell_type": "markdown",
      "metadata": {
        "id": "xSkVO_fTfT0M"
      },
      "source": [
        "В чем отличие от того, что мы разбирали прежде?  \n",
        "\n",
        "Следует отличать указание декоратора и вызов декоратора\n",
        "```python\n",
        "@my_decor\n",
        "def f():\n",
        "    pass\n",
        "```\n",
        "не идентично \n",
        "```python\n",
        "@my_decor()\n",
        "def f()\n",
        "    pass\n",
        "```\n",
        "В первом случае вы используете декоратор, во втором – вызывается «создатель» декораторов, который возвращает декоратор"
      ]
    },
    {
      "cell_type": "markdown",
      "metadata": {
        "id": "3e8TzZGwfT0N"
      },
      "source": [
        "---\n",
        "Хотим сделать декоратор, который будет взависимости от указанного языка приветствовать пользователя"
      ]
    },
    {
      "cell_type": "code",
      "metadata": {
        "trusted": true,
        "id": "Pn2wae3vfT0N"
      },
      "source": [
        "def welcome(language):  # фабрика декораторов\n",
        "    welcome_word = {\"en\": \"Hello!\", \n",
        "                    \"ru\": \"Привет!\"}\n",
        "    def decorator(fn):  # декоратор\n",
        "        def wrapper(*args, **kwargs):  # задекорированная функция\n",
        "            print(welcome_word[language])  # приветствие в зависимости от указанного языка в фабрике декораторов\n",
        "            fn(*args, **kwargs)  # исходная функция\n",
        "        return wrapper\n",
        "    return decorator\n",
        "\n"
      ],
      "execution_count": null,
      "outputs": []
    },
    {
      "cell_type": "code",
      "metadata": {
        "trusted": true,
        "id": "gs1xVua7fT0N"
      },
      "source": [
        "# welcome('ru')(my_func_ru)()\n",
        "# welcome -> decorator -> wrapper -> fn\n",
        "@welcome('ru')\n",
        "def my_func_ru():\n",
        "    print(\"Как дела?\")\n",
        "    \n",
        "my_func_ru()"
      ],
      "execution_count": null,
      "outputs": []
    },
    {
      "cell_type": "code",
      "metadata": {
        "trusted": true,
        "id": "70fxAD8PfT0O"
      },
      "source": [
        "@welcome('en')\n",
        "def my_func_en():\n",
        "    print(\"How are you?\")\n",
        "    \n",
        "my_func_en()\n",
        "print(my_func_en)"
      ],
      "execution_count": null,
      "outputs": []
    },
    {
      "cell_type": "code",
      "metadata": {
        "trusted": true,
        "id": "Bf29mA6wfT0O"
      },
      "source": [
        "@welcome\n",
        "def my_func():\n",
        "    print(\"How are you?\")\n",
        "    \n",
        "print(my_func)"
      ],
      "execution_count": null,
      "outputs": []
    }
  ]
}